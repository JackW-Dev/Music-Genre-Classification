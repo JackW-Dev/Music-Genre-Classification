{
 "cells": [
  {
   "cell_type": "markdown",
   "source": [
    "# K-Nearest Neighbour Model"
   ],
   "metadata": {
    "collapsed": false
   }
  },
  {
   "cell_type": "markdown",
   "source": [
    "## Importing libraries"
   ],
   "metadata": {
    "collapsed": false
   }
  },
  {
   "cell_type": "code",
   "execution_count": 232,
   "outputs": [],
   "source": [
    "from sklearn.neighbors import KNeighborsClassifier\n",
    "from sklearn.model_selection import train_test_split, GridSearchCV\n",
    "import pandas as pd"
   ],
   "metadata": {
    "collapsed": false,
    "pycharm": {
     "name": "#%%\n"
    }
   }
  },
  {
   "cell_type": "markdown",
   "source": [
    "## Reading in CSV data\n",
    "Reading the dataset from a CSV into a DataFrame for use with the model.\n",
    "Remove unnecessary data and split into data and labels."
   ],
   "metadata": {
    "collapsed": false,
    "pycharm": {
     "name": "#%% md\n"
    }
   }
  },
  {
   "cell_type": "code",
   "execution_count": 233,
   "outputs": [],
   "source": [
    "music_df = pd.read_csv(r'D:\\Uni\\Y3\\FYP\\Code\\Music Classification\\extracted-features.csv')\n",
    "\n",
    "# Read in CSV as a Pandas DataFrame\n",
    "# print(music_df)\n",
    "#Drop the TrackNum from the DataFrame (This is not important for classification)\n",
    "music_df.drop('TrackNum', 1, inplace = True)\n",
    "# Check the field has been dropped correctly\n",
    "# print(music_df)\n",
    "\n",
    "# This will contain the data\n",
    "data = music_df.iloc[:, 1:5].values\n",
    "# This will contain the labels corresponding to the data\n",
    "labels = music_df.iloc[:, 0].values"
   ],
   "metadata": {
    "collapsed": false,
    "pycharm": {
     "name": "#%%\n"
    }
   }
  },
  {
   "cell_type": "markdown",
   "source": [
    "## Produce KNN model"
   ],
   "metadata": {
    "collapsed": false,
    "pycharm": {
     "name": "#%% md\n"
    }
   }
  },
  {
   "cell_type": "code",
   "execution_count": 234,
   "outputs": [
    {
     "name": "stdout",
     "output_type": "stream",
     "text": [
      "{'metric': 'manhattan', 'n_neighbors': 23, 'weights': 'distance'}\n"
     ]
    }
   ],
   "source": [
    "data_train, data_test, labels_train, labels_test = train_test_split(data, labels, test_size = 0.30)\n",
    "\n",
    "knn_model = KNeighborsClassifier()\n",
    "\n",
    "param_grid = {\"n_neighbors\": range(1,25),\n",
    "              \"weights\": [\"uniform\", \"distance\"],\n",
    "              \"metric\": [\"euclidean\", \"manhattan\"]}\n",
    "\n",
    "scoring_metrics = {\"Accuracy\": \"accuracy\", \"AUC\": \"roc_auc_ovr\", \"F1\": \"f1_macro\"}\n",
    "\n",
    "# roc_auc_ovr sets the score to use roc_auc in one vs rest mode\n",
    "# StratifiedKFold is used by default for the cross validation\n",
    "knn_grid_search_cv = GridSearchCV(knn_model, param_grid,\n",
    "                                  scoring = scoring_metrics, refit = \"AUC\", cv = 5)\n",
    "\n",
    "knn_grid_search_cv.fit(data_train, labels_train)"
   ],
   "metadata": {
    "collapsed": false,
    "pycharm": {
     "name": "#%%\n"
    }
   }
  }
 ],
 "metadata": {
  "kernelspec": {
   "display_name": "Python 3",
   "language": "python",
   "name": "python3"
  },
  "language_info": {
   "codemirror_mode": {
    "name": "ipython",
    "version": 2
   },
   "file_extension": ".py",
   "mimetype": "text/x-python",
   "name": "python",
   "nbconvert_exporter": "python",
   "pygments_lexer": "ipython2",
   "version": "2.7.6"
  }
 },
 "nbformat": 4,
 "nbformat_minor": 0
}
