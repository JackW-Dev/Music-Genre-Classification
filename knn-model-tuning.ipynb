{
 "cells": [
  {
   "cell_type": "markdown",
   "source": [
    "# K-Nearest Neighbour Model"
   ],
   "metadata": {
    "collapsed": false
   }
  },
  {
   "cell_type": "markdown",
   "source": [
    "## Importing libraries"
   ],
   "metadata": {
    "collapsed": false
   }
  },
  {
   "cell_type": "code",
   "execution_count": 1,
   "outputs": [],
   "source": [
    "import pickle\n",
    "from sklearn.neighbors import KNeighborsClassifier\n",
    "from sklearn.model_selection import train_test_split, GridSearchCV\n",
    "from sklearn.metrics import classification_report\n",
    "import pandas as pd"
   ],
   "metadata": {
    "collapsed": false,
    "pycharm": {
     "name": "#%%\n"
    }
   }
  },
  {
   "cell_type": "markdown",
   "source": [
    "## Reading in CSV data\n",
    "Reading the dataset from a CSV into a DataFrame for use with the model.\n",
    "Remove unnecessary data and split into data and labels."
   ],
   "metadata": {
    "collapsed": false,
    "pycharm": {
     "name": "#%% md\n"
    }
   }
  },
  {
   "cell_type": "code",
   "execution_count": 2,
   "outputs": [],
   "source": [
    "music_df = pd.read_csv(\"extracted-features.csv\")\n",
    "\n",
    "## This will contain the data\n",
    "data = music_df.iloc[:, 1:].values\n",
    "## This will contain the labels corresponding to the data\n",
    "labels = music_df.iloc[:, 0].values"
   ],
   "metadata": {
    "collapsed": false,
    "pycharm": {
     "name": "#%%\n"
    }
   }
  },
  {
   "cell_type": "markdown",
   "source": [
    "## Cross-validate a KNN to find the best hyper-parameters\n",
    "\n",
    "Use GridSearchCV to evaluate the optimal hyperparameters for the algorithm."
   ],
   "metadata": {
    "collapsed": false,
    "pycharm": {
     "name": "#%% md\n"
    }
   }
  },
  {
   "cell_type": "code",
   "execution_count": 3,
   "outputs": [
    {
     "name": "stdout",
     "output_type": "stream",
     "text": [
      "{'metric': 'manhattan', 'n_neighbors': 24, 'weights': 'distance'}\n",
      "              precision    recall  f1-score   support\n",
      "\n",
      "       Blues       0.27      0.27      0.27        26\n",
      "   Classical       0.73      0.51      0.60        37\n",
      "     Country       0.14      0.12      0.13        32\n",
      "       Disco       0.18      0.21      0.19        29\n",
      "      HipHop       0.11      0.10      0.11        30\n",
      "        Jazz       0.24      0.17      0.20        35\n",
      "       Metal       0.45      0.59      0.51        32\n",
      "         Pop       0.38      0.48      0.42        25\n",
      "      Reggae       0.26      0.30      0.28        27\n",
      "        Rock       0.24      0.26      0.25        27\n",
      "\n",
      "    accuracy                           0.30       300\n",
      "   macro avg       0.30      0.30      0.30       300\n",
      "weighted avg       0.31      0.30      0.30       300\n",
      "\n",
      "ROC AUC: 0.7404926783412891\n"
     ]
    }
   ],
   "source": [
    "data_train, data_test, labels_train, labels_test = train_test_split(data, labels, test_size = 0.30)\n",
    "\n",
    "knn_model = KNeighborsClassifier()\n",
    "\n",
    "param_grid = {\"n_neighbors\": range(1, 25),\n",
    "              \"weights\": [\"uniform\", \"distance\"],\n",
    "              \"metric\": [\"euclidean\", \"manhattan\", \"chebyshev\", \"minkowski\"]}\n",
    "\n",
    "scoring_metrics = {\"Accuracy\": \"accuracy\",\n",
    "                   \"AUC\": \"roc_auc_ovr\",\n",
    "                   \"F1\": \"f1_macro\"}\n",
    "\n",
    "## roc_auc_ovr sets the score to use roc_auc in one vs rest mode\n",
    "## StratifiedKFold is used by default for the cross validation\n",
    "knn_grid_search_cv = GridSearchCV(knn_model,\n",
    "                                  param_grid,\n",
    "                                  scoring = scoring_metrics,\n",
    "                                  refit = \"AUC\",\n",
    "                                  cv = 5)\n",
    "\n",
    "knn_grid_search_cv.fit(data_train, labels_train)\n",
    "\n",
    "best_params = knn_grid_search_cv.best_params_\n",
    "\n",
    "print(best_params)\n",
    "\n",
    "knn_grid_predict = knn_grid_search_cv.predict(data_test)\n",
    "\n",
    "print(classification_report(labels_test, knn_grid_predict))\n",
    "\n",
    "## Best score is using the metric defined in refit\n",
    "print(\"ROC AUC: \" + str(knn_grid_search_cv.best_score_))\n",
    "\n",
    "best_k_value = best_params[\"n_neighbors\"]\n",
    "best_weighting = best_params[\"weights\"]\n",
    "best_distance_metric = best_params[\"metric\"]"
   ],
   "metadata": {
    "collapsed": false,
    "pycharm": {
     "name": "#%%\n"
    }
   }
  },
  {
   "cell_type": "markdown",
   "source": [
    "## Produce KNN model\n",
    "\n",
    "Produce a KNN model using the optimal hyperparameters and save to a Pickle file for use with Azure."
   ],
   "metadata": {
    "collapsed": false
   }
  },
  {
   "cell_type": "code",
   "execution_count": 4,
   "outputs": [],
   "source": [
    "knn_model = KNeighborsClassifier(n_neighbors = best_k_value,\n",
    "                                 weights = best_weighting,\n",
    "                                 metric = best_distance_metric)\n",
    "\n",
    "knn_model.fit(data_train, labels_train)\n",
    "\n",
    "with open(\"models/knn.pkl\", mode = \"wb\") as model_file:\n",
    "    pickle.dump(knn_model, model_file)"
   ],
   "metadata": {
    "collapsed": false,
    "pycharm": {
     "name": "#%%\n"
    }
   }
  }
 ],
 "metadata": {
  "kernelspec": {
   "display_name": "Python 3",
   "language": "python",
   "name": "python3"
  },
  "language_info": {
   "codemirror_mode": {
    "name": "ipython",
    "version": 2
   },
   "file_extension": ".py",
   "mimetype": "text/x-python",
   "name": "python",
   "nbconvert_exporter": "python",
   "pygments_lexer": "ipython2",
   "version": "2.7.6"
  }
 },
 "nbformat": 4,
 "nbformat_minor": 0
}