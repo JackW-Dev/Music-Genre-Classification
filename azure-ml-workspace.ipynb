{
 "cells": [
  {
   "cell_type": "markdown",
   "source": [
    "# Azure ML Workspace"
   ],
   "metadata": {
    "collapsed": false,
    "pycharm": {
     "name": "#%% md\n"
    }
   }
  },
  {
   "cell_type": "markdown",
   "metadata": {
    "collapsed": true,
    "pycharm": {
     "name": "#%% md\n"
    }
   },
   "source": [
    "## Importing libraries"
   ]
  },
  {
   "cell_type": "code",
   "execution_count": 1,
   "outputs": [
    {
     "name": "stderr",
     "output_type": "stream",
     "text": [
      "Failure while loading azureml_run_type_providers. Failed to load entrypoint automl = azureml.train.automl.run:AutoMLRun._from_run_dto with exception (cryptography 3.1.1 (c:\\users\\jack\\anaconda3\\lib\\site-packages), Requirement.parse('cryptography<4.0.0,>=3.3.1; extra == \"crypto\"'), {'PyJWT'}).\n"
     ]
    }
   ],
   "source": [
    "from azureml.core import Workspace, Environment, Model, Dataset\n",
    "from azureml.core.conda_dependencies import CondaDependencies\n",
    "from azureml.core.model import InferenceConfig\n",
    "from azureml.core.webservice import AciWebservice\n"
   ],
   "metadata": {
    "collapsed": false,
    "pycharm": {
     "name": "#%%\n"
    }
   }
  },
  {
   "cell_type": "markdown",
   "source": [
    "## Initialise workspace\n",
    "Initialise a workspace using the values from config.json\n",
    "If this file is not found, an exception occurs\n",
    "When an exception is detected, a workspace using the defined details is created"
   ],
   "metadata": {
    "collapsed": false
   }
  },
  {
   "cell_type": "code",
   "execution_count": 2,
   "outputs": [
    {
     "name": "stdout",
     "output_type": "stream",
     "text": [
      "Workspace successfully loaded\n"
     ]
    }
   ],
   "source": [
    "try:\n",
    "    ## Try to load workspace\n",
    "    wspace = Workspace.from_config()\n",
    "except Exception as ex:\n",
    "    ## Create new workspace if existing is not found\n",
    "    wspace = Workspace.create(name = \"music-classification\",\n",
    "                                  subscription_id = \"11636c4c-f408-4202-980a-b738e97f4d7f\",\n",
    "                                  resource_group = \"ml-classification\",\n",
    "                                  create_resource_group = True,\n",
    "                                  location = \"uksouth\")\n",
    "\n",
    "    ## Write workspace config to a local file\n",
    "    wspace.write_config()\n",
    "\n",
    "print(\"Workspace successfully loaded\")"
   ],
   "metadata": {
    "collapsed": false,
    "pycharm": {
     "name": "#%%\n"
    }
   }
  },
  {
   "cell_type": "markdown",
   "source": [
    "## Create an environment\n",
    "Create an environment for the model to run on the Azure servers"
   ],
   "metadata": {
    "collapsed": false
   }
  },
  {
   "cell_type": "code",
   "execution_count": 3,
   "outputs": [
    {
     "name": "stdout",
     "output_type": "stream",
     "text": [
      "Environment Registered\n",
      "Environment Saved\n"
     ]
    }
   ],
   "source": [
    "##  Load conda dependencies required for this environment.\n",
    "##  Register environment for the workspace\n",
    "env = Environment(\"env\")\n",
    "\n",
    "conda_dep = CondaDependencies.create(pip_packages = [\"pandas == 1.1.3\",\n",
    "                                                    \"azureml-core\",\n",
    "                                                    \"azureml-defaults >= 1.0.45\"],\n",
    "                                    conda_packages = [\"scikit-learn == 0.23.2\"])\n",
    "\n",
    "env.python.conda_dependencies = conda_dep\n",
    "\n",
    "env.register(workspace = wspace)\n",
    "\n",
    "print(\"Environment Registered\")\n",
    "\n",
    "## Get the environment created from the workspace and create a file to verify it has been defined\n",
    "my_env = Environment.get(workspace = wspace, name = \"env\")\n",
    "my_env.save_to_directory(\"./environ\", overwrite = True)\n",
    "\n",
    "print(\"Environment Saved\")\n",
    "\n",
    "inference_config = InferenceConfig(entry_script = \"score.py\",\n",
    "                                   environment = my_env)"
   ],
   "metadata": {
    "collapsed": false,
    "pycharm": {
     "name": "#%%\n"
    }
   }
  },
  {
   "cell_type": "markdown",
   "source": [
    "## Register the models\n",
    "Register the saved model created by \"knn-model-tuning\" and \"svm-model-tuning\" for use on Azure ML"
   ],
   "metadata": {
    "collapsed": false
   }
  },
  {
   "cell_type": "code",
   "execution_count": 4,
   "outputs": [
    {
     "name": "stdout",
     "output_type": "stream",
     "text": [
      "Registering model knn\n",
      "Registering model svm\n"
     ]
    }
   ],
   "source": [
    "knn_model = Model.register(workspace = wspace,\n",
    "                       model_name = \"knn\",\n",
    "                       model_path = \"models/knn.pkl\",\n",
    "                       model_framework = \"ScikitLearn\",\n",
    "                       description = \"Tuned KNN for Genre Classification\")\n",
    "\n",
    "svm_model = Model.register(workspace = wspace,\n",
    "                       model_name = \"svm\",\n",
    "                       model_path = \"models/svm.pkl\",\n",
    "                       model_framework = \"ScikitLearn\",\n",
    "                       description = \"Tuned SVM for Genre Classification\")"
   ],
   "metadata": {
    "collapsed": false,
    "pycharm": {
     "name": "#%%\n"
    }
   }
  },
  {
   "cell_type": "markdown",
   "source": [
    "## Set up Azure Container Instance\n",
    "Define ACI Webservice"
   ],
   "metadata": {
    "collapsed": false
   }
  },
  {
   "cell_type": "code",
   "execution_count": 5,
   "outputs": [],
   "source": [
    "aci_config = AciWebservice.deploy_configuration(\n",
    "    cpu_cores = 1,\n",
    "    memory_gb = 1)"
   ],
   "metadata": {
    "collapsed": false,
    "pycharm": {
     "name": "#%%\n"
    }
   }
  },
  {
   "cell_type": "markdown",
   "source": [
    "## Upload dataset\n",
    "Upload the dataset for user with models"
   ],
   "metadata": {
    "collapsed": false,
    "pycharm": {
     "name": "#%% md\n"
    }
   }
  },
  {
   "cell_type": "code",
   "execution_count": 6,
   "outputs": [],
   "source": [
    "# datastore = wspace.get_default_datastore()\n",
    "# datastore.upload_files(files = [\"extracted-features.csv\"],\n",
    "#                        target_path = \"data\")\n",
    "# dataset = Dataset.Tabular.from_delimited_files(path = [(datastore, \"data/extracted-features.csv\")])\n",
    "#\n",
    "# dataset = dataset.register(workspace = wspace,\n",
    "#                                  name = \"GTZAN Extracted Features\",\n",
    "#                                  description = \"Features extracted from the GTZAN dataset\")"
   ],
   "metadata": {
    "collapsed": false,
    "pycharm": {
     "name": "#%%\n"
    }
   }
  },
  {
   "cell_type": "markdown",
   "source": [
    "## Deploy the model\n",
    "Deploy the models onto the defined ACI container using the set environment, inference config and workspace"
   ],
   "metadata": {
    "collapsed": false
   }
  },
  {
   "cell_type": "code",
   "execution_count": 7,
   "outputs": [
    {
     "name": "stdout",
     "output_type": "stream",
     "text": [
      "Tips: You can try get_logs(): https://aka.ms/debugimage#dockerlog or local deployment: https://aka.ms/debugimage#debug-locally to debug if deployment takes longer than 10 minutes.\n",
      "Running........................................................................................................\n",
      "Succeeded\n",
      "ACI service creation operation finished, operation \"Succeeded\"\n",
      "2021-04-16T21:15:37,094476300+00:00 - gunicorn/run \n",
      "2021-04-16T21:15:37,109116700+00:00 - rsyslog/run \n",
      "2021-04-16T21:15:37,110150600+00:00 - iot-server/run \n",
      "2021-04-16T21:15:37,130103800+00:00 - nginx/run \n",
      "/usr/sbin/nginx: /azureml-envs/azureml_d322234cf1103dbd7b07da4ab58adb31/lib/libcrypto.so.1.0.0: no version information available (required by /usr/sbin/nginx)\n",
      "/usr/sbin/nginx: /azureml-envs/azureml_d322234cf1103dbd7b07da4ab58adb31/lib/libcrypto.so.1.0.0: no version information available (required by /usr/sbin/nginx)\n",
      "/usr/sbin/nginx: /azureml-envs/azureml_d322234cf1103dbd7b07da4ab58adb31/lib/libssl.so.1.0.0: no version information available (required by /usr/sbin/nginx)\n",
      "/usr/sbin/nginx: /azureml-envs/azureml_d322234cf1103dbd7b07da4ab58adb31/lib/libssl.so.1.0.0: no version information available (required by /usr/sbin/nginx)\n",
      "/usr/sbin/nginx: /azureml-envs/azureml_d322234cf1103dbd7b07da4ab58adb31/lib/libssl.so.1.0.0: no version information available (required by /usr/sbin/nginx)\n",
      "EdgeHubConnectionString and IOTEDGE_IOTHUBHOSTNAME are not set. Exiting...\n",
      "2021-04-16T21:15:37,477399100+00:00 - iot-server/finish 1 0\n",
      "2021-04-16T21:15:37,479703400+00:00 - Exit code 1 is normal. Not restarting iot-server.\n",
      "Starting gunicorn 19.9.0\n",
      "Listening at: http://127.0.0.1:31311 (72)\n",
      "Using worker: sync\n",
      "worker timeout is set to 300\n",
      "Booting worker with pid: 99\n",
      "SPARK_HOME not set. Skipping PySpark Initialization.\n",
      "Initializing logger\n",
      "2021-04-16 21:15:39,751 | root | INFO | Starting up app insights client\n",
      "2021-04-16 21:15:39,752 | root | INFO | Starting up request id generator\n",
      "2021-04-16 21:15:39,752 | root | INFO | Starting up app insight hooks\n",
      "2021-04-16 21:15:39,756 | root | INFO | Invoking user's init function\n",
      "2021-04-16 21:15:40,270 | root | INFO | Users's init has completed successfully\n",
      "2021-04-16 21:15:40,272 | root | INFO | Skipping middleware: dbg_model_info as it's not enabled.\n",
      "2021-04-16 21:15:40,272 | root | INFO | Skipping middleware: dbg_resource_usage as it's not enabled.\n",
      "2021-04-16 21:15:40,273 | root | INFO | Scoring timeout is found from os.environ: 60000 ms\n",
      "2021-04-16 21:16:31,280 | root | INFO | Swagger file not present\n",
      "2021-04-16 21:16:31,282 | root | INFO | 404\n",
      "127.0.0.1 - - [16/Apr/2021:21:16:31 +0000] \"GET /swagger.json HTTP/1.0\" 404 19 \"-\" \"Go-http-client/1.1\"\n",
      "2021-04-16 21:16:35,367 | root | INFO | Swagger file not present\n",
      "2021-04-16 21:16:35,368 | root | INFO | 404\n",
      "127.0.0.1 - - [16/Apr/2021:21:16:35 +0000] \"GET /swagger.json HTTP/1.0\" 404 19 \"-\" \"Go-http-client/1.1\"\n",
      "\n",
      "http://64bf0a3f-f9cd-4d3e-800a-ade422d604b7.uksouth.azurecontainer.io/score\n"
     ]
    }
   ],
   "source": [
    "service = Model.deploy(workspace = wspace,\n",
    "                       name = \"music-genre-classification\",\n",
    "                       models = [knn_model, svm_model],\n",
    "                       inference_config = inference_config,\n",
    "                       deployment_config = aci_config,\n",
    "                       overwrite = True)\n",
    "\n",
    "service.wait_for_deployment(show_output = True)\n",
    "print(service.get_logs())\n",
    "\n",
    "print(service.scoring_uri)"
   ],
   "metadata": {
    "collapsed": false,
    "pycharm": {
     "name": "#%%\n"
    }
   }
  },
  {
   "cell_type": "markdown",
   "source": [
    "## Test the web service\n",
    "Test the web service has successfully deployed using test data"
   ],
   "metadata": {
    "collapsed": false
   }
  },
  {
   "cell_type": "code",
   "execution_count": 14,
   "outputs": [
    {
     "ename": "NameError",
     "evalue": "name 'requests' is not defined",
     "output_type": "error",
     "traceback": [
      "\u001B[1;31m---------------------------------------------------------------------------\u001B[0m",
      "\u001B[1;31mNameError\u001B[0m                                 Traceback (most recent call last)",
      "\u001B[1;32m<ipython-input-14-1f65a2756d99>\u001B[0m in \u001B[0;36m<module>\u001B[1;34m\u001B[0m\n\u001B[0;32m      1\u001B[0m \u001B[0mtest_data\u001B[0m \u001B[1;33m=\u001B[0m \u001B[0mopen\u001B[0m\u001B[1;33m(\u001B[0m\u001B[1;34m\"test_data.json\"\u001B[0m\u001B[1;33m)\u001B[0m\u001B[1;33m.\u001B[0m\u001B[0mread\u001B[0m\u001B[1;33m(\u001B[0m\u001B[1;33m)\u001B[0m\u001B[1;33m\u001B[0m\u001B[1;33m\u001B[0m\u001B[0m\n\u001B[0;32m      2\u001B[0m \u001B[1;33m\u001B[0m\u001B[0m\n\u001B[1;32m----> 3\u001B[1;33m \u001B[0mrequests\u001B[0m\u001B[1;33m.\u001B[0m\u001B[0mpost\u001B[0m\u001B[1;33m(\u001B[0m\u001B[0murl\u001B[0m\u001B[1;33m=\u001B[0m\u001B[0mservice\u001B[0m\u001B[1;33m.\u001B[0m\u001B[0mscoring_uri\u001B[0m\u001B[1;33m,\u001B[0m \u001B[0mjson\u001B[0m\u001B[1;33m=\u001B[0m\u001B[0mtest_data\u001B[0m\u001B[1;33m)\u001B[0m\u001B[1;33m\u001B[0m\u001B[1;33m\u001B[0m\u001B[0m\n\u001B[0m\u001B[0;32m      4\u001B[0m \u001B[1;33m\u001B[0m\u001B[0m\n\u001B[0;32m      5\u001B[0m \u001B[1;31m# test_prediction = service.run()\u001B[0m\u001B[1;33m\u001B[0m\u001B[1;33m\u001B[0m\u001B[1;33m\u001B[0m\u001B[0m\n",
      "\u001B[1;31mNameError\u001B[0m: name 'requests' is not defined"
     ]
    }
   ],
   "source": [
    "# test_prediction = service.run()"
   ],
   "metadata": {
    "collapsed": false,
    "pycharm": {
     "name": "#%%\n"
    }
   }
  },
  {
   "cell_type": "markdown",
   "source": [
    "## Delete ACI\n",
    "Delete the ACI instance to clean up"
   ],
   "metadata": {
    "collapsed": false
   }
  },
  {
   "cell_type": "code",
   "execution_count": null,
   "outputs": [],
   "source": [
    "service.delete()"
   ],
   "metadata": {
    "collapsed": false,
    "pycharm": {
     "name": "#%%\n"
    }
   }
  }
 ],
 "metadata": {
  "kernelspec": {
   "name": "python3",
   "language": "python",
   "display_name": "Python 3"
  },
  "language_info": {
   "codemirror_mode": {
    "name": "ipython",
    "version": 2
   },
   "file_extension": ".py",
   "mimetype": "text/x-python",
   "name": "python",
   "nbconvert_exporter": "python",
   "pygments_lexer": "ipython2",
   "version": "2.7.6"
  }
 },
 "nbformat": 4,
 "nbformat_minor": 0
}