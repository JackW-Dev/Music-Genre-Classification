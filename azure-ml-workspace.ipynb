{
 "cells": [
  {
   "cell_type": "markdown",
   "source": [
    "# Azure ML Workspace"
   ],
   "metadata": {
    "collapsed": false,
    "pycharm": {
     "name": "#%% md\n"
    }
   }
  },
  {
   "cell_type": "markdown",
   "metadata": {
    "collapsed": true,
    "pycharm": {
     "name": "#%% md\n"
    }
   },
   "source": [
    "## Importing libraries"
   ]
  },
  {
   "cell_type": "code",
   "execution_count": 1,
   "outputs": [],
   "source": [
    "from azureml.core import Workspace, Environment, Model\n",
    "from azureml.core.authentication import InteractiveLoginAuthentication\n",
    "from azureml.core.conda_dependencies import CondaDependencies\n",
    "from azureml.core.model import InferenceConfig\n",
    "from azureml.core.webservice import AciWebservice\n",
    "import json\n",
    "import pandas as pd"
   ],
   "metadata": {
    "collapsed": false,
    "pycharm": {
     "name": "#%%\n"
    }
   }
  },
  {
   "cell_type": "markdown",
   "source": [
    "## Initialise workspace\n",
    "Initialise a workspace using the values from config.json\n",
    "If this file is not found, an exception occurs\n",
    "When an exception is detected, a workspace using the defined details is created"
   ],
   "metadata": {
    "collapsed": false
   }
  },
  {
   "cell_type": "code",
   "execution_count": 2,
   "outputs": [
    {
     "name": "stderr",
     "output_type": "stream",
     "text": [
      "UserWarning: The resource group doesn't exist or was not provided. AzureML SDK is creating a resource group=classification-resources in location=uksouth using subscription=11636c4c-f408-4202-980a-b738e97f4d7f.\n"
     ]
    },
    {
     "name": "stdout",
     "output_type": "stream",
     "text": [
      "Deploying StorageAccount with name classifistoraged5b06aa15.\n",
      "Deploying AppInsights with name classifiinsightsa50135a9.\n",
      "Deployed AppInsights with name classifiinsightsa50135a9. Took 2.51 seconds.\n",
      "Deploying KeyVault with name classifikeyvaultfe9d05ee.\n",
      "Deployed KeyVault with name classifikeyvaultfe9d05ee. Took 22.34 seconds.\n",
      "Deployed StorageAccount with name classifistoraged5b06aa15. Took 28.79 seconds.\n",
      "Deploying Workspace with name classification-workspace.\n",
      "Deployed Workspace with name classification-workspace. Took 17.11 seconds.\n",
      "Workspace successfully loaded\n"
     ]
    }
   ],
   "source": [
    "# An authentication error started occurring with the Azure Portal, this seems to fix it\n",
    "# Issue found at https://github.com/Azure/MachineLearningNotebooks/issues/131\n",
    "auth = InteractiveLoginAuthentication(tenant_id=\"57af78f2-c87d-4466-b7bb-6b6cc99ed124\")\n",
    "\n",
    "try:\n",
    "# Try to load workspace\n",
    "    wspace = Workspace.from_config(auth=auth)\n",
    "except Exception as ex:\n",
    "# Create new workspace if existing is not found\n",
    "    wspace = Workspace.create(name=\"classification-workspace\",\n",
    "                              subscription_id=\"11636c4c-f408-4202-980a-b738e97f4d7f\",\n",
    "                              resource_group=\"classification-resources\",\n",
    "                              create_resource_group=True,\n",
    "                              location=\"uksouth\")\n",
    "\n",
    "# Write workspace config to a local file\n",
    "    wspace.write_config()\n",
    "\n",
    "print(\"Workspace successfully loaded\")"
   ],
   "metadata": {
    "collapsed": false,
    "pycharm": {
     "name": "#%%\n"
    }
   }
  },
  {
   "cell_type": "markdown",
   "source": [
    "## Create an environment\n",
    "Create an environment for the model to run on the Azure servers"
   ],
   "metadata": {
    "collapsed": false
   }
  },
  {
   "cell_type": "code",
   "execution_count": 3,
   "outputs": [
    {
     "name": "stdout",
     "output_type": "stream",
     "text": [
      "Environment Registered\n",
      "Environment Saved\n"
     ]
    }
   ],
   "source": [
    "# Load conda dependencies required for this environment.\n",
    "# Register environment for the workspace\n",
    "env = Environment(\"env\")\n",
    "\n",
    "conda_dep = CondaDependencies.create(pip_packages=[\"pandas == 1.1.3\",\n",
    "                                                   \"azureml-core\",\n",
    "                                                   \"azureml-defaults >= 1.0.45\"],\n",
    "                                     conda_packages=[\"scikit-learn == 0.23.2\"])\n",
    "\n",
    "env.python.conda_dependencies = conda_dep\n",
    "\n",
    "env.register(workspace=wspace)\n",
    "\n",
    "print(\"Environment Registered\")\n",
    "\n",
    "# Get the environment created from the workspace and create a file to verify it has been defined\n",
    "my_env = Environment.get(workspace=wspace, name=\"env\")\n",
    "my_env.save_to_directory(\"./environ\", overwrite=True)\n",
    "\n",
    "print(\"Environment Saved\")\n",
    "\n",
    "inference_config = InferenceConfig(entry_script=\"score.py\",\n",
    "                                   environment=my_env)"
   ],
   "metadata": {
    "collapsed": false,
    "pycharm": {
     "name": "#%%\n"
    }
   }
  },
  {
   "cell_type": "markdown",
   "source": [
    "## Register the models\n",
    "Register the saved model created by \"knn-model-tuning\" and \"svm-model-tuning\" for use on Azure ML"
   ],
   "metadata": {
    "collapsed": false
   }
  },
  {
   "cell_type": "code",
   "execution_count": 4,
   "outputs": [
    {
     "name": "stdout",
     "output_type": "stream",
     "text": [
      "Registering model knn\n",
      "Registering model svm\n"
     ]
    }
   ],
   "source": [
    "knn_model = Model.register(workspace=wspace,\n",
    "                       model_name=\"knn\",\n",
    "                       model_path=\"models/knn.pkl\",\n",
    "                       model_framework=\"ScikitLearn\",\n",
    "                       description=\"Tuned KNN for Genre Classification\")\n",
    "\n",
    "svm_model = Model.register(workspace=wspace,\n",
    "                       model_name=\"svm\",\n",
    "                       model_path=\"models/svm.pkl\",\n",
    "                       model_framework=\"ScikitLearn\",\n",
    "                       description=\"Tuned SVM for Genre Classification\")"
   ],
   "metadata": {
    "collapsed": false,
    "pycharm": {
     "name": "#%%\n"
    }
   }
  },
  {
   "cell_type": "markdown",
   "source": [
    "## Set up Azure Container Instance\n",
    "Define ACI Webservice"
   ],
   "metadata": {
    "collapsed": false
   }
  },
  {
   "cell_type": "code",
   "execution_count": 5,
   "outputs": [],
   "source": [
    "aci_config = AciWebservice.deploy_configuration(cpu_cores=1, memory_gb=1)"
   ],
   "metadata": {
    "collapsed": false,
    "pycharm": {
     "name": "#%%\n"
    }
   }
  },
  {
   "cell_type": "markdown",
   "source": [
    "## Deploy the models\n",
    "Deploy the models onto the defined ACI container using the set environment, inference config and workspace"
   ],
   "metadata": {
    "collapsed": false
   }
  },
  {
   "cell_type": "code",
   "execution_count": 6,
   "outputs": [
    {
     "name": "stdout",
     "output_type": "stream",
     "text": [
      "Running........................................................................................................................\n",
      "Succeeded\n",
      "ACI service creation operation finished, operation \"Succeeded\"\n",
      "2021-04-21T20:44:56,260561600+00:00 - gunicorn/run \n",
      "2021-04-21T20:44:56,290990800+00:00 - iot-server/run \n",
      "2021-04-21T20:44:56,303262100+00:00 - rsyslog/run \n",
      "2021-04-21T20:44:56,310713300+00:00 - nginx/run \n",
      "/usr/sbin/nginx: /azureml-envs/azureml_bc84c8b1e6f800381723c1af65ff7e9c/lib/libcrypto.so.1.0.0: no version information available (required by /usr/sbin/nginx)\n",
      "/usr/sbin/nginx: /azureml-envs/azureml_bc84c8b1e6f800381723c1af65ff7e9c/lib/libcrypto.so.1.0.0: no version information available (required by /usr/sbin/nginx)\n",
      "/usr/sbin/nginx: /azureml-envs/azureml_bc84c8b1e6f800381723c1af65ff7e9c/lib/libssl.so.1.0.0: no version information available (required by /usr/sbin/nginx)\n",
      "/usr/sbin/nginx: /azureml-envs/azureml_bc84c8b1e6f800381723c1af65ff7e9c/lib/libssl.so.1.0.0: no version information available (required by /usr/sbin/nginx)\n",
      "/usr/sbin/nginx: /azureml-envs/azureml_bc84c8b1e6f800381723c1af65ff7e9c/lib/libssl.so.1.0.0: no version information available (required by /usr/sbin/nginx)\n",
      "EdgeHubConnectionString and IOTEDGE_IOTHUBHOSTNAME are not set. Exiting...\n",
      "2021-04-21T20:44:56,585874200+00:00 - iot-server/finish 1 0\n",
      "2021-04-21T20:44:56,591823800+00:00 - Exit code 1 is normal. Not restarting iot-server.\n",
      "Starting gunicorn 19.9.0\n",
      "Listening at: http://127.0.0.1:31311 (72)\n",
      "Using worker: sync\n",
      "worker timeout is set to 300\n",
      "Booting worker with pid: 101\n",
      "Initialized PySpark session.\n",
      "Initializing logger\n",
      "Starting up app insights client\n",
      "Starting up request id generator\n",
      "Starting up app insight hooks\n",
      "Invoking user's init function\n",
      "Users's init has completed successfully\n",
      "/azureml-envs/azureml_bc84c8b1e6f800381723c1af65ff7e9c/lib/python3.6/site-packages/sklearn/base.py:334: UserWarning: Trying to unpickle estimator KNeighborsClassifier from version 0.24.1 when using version 0.23.2. This might lead to breaking code or invalid results. Use at your own risk.\n",
      "  UserWarning)\n",
      "/azureml-envs/azureml_bc84c8b1e6f800381723c1af65ff7e9c/lib/python3.6/site-packages/sklearn/base.py:334: UserWarning: Trying to unpickle estimator GridSearchCV from version 0.24.1 when using version 0.23.2. This might lead to breaking code or invalid results. Use at your own risk.\n",
      "  UserWarning)\n",
      "/azureml-envs/azureml_bc84c8b1e6f800381723c1af65ff7e9c/lib/python3.6/site-packages/sklearn/base.py:334: UserWarning: Trying to unpickle estimator SVC from version 0.24.1 when using version 0.23.2. This might lead to breaking code or invalid results. Use at your own risk.\n",
      "  UserWarning)\n",
      "Scoring timeout is found from os.environ: 60000 ms\n",
      "Swagger file not present\n",
      "404\n",
      "127.0.0.1 - - [21/Apr/2021:20:45:00 +0000] \"GET /swagger.json HTTP/1.0\" 404 19 \"-\" \"Go-http-client/1.1\"\n",
      "Swagger file not present\n",
      "404\n",
      "127.0.0.1 - - [21/Apr/2021:20:45:03 +0000] \"GET /swagger.json HTTP/1.0\" 404 19 \"-\" \"Go-http-client/1.1\"\n",
      "\n",
      "http://048b5f1c-2f8e-4fef-8d2b-e9456b00d9e3.uksouth.azurecontainer.io/score\n"
     ]
    }
   ],
   "source": [
    "service = Model.deploy(workspace=wspace,\n",
    "                       name=\"music-genre-service\",\n",
    "                       models=[knn_model, svm_model],\n",
    "                       inference_config=inference_config,\n",
    "                       deployment_config=aci_config,\n",
    "                       overwrite=True)\n",
    "\n",
    "service.wait_for_deployment(show_output=True)\n",
    "print(service.get_logs())\n",
    "\n",
    "print(service.scoring_uri)"
   ],
   "metadata": {
    "collapsed": false,
    "pycharm": {
     "name": "#%%\n"
    }
   }
  },
  {
   "cell_type": "markdown",
   "source": [
    "## Test the web service\n",
    "Test the web service has successfully deployed using test data"
   ],
   "metadata": {
    "collapsed": false
   }
  },
  {
   "cell_type": "code",
   "execution_count": 7,
   "outputs": [
    {
     "name": "stdout",
     "output_type": "stream",
     "text": [
      "    KNN Prediction SVM Prediction\n",
      "0        Classical      Classical\n",
      "1            Disco            Pop\n",
      "2             Jazz        Country\n",
      "3             Jazz          Blues\n",
      "4            Metal          Metal\n",
      "..             ...            ...\n",
      "295        Country         HipHop\n",
      "296          Disco         HipHop\n",
      "297           Jazz          Blues\n",
      "298        Country         HipHop\n",
      "299         Reggae         HipHop\n",
      "\n",
      "[300 rows x 2 columns]\n",
      "{'KNN Accuracy': 0.3, 'SVM Accuracy': 0.3433333333333333}\n",
      "{'KNN AUROC': 0.7266192790644005, 'SVM AUROC': 0.7860937136748556}\n",
      "{'KNN F1': 0.3, 'SVM F1': 0.3433333333333333}\n"
     ]
    }
   ],
   "source": [
    "# Reading the test set from file\n",
    "data_df = pd.read_csv(\"testing_data.csv\")\n",
    "data_json_str = data_df.to_json(orient=\"records\")\n",
    "\n",
    "response_pred, response_acc, response_auroc, response_f1 = service.run(json.dumps(data_json_str))\n",
    "\n",
    "response_pred_df = pd.DataFrame(response_pred)\n",
    "\n",
    "print(response_pred_df)\n",
    "print(response_acc)\n",
    "print(response_auroc)\n",
    "print(response_f1)"
   ],
   "metadata": {
    "collapsed": false,
    "pycharm": {
     "name": "#%%\n"
    }
   }
  },
  {
   "cell_type": "markdown",
   "source": [
    "## Delete ACI\n",
    "Delete the ACI instance to clean up\n",
    "(This will also delete the endpoint)"
   ],
   "metadata": {
    "collapsed": false
   }
  },
  {
   "cell_type": "code",
   "execution_count": 8,
   "outputs": [],
   "source": [
    "# service.delete()"
   ],
   "metadata": {
    "collapsed": false,
    "pycharm": {
     "name": "#%%\n"
    }
   }
  }
 ],
 "metadata": {
  "kernelspec": {
   "name": "python3",
   "language": "python",
   "display_name": "Python 3"
  },
  "language_info": {
   "codemirror_mode": {
    "name": "ipython",
    "version": 2
   },
   "file_extension": ".py",
   "mimetype": "text/x-python",
   "name": "python",
   "nbconvert_exporter": "python",
   "pygments_lexer": "ipython2",
   "version": "2.7.6"
  }
 },
 "nbformat": 4,
 "nbformat_minor": 0
}