{
 "cells": [
  {
   "cell_type": "markdown",
   "source": [
    "# Azure ML Workspace"
   ],
   "metadata": {
    "collapsed": false,
    "pycharm": {
     "name": "#%% md\n"
    }
   }
  },
  {
   "cell_type": "markdown",
   "metadata": {
    "collapsed": true,
    "pycharm": {
     "name": "#%% md\n"
    }
   },
   "source": [
    "## Importing libraries"
   ]
  },
  {
   "cell_type": "code",
   "execution_count": 1,
   "outputs": [
    {
     "name": "stderr",
     "output_type": "stream",
     "text": [
      "Failure while loading azureml_run_type_providers. Failed to load entrypoint automl = azureml.train.automl.run:AutoMLRun._from_run_dto with exception (cryptography 3.1.1 (c:\\users\\jack\\anaconda3\\lib\\site-packages), Requirement.parse('cryptography<4.0.0,>=3.3.1; extra == \"crypto\"'), {'PyJWT'}).\n"
     ]
    }
   ],
   "source": [
    "from azureml.core import Workspace, Environment, Model\n",
    "from azureml.core.conda_dependencies import CondaDependencies\n",
    "from azureml.core.model import InferenceConfig\n",
    "from azureml.core.webservice import AciWebservice"
   ],
   "metadata": {
    "collapsed": false,
    "pycharm": {
     "name": "#%%\n"
    }
   }
  },
  {
   "cell_type": "markdown",
   "source": [
    "## Initialise workspace\n",
    "Initialise a workspace using the values from config.json\n",
    "If this file is not found, an exception occurs\n",
    "When an exception is detected, a workspace using the defined details is created"
   ],
   "metadata": {
    "collapsed": false
   }
  },
  {
   "cell_type": "code",
   "execution_count": 2,
   "outputs": [
    {
     "name": "stderr",
     "output_type": "stream",
     "text": [
      "get_workspace error using subscription_id=11636c4c-f408-4202-980a-b738e97f4d7f, resource_group_name=final-year-project, workspace_name=ml-music-genre-classification\n",
      "UserWarning: The resource group doesn't exist or was not provided. AzureML SDK is creating a resource group=final-year-project in location=uksouth using subscription=11636c4c-f408-4202-980a-b738e97f4d7f.\n"
     ]
    },
    {
     "name": "stdout",
     "output_type": "stream",
     "text": [
      "Deploying AppInsights with name mlmusicginsights5831c13c.\n",
      "Deployed AppInsights with name mlmusicginsights5831c13c. Took 3.42 seconds.\n",
      "Deploying KeyVault with name mlmusicgkeyvault819ef2b6.\n",
      "Deploying StorageAccount with name mlmusicgstorage37faa0b13.\n",
      "Deployed KeyVault with name mlmusicgkeyvault819ef2b6. Took 17.98 seconds.\n",
      "Deploying Workspace with name ml-music-genre-classification.\n",
      "Deployed StorageAccount with name mlmusicgstorage37faa0b13. Took 20.79 seconds.\n",
      "Deployed Workspace with name ml-music-genre-classification. Took 19.12 seconds.\n",
      "Workspace successfully loaded\n"
     ]
    }
   ],
   "source": [
    "try:\n",
    "    ## Try to load workspace\n",
    "    wspace = Workspace.from_config()\n",
    "except Exception as ex:\n",
    "    ## Create new workspace if existing is not found\n",
    "    wspace = Workspace.create(name = \"ml-music-genre-classification\",\n",
    "                                  subscription_id = \"11636c4c-f408-4202-980a-b738e97f4d7f\",\n",
    "                                  resource_group = \"final-year-project\",\n",
    "                                  create_resource_group = True,\n",
    "                                  location = \"uksouth\")\n",
    "\n",
    "    ## Write workspace config to a local file\n",
    "    wspace.write_config()\n",
    "\n",
    "print(\"Workspace successfully loaded\")"
   ],
   "metadata": {
    "collapsed": false,
    "pycharm": {
     "name": "#%%\n"
    }
   }
  },
  {
   "cell_type": "markdown",
   "source": [
    "## Create an environment\n",
    "Create an environment for the model to run on the Azure servers"
   ],
   "metadata": {
    "collapsed": false
   }
  },
  {
   "cell_type": "code",
   "execution_count": 3,
   "outputs": [
    {
     "name": "stdout",
     "output_type": "stream",
     "text": [
      "Environment Registered\n",
      "Environment Saved\n"
     ]
    }
   ],
   "source": [
    "##  Load conda dependencies required for this environment.\n",
    "##  Register environment for the workspace\n",
    "env = Environment(\"env\")\n",
    "\n",
    "conda_dep = CondaDependencies.create(pip_packages = [\"pandas == 1.1.3\",\n",
    "                                                    \"azureml-core\",\n",
    "                                                    'azureml-defaults >= 1.0.45'],\n",
    "                                    conda_packages = [\"scikit-learn == 0.23.2\"])\n",
    "\n",
    "env.python.conda_dependencies = conda_dep\n",
    "\n",
    "env.register(workspace = wspace)\n",
    "\n",
    "print(\"Environment Registered\")\n",
    "\n",
    "## Get the environment created from the workspace and create a file to verify it has been defined\n",
    "my_env = Environment.get(workspace = wspace, name = \"env\")\n",
    "my_env.save_to_directory(\"./environ\", overwrite = True)\n",
    "\n",
    "print(\"Environment Saved\")\n",
    "\n",
    "inference_config = InferenceConfig(entry_script = \"score.py\",\n",
    "                                   environment = my_env)\n",
    "\n"
   ],
   "metadata": {
    "collapsed": false,
    "pycharm": {
     "name": "#%%\n"
    }
   }
  },
  {
   "cell_type": "markdown",
   "source": [
    "## Register the model\n",
    "Register the saved model created by \"knn-model-tuning\" for use on Azure ML"
   ],
   "metadata": {
    "collapsed": false
   }
  },
  {
   "cell_type": "code",
   "execution_count": 4,
   "outputs": [
    {
     "name": "stdout",
     "output_type": "stream",
     "text": [
      "Registering model knn\n"
     ]
    }
   ],
   "source": [
    "model = Model.register(workspace = wspace,\n",
    "                       model_name = \"knn\",\n",
    "                       model_path = \"models/knn.pkl\",\n",
    "                       model_framework = \"ScikitLearn\",\n",
    "                       description = \"Tuned KNN for Genre Classification\")"
   ],
   "metadata": {
    "collapsed": false,
    "pycharm": {
     "name": "#%%\n"
    }
   }
  },
  {
   "cell_type": "markdown",
   "source": [
    "## Set up Azure Container Instance\n",
    "Define ACI Webservice"
   ],
   "metadata": {
    "collapsed": false
   }
  },
  {
   "cell_type": "code",
   "execution_count": 5,
   "outputs": [],
   "source": [
    "aci_config = AciWebservice.deploy_configuration(\n",
    "    cpu_cores = 1,\n",
    "    memory_gb = 1)"
   ],
   "metadata": {
    "collapsed": false,
    "pycharm": {
     "name": "#%%\n"
    }
   }
  },
  {
   "cell_type": "markdown",
   "source": [
    "## Deploy the model\n",
    "Deploy the model onto the defined ACI container using the set environment, inference config and workspace"
   ],
   "metadata": {
    "collapsed": false
   }
  },
  {
   "cell_type": "code",
   "execution_count": 6,
   "outputs": [
    {
     "ename": "WebserviceException",
     "evalue": "WebserviceException:\n\tMessage: There is no model with id knn:1 in ml-music-genre-classification\n\tInnerException None\n\tErrorResponse \n{\n    \"error\": {\n        \"message\": \"There is no model with id knn:1 in ml-music-genre-classification\"\n    }\n}",
     "output_type": "error",
     "traceback": [
      "\u001B[1;31m---------------------------------------------------------------------------\u001B[0m",
      "\u001B[1;31mWebserviceException\u001B[0m                       Traceback (most recent call last)",
      "\u001B[1;32m<ipython-input-6-600f4304efbc>\u001B[0m in \u001B[0;36m<module>\u001B[1;34m\u001B[0m\n\u001B[1;32m----> 1\u001B[1;33m service = Model.deploy(workspace = wspace,\n\u001B[0m\u001B[0;32m      2\u001B[0m                        \u001B[0mname\u001B[0m \u001B[1;33m=\u001B[0m \u001B[1;34m\"genre-classification\"\u001B[0m\u001B[1;33m,\u001B[0m\u001B[1;33m\u001B[0m\u001B[1;33m\u001B[0m\u001B[0m\n\u001B[0;32m      3\u001B[0m                        \u001B[0mmodels\u001B[0m \u001B[1;33m=\u001B[0m \u001B[1;33m[\u001B[0m\u001B[0mmodel\u001B[0m\u001B[1;33m]\u001B[0m\u001B[1;33m,\u001B[0m\u001B[1;33m\u001B[0m\u001B[1;33m\u001B[0m\u001B[0m\n\u001B[0;32m      4\u001B[0m                        \u001B[0minference_config\u001B[0m \u001B[1;33m=\u001B[0m \u001B[0minference_config\u001B[0m\u001B[1;33m,\u001B[0m\u001B[1;33m\u001B[0m\u001B[1;33m\u001B[0m\u001B[0m\n\u001B[0;32m      5\u001B[0m                        \u001B[0mdeployment_config\u001B[0m \u001B[1;33m=\u001B[0m \u001B[0maci_config\u001B[0m\u001B[1;33m,\u001B[0m\u001B[1;33m\u001B[0m\u001B[1;33m\u001B[0m\u001B[0m\n",
      "\u001B[1;32m~\\anaconda3\\lib\\site-packages\\azureml\\core\\model.py\u001B[0m in \u001B[0;36mdeploy\u001B[1;34m(workspace, name, models, inference_config, deployment_config, deployment_target, overwrite)\u001B[0m\n\u001B[0;32m   1621\u001B[0m \u001B[1;33m\u001B[0m\u001B[0m\n\u001B[0;32m   1622\u001B[0m         \u001B[1;32mif\u001B[0m \u001B[0muse_env_path\u001B[0m\u001B[1;33m:\u001B[0m\u001B[1;33m\u001B[0m\u001B[1;33m\u001B[0m\u001B[0m\n\u001B[1;32m-> 1623\u001B[1;33m             return Model._deploy_with_environment(workspace, name, models, inference_config, deployment_config,\n\u001B[0m\u001B[0;32m   1624\u001B[0m                                                   deployment_target, overwrite)\n\u001B[0;32m   1625\u001B[0m \u001B[1;33m\u001B[0m\u001B[0m\n",
      "\u001B[1;32m~\\anaconda3\\lib\\site-packages\\azureml\\core\\model.py\u001B[0m in \u001B[0;36m_deploy_with_environment\u001B[1;34m(workspace, name, models, inference_config, deployment_config, deployment_target, overwrite)\u001B[0m\n\u001B[0;32m   1821\u001B[0m             \u001B[0minference_config\u001B[0m\u001B[1;33m.\u001B[0m\u001B[0m_build_environment_image_request\u001B[0m\u001B[1;33m(\u001B[0m\u001B[0mworkspace\u001B[0m\u001B[1;33m,\u001B[0m \u001B[1;33m[\u001B[0m\u001B[0mmodel\u001B[0m\u001B[1;33m.\u001B[0m\u001B[0mid\u001B[0m \u001B[1;32mfor\u001B[0m \u001B[0mmodel\u001B[0m \u001B[1;32min\u001B[0m \u001B[0mmodels\u001B[0m\u001B[1;33m]\u001B[0m\u001B[1;33m)\u001B[0m\u001B[1;33m\u001B[0m\u001B[1;33m\u001B[0m\u001B[0m\n\u001B[0;32m   1822\u001B[0m \u001B[1;33m\u001B[0m\u001B[0m\n\u001B[1;32m-> 1823\u001B[1;33m         return Model._deploy_with_environment_image_request(workspace, name, environment_image_request,\n\u001B[0m\u001B[0;32m   1824\u001B[0m                                                             deployment_config, deployment_target, overwrite)\n\u001B[0;32m   1825\u001B[0m \u001B[1;33m\u001B[0m\u001B[0m\n",
      "\u001B[1;32m~\\anaconda3\\lib\\site-packages\\azureml\\core\\model.py\u001B[0m in \u001B[0;36m_deploy_with_environment_image_request\u001B[1;34m(workspace, name, environment_image_request, deployment_config, deployment_target, overwrite)\u001B[0m\n\u001B[0;32m   1866\u001B[0m             \u001B[0mwebservice_payload\u001B[0m\u001B[1;33m[\u001B[0m\u001B[1;34m'computeName'\u001B[0m\u001B[1;33m]\u001B[0m \u001B[1;33m=\u001B[0m \u001B[0mdeployment_target\u001B[0m\u001B[1;33m.\u001B[0m\u001B[0mname\u001B[0m\u001B[1;33m\u001B[0m\u001B[1;33m\u001B[0m\u001B[0m\n\u001B[0;32m   1867\u001B[0m \u001B[1;33m\u001B[0m\u001B[0m\n\u001B[1;32m-> 1868\u001B[1;33m         \u001B[1;32mreturn\u001B[0m \u001B[0mWebservice\u001B[0m\u001B[1;33m.\u001B[0m\u001B[0m_deploy_webservice\u001B[0m\u001B[1;33m(\u001B[0m\u001B[0mworkspace\u001B[0m\u001B[1;33m,\u001B[0m \u001B[0mname\u001B[0m\u001B[1;33m,\u001B[0m \u001B[0mwebservice_payload\u001B[0m\u001B[1;33m,\u001B[0m \u001B[0moverwrite\u001B[0m\u001B[1;33m,\u001B[0m \u001B[0mwebservice_class\u001B[0m\u001B[1;33m)\u001B[0m\u001B[1;33m\u001B[0m\u001B[1;33m\u001B[0m\u001B[0m\n\u001B[0m\u001B[0;32m   1869\u001B[0m \u001B[1;33m\u001B[0m\u001B[0m\n\u001B[0;32m   1870\u001B[0m     \u001B[1;32mdef\u001B[0m \u001B[0mget_sas_urls\u001B[0m\u001B[1;33m(\u001B[0m\u001B[0mself\u001B[0m\u001B[1;33m)\u001B[0m\u001B[1;33m:\u001B[0m\u001B[1;33m\u001B[0m\u001B[1;33m\u001B[0m\u001B[0m\n",
      "\u001B[1;32m~\\anaconda3\\lib\\site-packages\\azureml\\core\\webservice\\webservice.py\u001B[0m in \u001B[0;36m_deploy_webservice\u001B[1;34m(workspace, name, webservice_payload, overwrite, webservice_class)\u001B[0m\n\u001B[0;32m    823\u001B[0m         \u001B[1;31m# TODO Remove check_for_existing_webservice() later, this check has already included in common validation.\u001B[0m\u001B[1;33m\u001B[0m\u001B[1;33m\u001B[0m\u001B[1;33m\u001B[0m\u001B[0m\n\u001B[0;32m    824\u001B[0m         \u001B[0mWebservice\u001B[0m\u001B[1;33m.\u001B[0m\u001B[0mcheck_for_existing_webservice\u001B[0m\u001B[1;33m(\u001B[0m\u001B[0mworkspace\u001B[0m\u001B[1;33m,\u001B[0m \u001B[0mname\u001B[0m\u001B[1;33m,\u001B[0m \u001B[0moverwrite\u001B[0m\u001B[1;33m)\u001B[0m\u001B[1;33m\u001B[0m\u001B[1;33m\u001B[0m\u001B[0m\n\u001B[1;32m--> 825\u001B[1;33m         Webservice._check_for_webservice(workspace, name, Webservice._get_deploy_compute_type(webservice_payload),\n\u001B[0m\u001B[0;32m    826\u001B[0m                                          webservice_payload, SERVICE_REQUEST_OPERATION_CREATE)\n\u001B[0;32m    827\u001B[0m         \u001B[0mWebservice\u001B[0m\u001B[1;33m.\u001B[0m\u001B[0m_check_for_compute_resource\u001B[0m\u001B[1;33m(\u001B[0m\u001B[0mworkspace\u001B[0m\u001B[1;33m,\u001B[0m \u001B[0mwebservice_payload\u001B[0m\u001B[1;33m)\u001B[0m\u001B[1;33m\u001B[0m\u001B[1;33m\u001B[0m\u001B[0m\n",
      "\u001B[1;32m~\\anaconda3\\lib\\site-packages\\azureml\\core\\webservice\\webservice.py\u001B[0m in \u001B[0;36m_check_for_webservice\u001B[1;34m(workspace, name, compute_type, payload, action, request_func, check_func)\u001B[0m\n\u001B[0;32m    742\u001B[0m                 \u001B[1;32mreturn\u001B[0m \u001B[0mWebservice\u001B[0m\u001B[1;33m.\u001B[0m\u001B[0m_check_validate_error\u001B[0m\u001B[1;33m(\u001B[0m\u001B[0mcontent\u001B[0m\u001B[1;33m)\u001B[0m\u001B[1;33m\u001B[0m\u001B[1;33m\u001B[0m\u001B[0m\n\u001B[0;32m    743\u001B[0m \u001B[1;33m\u001B[0m\u001B[0m\n\u001B[1;32m--> 744\u001B[1;33m         \u001B[0mWebservice\u001B[0m\u001B[1;33m.\u001B[0m\u001B[0m_run_validate_framework\u001B[0m\u001B[1;33m(\u001B[0m\u001B[0mrequest_func\u001B[0m\u001B[1;33m,\u001B[0m \u001B[0mcheck_func\u001B[0m\u001B[1;33m)\u001B[0m\u001B[1;33m\u001B[0m\u001B[1;33m\u001B[0m\u001B[0m\n\u001B[0m\u001B[0;32m    745\u001B[0m \u001B[1;33m\u001B[0m\u001B[0m\n\u001B[0;32m    746\u001B[0m     \u001B[1;33m@\u001B[0m\u001B[0mstaticmethod\u001B[0m\u001B[1;33m\u001B[0m\u001B[1;33m\u001B[0m\u001B[0m\n",
      "\u001B[1;32m~\\anaconda3\\lib\\site-packages\\azureml\\core\\webservice\\webservice.py\u001B[0m in \u001B[0;36m_run_validate_framework\u001B[1;34m(request_func, check_func)\u001B[0m\n\u001B[0;32m    636\u001B[0m             \u001B[1;32mreturn\u001B[0m\u001B[1;33m\u001B[0m\u001B[1;33m\u001B[0m\u001B[0m\n\u001B[0;32m    637\u001B[0m \u001B[1;33m\u001B[0m\u001B[0m\n\u001B[1;32m--> 638\u001B[1;33m         \u001B[1;32mraise\u001B[0m \u001B[0mWebserviceException\u001B[0m\u001B[1;33m(\u001B[0m\u001B[0merror\u001B[0m\u001B[1;33m)\u001B[0m\u001B[1;33m\u001B[0m\u001B[1;33m\u001B[0m\u001B[0m\n\u001B[0m\u001B[0;32m    639\u001B[0m \u001B[1;33m\u001B[0m\u001B[0m\n\u001B[0;32m    640\u001B[0m     \u001B[1;33m@\u001B[0m\u001B[0mstaticmethod\u001B[0m\u001B[1;33m\u001B[0m\u001B[1;33m\u001B[0m\u001B[0m\n",
      "\u001B[1;31mWebserviceException\u001B[0m: WebserviceException:\n\tMessage: There is no model with id knn:1 in ml-music-genre-classification\n\tInnerException None\n\tErrorResponse \n{\n    \"error\": {\n        \"message\": \"There is no model with id knn:1 in ml-music-genre-classification\"\n    }\n}"
     ]
    }
   ],
   "source": [
    "service = Model.deploy(workspace = wspace,\n",
    "                       name = \"genre-classification\",\n",
    "                       models = [model],\n",
    "                       inference_config = inference_config,\n",
    "                       deployment_config = aci_config,\n",
    "                       overwrite = True)\n",
    "\n",
    "service.wait_for_deployment(show_output = True)\n",
    "print(service.get_logs())"
   ],
   "metadata": {
    "collapsed": false,
    "pycharm": {
     "name": "#%%\n"
    }
   }
  }
 ],
 "metadata": {
  "kernelspec": {
   "name": "python3",
   "language": "python",
   "display_name": "Python 3"
  },
  "language_info": {
   "codemirror_mode": {
    "name": "ipython",
    "version": 2
   },
   "file_extension": ".py",
   "mimetype": "text/x-python",
   "name": "python",
   "nbconvert_exporter": "python",
   "pygments_lexer": "ipython2",
   "version": "2.7.6"
  }
 },
 "nbformat": 4,
 "nbformat_minor": 0
}