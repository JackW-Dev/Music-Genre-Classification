{
 "cells": [
  {
   "cell_type": "markdown",
   "source": [
    "# Azure ML Workspace"
   ],
   "metadata": {
    "collapsed": false,
    "pycharm": {
     "name": "#%% md\n"
    }
   }
  },
  {
   "cell_type": "markdown",
   "metadata": {
    "collapsed": true,
    "pycharm": {
     "name": "#%% md\n"
    }
   },
   "source": [
    "## Importing libraries"
   ]
  },
  {
   "cell_type": "code",
   "execution_count": 1,
   "outputs": [
    {
     "name": "stderr",
     "output_type": "stream",
     "text": [
      "Failure while loading azureml_run_type_providers. Failed to load entrypoint automl = azureml.train.automl.run:AutoMLRun._from_run_dto with exception (cryptography 3.1.1 (c:\\users\\jack\\anaconda3\\lib\\site-packages), Requirement.parse('cryptography<4.0.0,>=3.3.1; extra == \"crypto\"'), {'PyJWT'}).\n"
     ]
    }
   ],
   "source": [
    "from azureml.core import Workspace, Environment, Model\\\n",
    "    # , Dataset\n",
    "from azureml.core.conda_dependencies import CondaDependencies\n",
    "from azureml.core.model import InferenceConfig\n",
    "from azureml.core.webservice import AciWebservice\n",
    "import requests\n",
    "import json"
   ],
   "metadata": {
    "collapsed": false,
    "pycharm": {
     "name": "#%%\n"
    }
   }
  },
  {
   "cell_type": "markdown",
   "source": [
    "## Initialise workspace\n",
    "Initialise a workspace using the values from config.json\n",
    "If this file is not found, an exception occurs\n",
    "When an exception is detected, a workspace using the defined details is created"
   ],
   "metadata": {
    "collapsed": false
   }
  },
  {
   "cell_type": "code",
   "execution_count": 2,
   "outputs": [
    {
     "name": "stderr",
     "output_type": "stream",
     "text": [
      "UserWarning: The resource group doesn't exist or was not provided. AzureML SDK is creating a resource group=ml-classification in location=uksouth using subscription=11636c4c-f408-4202-980a-b738e97f4d7f.\n"
     ]
    },
    {
     "name": "stdout",
     "output_type": "stream",
     "text": [
      "Deploying AppInsights with name musicgeninsights14245d5b.\n",
      "Deployed AppInsights with name musicgeninsights14245d5b. Took 4.0 seconds.\n",
      "Deploying KeyVault with name musicgenkeyvault4ae666d9.\n",
      "Deploying StorageAccount with name musicgenstoragee08c371bd.\n",
      "Deployed KeyVault with name musicgenkeyvault4ae666d9. Took 19.18 seconds.\n",
      "Deploying Workspace with name music-genre-classification.\n",
      "Deployed StorageAccount with name musicgenstoragee08c371bd. Took 20.74 seconds.\n",
      "Deployed Workspace with name music-genre-classification. Took 19.98 seconds.\n",
      "Workspace successfully loaded\n"
     ]
    }
   ],
   "source": [
    "try:\n",
    "    ## Try to load workspace\n",
    "    wspace = Workspace.from_config()\n",
    "except Exception as ex:\n",
    "    ## Create new workspace if existing is not found\n",
    "    wspace = Workspace.create(name = \"music-genre-classification\",\n",
    "                                  subscription_id = \"11636c4c-f408-4202-980a-b738e97f4d7f\",\n",
    "                                  resource_group = \"ml-classification\",\n",
    "                                  create_resource_group = True,\n",
    "                                  location = \"uksouth\")\n",
    "\n",
    "    ## Write workspace config to a local file\n",
    "    wspace.write_config()\n",
    "\n",
    "print(\"Workspace successfully loaded\")"
   ],
   "metadata": {
    "collapsed": false,
    "pycharm": {
     "name": "#%%\n"
    }
   }
  },
  {
   "cell_type": "markdown",
   "source": [
    "## Create an environment\n",
    "Create an environment for the model to run on the Azure servers"
   ],
   "metadata": {
    "collapsed": false
   }
  },
  {
   "cell_type": "code",
   "execution_count": 3,
   "outputs": [
    {
     "name": "stdout",
     "output_type": "stream",
     "text": [
      "Environment Registered\n",
      "Environment Saved\n"
     ]
    }
   ],
   "source": [
    "##  Load conda dependencies required for this environment.\n",
    "##  Register environment for the workspace\n",
    "env = Environment(\"env\")\n",
    "\n",
    "conda_dep = CondaDependencies.create(pip_packages = [\"pandas == 1.1.3\",\n",
    "                                                    \"azureml-core\",\n",
    "                                                    \"azureml-defaults >= 1.0.45\"],\n",
    "                                    conda_packages = [\"scikit-learn == 0.23.2\"])\n",
    "\n",
    "env.python.conda_dependencies = conda_dep\n",
    "\n",
    "env.register(workspace = wspace)\n",
    "\n",
    "print(\"Environment Registered\")\n",
    "\n",
    "## Get the environment created from the workspace and create a file to verify it has been defined\n",
    "my_env = Environment.get(workspace = wspace, name = \"env\")\n",
    "my_env.save_to_directory(\"./environ\", overwrite = True)\n",
    "\n",
    "print(\"Environment Saved\")\n",
    "\n",
    "inference_config = InferenceConfig(entry_script = \"score.py\",\n",
    "                                   environment = my_env)"
   ],
   "metadata": {
    "collapsed": false,
    "pycharm": {
     "name": "#%%\n"
    }
   }
  },
  {
   "cell_type": "markdown",
   "source": [
    "## Register the models\n",
    "Register the saved model created by \"knn-model-tuning\" and \"svm-model-tuning\" for use on Azure ML"
   ],
   "metadata": {
    "collapsed": false
   }
  },
  {
   "cell_type": "code",
   "execution_count": 4,
   "outputs": [
    {
     "name": "stdout",
     "output_type": "stream",
     "text": [
      "Registering model knn\n",
      "Registering model svm\n"
     ]
    }
   ],
   "source": [
    "knn_model = Model.register(workspace = wspace,\n",
    "                       model_name = \"knn\",\n",
    "                       model_path = \"models/knn.pkl\",\n",
    "                       model_framework = \"ScikitLearn\",\n",
    "                       description = \"Tuned KNN for Genre Classification\")\n",
    "\n",
    "svm_model = Model.register(workspace = wspace,\n",
    "                       model_name = \"svm\",\n",
    "                       model_path = \"models/svm.pkl\",\n",
    "                       model_framework = \"ScikitLearn\",\n",
    "                       description = \"Tuned SVM for Genre Classification\")"
   ],
   "metadata": {
    "collapsed": false,
    "pycharm": {
     "name": "#%%\n"
    }
   }
  },
  {
   "cell_type": "markdown",
   "source": [
    "## Set up Azure Container Instance\n",
    "Define ACI Webservice"
   ],
   "metadata": {
    "collapsed": false
   }
  },
  {
   "cell_type": "code",
   "execution_count": 5,
   "outputs": [],
   "source": [
    "aci_config = AciWebservice.deploy_configuration(\n",
    "    cpu_cores = 1,\n",
    "    memory_gb = 1)\n"
   ],
   "metadata": {
    "collapsed": false,
    "pycharm": {
     "name": "#%%\n"
    }
   }
  },
  {
   "cell_type": "markdown",
   "source": [
    "## Deploy the models\n",
    "Deploy the models onto the defined ACI container using the set environment, inference config and workspace"
   ],
   "metadata": {
    "collapsed": false
   }
  },
  {
   "cell_type": "code",
   "execution_count": 6,
   "outputs": [
    {
     "name": "stdout",
     "output_type": "stream",
     "text": [
      "Tips: You can try get_logs(): https://aka.ms/debugimage#dockerlog or local deployment: https://aka.ms/debugimage#debug-locally to debug if deployment takes longer than 10 minutes.\n",
      "Running....................................................................................................................\n",
      "Succeeded\n",
      "ACI service creation operation finished, operation \"Succeeded\"\n",
      "2021-04-19T17:16:13,340446000+00:00 - rsyslog/run \n",
      "2021-04-19T17:16:13,341416200+00:00 - iot-server/run \n",
      "2021-04-19T17:16:13,359848500+00:00 - gunicorn/run \n",
      "2021-04-19T17:16:13,381074100+00:00 - nginx/run \n",
      "/usr/sbin/nginx: /azureml-envs/azureml_d322234cf1103dbd7b07da4ab58adb31/lib/libcrypto.so.1.0.0: no version information available (required by /usr/sbin/nginx)\n",
      "/usr/sbin/nginx: /azureml-envs/azureml_d322234cf1103dbd7b07da4ab58adb31/lib/libcrypto.so.1.0.0: no version information available (required by /usr/sbin/nginx)\n",
      "/usr/sbin/nginx: /azureml-envs/azureml_d322234cf1103dbd7b07da4ab58adb31/lib/libssl.so.1.0.0: no version information available (required by /usr/sbin/nginx)\n",
      "/usr/sbin/nginx: /azureml-envs/azureml_d322234cf1103dbd7b07da4ab58adb31/lib/libssl.so.1.0.0: no version information available (required by /usr/sbin/nginx)\n",
      "/usr/sbin/nginx: /azureml-envs/azureml_d322234cf1103dbd7b07da4ab58adb31/lib/libssl.so.1.0.0: no version information available (required by /usr/sbin/nginx)\n",
      "EdgeHubConnectionString and IOTEDGE_IOTHUBHOSTNAME are not set. Exiting...\n",
      "2021-04-19T17:16:13,866057700+00:00 - iot-server/finish 1 0\n",
      "2021-04-19T17:16:13,869834800+00:00 - Exit code 1 is normal. Not restarting iot-server.\n",
      "Starting gunicorn 19.9.0\n",
      "Listening at: http://127.0.0.1:31311 (75)\n",
      "Using worker: sync\n",
      "worker timeout is set to 300\n",
      "Booting worker with pid: 101\n",
      "SPARK_HOME not set. Skipping PySpark Initialization.\n",
      "Initializing logger\n",
      "2021-04-19 17:16:17,124 | root | INFO | Starting up app insights client\n",
      "2021-04-19 17:16:17,124 | root | INFO | Starting up request id generator\n",
      "2021-04-19 17:16:17,124 | root | INFO | Starting up app insight hooks\n",
      "2021-04-19 17:16:17,124 | root | INFO | Invoking user's init function\n",
      "2021-04-19 17:16:17,886 | root | INFO | Users's init has completed successfully\n",
      "2021-04-19 17:16:17,890 | root | INFO | Skipping middleware: dbg_model_info as it's not enabled.\n",
      "2021-04-19 17:16:17,890 | root | INFO | Skipping middleware: dbg_resource_usage as it's not enabled.\n",
      "2021-04-19 17:16:17,891 | root | INFO | Scoring timeout is found from os.environ: 60000 ms\n",
      "2021-04-19 17:16:24,000 | root | INFO | Swagger file not present\n",
      "2021-04-19 17:16:24,001 | root | INFO | 404\n",
      "127.0.0.1 - - [19/Apr/2021:17:16:23 +0000] \"GET /swagger.json HTTP/1.0\" 404 19 \"-\" \"Go-http-client/1.1\"\n",
      "2021-04-19 17:16:27,041 | root | INFO | Swagger file not present\n",
      "2021-04-19 17:16:27,042 | root | INFO | 404\n",
      "127.0.0.1 - - [19/Apr/2021:17:16:27 +0000] \"GET /swagger.json HTTP/1.0\" 404 19 \"-\" \"Go-http-client/1.1\"\n",
      "\n",
      "http://bccefca4-fe1a-48b7-acab-f0366d0f7f9b.uksouth.azurecontainer.io/score\n"
     ]
    }
   ],
   "source": [
    "service = Model.deploy(workspace = wspace,\n",
    "                       name = \"music-genre-service\",\n",
    "                       models = [knn_model, svm_model],\n",
    "                       inference_config = inference_config,\n",
    "                       deployment_config = aci_config,\n",
    "                       overwrite = True)\n",
    "\n",
    "service.wait_for_deployment(show_output = True)\n",
    "print(service.get_logs())\n",
    "\n",
    "print(service.scoring_uri)"
   ],
   "metadata": {
    "collapsed": false,
    "pycharm": {
     "name": "#%%\n"
    }
   }
  },
  {
   "cell_type": "markdown",
   "source": [
    "## Test the web service\n",
    "Test the web service has successfully deployed using test data"
   ],
   "metadata": {
    "collapsed": false
   }
  },
  {
   "cell_type": "code",
   "execution_count": 7,
   "outputs": [
    {
     "name": "stdout",
     "output_type": "stream",
     "text": [
      "{'KNN': ['Rock', 'Metal', 'Country', 'Classical', 'Rock', 'HipHop', 'Jazz', 'Reggae', 'Pop', 'Blues'], 'SVM': ['Reggae', 'HipHop', 'HipHop', 'Classical', 'Metal', 'HipHop', 'Blues', 'Reggae', 'Pop', 'Metal']}\n",
      "{'KNN': ['Rock', 'Metal', 'Country', 'Classical', 'Rock', 'HipHop', 'Jazz', 'Reggae', 'Pop', 'Blues'], 'SVM': ['Reggae', 'HipHop', 'HipHop', 'Classical', 'Metal', 'HipHop', 'Blues', 'Reggae', 'Pop', 'Metal']}\n"
     ]
    }
   ],
   "source": [
    "url = service.scoring_uri\n",
    "\n",
    "# Setting strict to false allows the JSON data to be loaded without errors\n",
    "\n",
    "data = json.load(open(\"test_data.json\"), strict=False)\n",
    "\n",
    "# First method uses the requests library to POST data to the web service\n",
    "\n",
    "response = requests.post(url, json=data)\n",
    "\n",
    "print(response.json())\n",
    "\n",
    "# Second method uses the build in run method within the WebService class\n",
    "\n",
    "response_run = service.run(json.dumps(data))\n",
    "\n",
    "print(response_run)"
   ],
   "metadata": {
    "collapsed": false,
    "pycharm": {
     "name": "#%%\n"
    }
   }
  },
  {
   "cell_type": "markdown",
   "source": [
    "## Delete ACI\n",
    "Delete the ACI instance to clean up\n",
    "(This will also delete the endpoint)"
   ],
   "metadata": {
    "collapsed": false
   }
  },
  {
   "cell_type": "code",
   "execution_count": 8,
   "outputs": [],
   "source": [
    "# service.delete()"
   ],
   "metadata": {
    "collapsed": false,
    "pycharm": {
     "name": "#%%\n"
    }
   }
  }
 ],
 "metadata": {
  "kernelspec": {
   "name": "python3",
   "language": "python",
   "display_name": "Python 3"
  },
  "language_info": {
   "codemirror_mode": {
    "name": "ipython",
    "version": 2
   },
   "file_extension": ".py",
   "mimetype": "text/x-python",
   "name": "python",
   "nbconvert_exporter": "python",
   "pygments_lexer": "ipython2",
   "version": "2.7.6"
  }
 },
 "nbformat": 4,
 "nbformat_minor": 0
}