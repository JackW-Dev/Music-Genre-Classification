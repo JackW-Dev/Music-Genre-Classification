{
 "cells": [
  {
   "cell_type": "markdown",
   "source": [
    "# Azure ML Workspace"
   ],
   "metadata": {
    "collapsed": false,
    "pycharm": {
     "name": "#%% md\n"
    }
   }
  },
  {
   "cell_type": "markdown",
   "metadata": {
    "collapsed": true,
    "pycharm": {
     "name": "#%% md\n"
    }
   },
   "source": [
    "## Importing libraries"
   ]
  },
  {
   "cell_type": "code",
   "execution_count": 20,
   "outputs": [],
   "source": [
    "from azureml.core import Workspace, Model\n",
    "from azureml.core.conda_dependencies import CondaDependencies\n",
    "from azureml.core.environment import Environment\n",
    "import requests"
   ],
   "metadata": {
    "collapsed": false,
    "pycharm": {
     "name": "#%%\n"
    }
   }
  },
  {
   "cell_type": "markdown",
   "source": [
    "## Initialise workspace\n",
    "Initialise a workspace using the values from config.json\n",
    "This Json file was downloaded after provisioning a workspace through the online interface.\n",
    "This could also be created programmatically using Workspace.create()"
   ],
   "metadata": {
    "collapsed": false
   }
  },
  {
   "cell_type": "code",
   "execution_count": 21,
   "outputs": [],
   "source": [
    "from azureml.core.model import InferenceConfig\n",
    "from azureml.core.webservice import AciWebservice\n",
    "wspace = Workspace.from_config()"
   ],
   "metadata": {
    "collapsed": false,
    "pycharm": {
     "name": "#%%\n"
    }
   }
  },
  {
   "cell_type": "markdown",
   "source": [
    "## Register the ML model\n",
    "Load the ML model into the workspace from file.\n",
    "This file was produced previously.\n",
    "This method will allow different models to be loaded using the same workspace."
   ],
   "metadata": {
    "collapsed": false,
    "pycharm": {
     "name": "#%% md\n"
    }
   }
  },
  {
   "cell_type": "code",
   "execution_count": 22,
   "outputs": [
    {
     "name": "stdout",
     "output_type": "stream",
     "text": [
      "Registering model KNN\n",
      "Model Loaded\n"
     ]
    }
   ],
   "source": [
    "##  Load the ML model from file. This file will most likely be a pickle dump.\n",
    "\n",
    "model = Model.register(workspace = wspace,\n",
    "                       model_path = \"models/knn.pkl\",\n",
    "                       model_name = \"KNN\",\n",
    "                       description = \"Music Genre Classification\")\n",
    "\n",
    "print(\"Model Loaded\")"
   ],
   "metadata": {
    "collapsed": false,
    "pycharm": {
     "name": "#%%\n"
    }
   }
  },
  {
   "cell_type": "markdown",
   "source": [
    "## Create an environment\n",
    "Create an environment for the model to run on the Azure servers."
   ],
   "metadata": {
    "collapsed": false,
    "pycharm": {
     "name": "#%% md\n"
    }
   }
  },
  {
   "cell_type": "code",
   "execution_count": 23,
   "outputs": [
    {
     "name": "stdout",
     "output_type": "stream",
     "text": [
      "Environment Registered\n",
      "Workspace Saved\n"
     ]
    }
   ],
   "source": [
    "environment = Environment('env')\n",
    "##  Load conda dependencies required for this environment.\n",
    "##  Register environment for the workspace\n",
    "\n",
    "env = Environment(\"env\")\n",
    "\n",
    "condaDep = CondaDependencies.create(pip_packages = [\"pandas == 1.1.3\",\n",
    "                                                    \"azureml-core\"],\n",
    "                                    conda_packages = [\"scikit-learn == 0.23.2\"])\n",
    "\n",
    "env.python.conda_dependencies = condaDep\n",
    "\n",
    "env.register(workspace = wspace)\n",
    "\n",
    "print(\"Environment Registered\")\n",
    "\n",
    "my_env = Environment.get(workspace = wspace, name = \"env\")\n",
    "my_env.save_to_directory(\"./environ\", overwrite = True)\n",
    "\n",
    "print(\"Workspace Saved\")"
   ],
   "metadata": {
    "collapsed": false,
    "pycharm": {
     "name": "#%%\n"
    }
   }
  },
  {
   "cell_type": "markdown",
   "source": [
    "## Provision the hardware to be used\n",
    "Define the hardware configuration that will be used to process the model."
   ],
   "metadata": {
    "collapsed": false
   }
  },
  {
   "cell_type": "code",
   "execution_count": 24,
   "outputs": [
    {
     "name": "stderr",
     "output_type": "stream",
     "text": [
      "Warning, azureml-defaults not detected in provided environment pip dependencies. The azureml-defaults package contains requirements for the inference stack to run, and should be included.\n"
     ]
    },
    {
     "name": "stdout",
     "output_type": "stream",
     "text": [
      "Azure Container Provisioned\n"
     ]
    }
   ],
   "source": [
    "##  Define the hardware config and deployment config\n",
    "\n",
    "azure_container_config = AciWebservice.deploy_configuration(\n",
    "    cpu_cores = 1,\n",
    "    memory_gb = 1,\n",
    "    description = \"Genre Classication ML\")\n",
    "\n",
    "inf_config = InferenceConfig(entry_script = \"ent_script.py\",\n",
    "                                   environment = my_env)\n",
    "\n",
    "print(\"Azure Container Provisioned\")"
   ],
   "metadata": {
    "collapsed": false,
    "pycharm": {
     "name": "#%%\n"
    }
   }
  },
  {
   "cell_type": "markdown",
   "source": [
    "## Deploy"
   ],
   "metadata": {
    "collapsed": false
   }
  },
  {
   "cell_type": "code",
   "execution_count": 25,
   "outputs": [
    {
     "name": "stdout",
     "output_type": "stream",
     "text": [
      "Tips: You can try get_logs(): https://aka.ms/debugimage#dockerlog or local deployment: https://aka.ms/debugimage#debug-locally to debug if deployment takes longer than 10 minutes.\n",
      "Running....................................................................................................................................\n",
      "Failed\n"
     ]
    },
    {
     "name": "stderr",
     "output_type": "stream",
     "text": [
      "Service deployment polling reached non-successful terminal state, current service state: Failed\n",
      "Operation ID: 32b6f746-49d5-41b5-b71b-a677bd5afe0d\n",
      "More information can be found using '.get_logs()'\n",
      "Error:\n",
      "{\n",
      "  \"code\": \"AciDeploymentFailed\",\n",
      "  \"statusCode\": 400,\n",
      "  \"message\": \"Aci Deployment failed with exception: Your container application crashed. This may be caused by errors in your scoring file's init() function.\n",
      "\t1. Please check the logs for your container instance: music-genre-classification. From the AML SDK, you can run print(service.get_logs()) if you have service object to fetch the logs.\n",
      "\t2. You can interactively debug your scoring file locally. Please refer to https://docs.microsoft.com/azure/machine-learning/how-to-debug-visual-studio-code#debug-and-troubleshoot-deployments for more information.\n",
      "\t3. You can also try to run image 66425b6f967443bc9d0872cda5da0cca.azurecr.io/azureml/azureml_7dfe8dd778c74da1189b045f536704c1 locally. Please refer to https://aka.ms/debugimage#service-launch-fails for more information.\",\n",
      "  \"details\": [\n",
      "    {\n",
      "      \"code\": \"CrashLoopBackOff\",\n",
      "      \"message\": \"Your container application crashed. This may be caused by errors in your scoring file's init() function.\n",
      "\t1. Please check the logs for your container instance: music-genre-classification. From the AML SDK, you can run print(service.get_logs()) if you have service object to fetch the logs.\n",
      "\t2. You can interactively debug your scoring file locally. Please refer to https://docs.microsoft.com/azure/machine-learning/how-to-debug-visual-studio-code#debug-and-troubleshoot-deployments for more information.\n",
      "\t3. You can also try to run image 66425b6f967443bc9d0872cda5da0cca.azurecr.io/azureml/azureml_7dfe8dd778c74da1189b045f536704c1 locally. Please refer to https://aka.ms/debugimage#service-launch-fails for more information.\"\n",
      "    },\n",
      "    {\n",
      "      \"code\": \"AciDeploymentFailed\",\n",
      "      \"message\": \"Your container application crashed. Please follow the steps to debug:\n",
      "\t1. From the AML SDK, you can run print(service.get_logs()) if you have service object to fetch the logs. Please refer to https://aka.ms/debugimage#dockerlog for more information.\n",
      "\t2. If your container application crashed. This may be caused by errors in your scoring file's init() function. You can try debugging locally first. Please refer to https://aka.ms/debugimage#debug-locally for more information.\n",
      "\t3. You can also interactively debug your scoring file locally. Please refer to https://docs.microsoft.com/azure/machine-learning/how-to-debug-visual-studio-code#debug-and-troubleshoot-deployments for more information.\n",
      "\t4. View the diagnostic events to check status of container, it may help you to debug the issue.\n",
      "\"RestartCount\": 3\n",
      "\"CurrentState\": {\"state\":\"Waiting\",\"startTime\":null,\"exitCode\":null,\"finishTime\":null,\"detailStatus\":\"CrashLoopBackOff: Back-off restarting failed\"}\n",
      "\"PreviousState\": {\"state\":\"Terminated\",\"startTime\":\"2021-03-08T12:07:48.157Z\",\"exitCode\":111,\"finishTime\":\"2021-03-08T12:07:51.173Z\",\"detailStatus\":\"Error\"}\n",
      "\"Events\":\n",
      "{\"count\":1,\"firstTimestamp\":\"2021-03-08T12:03:45Z\",\"lastTimestamp\":\"2021-03-08T12:03:45Z\",\"name\":\"Pulling\",\"message\":\"pulling image \"66425b6f967443bc9d0872cda5da0cca.azurecr.io/azureml/azureml_7dfe8dd778c74da1189b045f536704c1:latest\"\",\"type\":\"Normal\"}\n",
      "{\"count\":1,\"firstTimestamp\":\"2021-03-08T12:06:06Z\",\"lastTimestamp\":\"2021-03-08T12:06:06Z\",\"name\":\"Pulled\",\"message\":\"Successfully pulled image \"66425b6f967443bc9d0872cda5da0cca.azurecr.io/azureml/azureml_7dfe8dd778c74da1189b045f536704c1:latest\"\",\"type\":\"Normal\"}\n",
      "{\"count\":4,\"firstTimestamp\":\"2021-03-08T12:06:27Z\",\"lastTimestamp\":\"2021-03-08T12:07:48Z\",\"name\":\"Started\",\"message\":\"Started container\",\"type\":\"Normal\"}\n",
      "{\"count\":4,\"firstTimestamp\":\"2021-03-08T12:06:29Z\",\"lastTimestamp\":\"2021-03-08T12:07:51Z\",\"name\":\"Killing\",\"message\":\"Killing container with id 731aa428d52a07d0bca22f0e495c7a834c8968d5d427c71c5588ff19916a1092.\",\"type\":\"Normal\"}\n",
      "\"\n",
      "    }\n",
      "  ]\n",
      "}\n",
      "\n"
     ]
    },
    {
     "ename": "WebserviceException",
     "evalue": "WebserviceException:\n\tMessage: Service deployment polling reached non-successful terminal state, current service state: Failed\nOperation ID: 32b6f746-49d5-41b5-b71b-a677bd5afe0d\nMore information can be found using '.get_logs()'\nError:\n{\n  \"code\": \"AciDeploymentFailed\",\n  \"statusCode\": 400,\n  \"message\": \"Aci Deployment failed with exception: Your container application crashed. This may be caused by errors in your scoring file's init() function.\n\t1. Please check the logs for your container instance: music-genre-classification. From the AML SDK, you can run print(service.get_logs()) if you have service object to fetch the logs.\n\t2. You can interactively debug your scoring file locally. Please refer to https://docs.microsoft.com/azure/machine-learning/how-to-debug-visual-studio-code#debug-and-troubleshoot-deployments for more information.\n\t3. You can also try to run image 66425b6f967443bc9d0872cda5da0cca.azurecr.io/azureml/azureml_7dfe8dd778c74da1189b045f536704c1 locally. Please refer to https://aka.ms/debugimage#service-launch-fails for more information.\",\n  \"details\": [\n    {\n      \"code\": \"CrashLoopBackOff\",\n      \"message\": \"Your container application crashed. This may be caused by errors in your scoring file's init() function.\n\t1. Please check the logs for your container instance: music-genre-classification. From the AML SDK, you can run print(service.get_logs()) if you have service object to fetch the logs.\n\t2. You can interactively debug your scoring file locally. Please refer to https://docs.microsoft.com/azure/machine-learning/how-to-debug-visual-studio-code#debug-and-troubleshoot-deployments for more information.\n\t3. You can also try to run image 66425b6f967443bc9d0872cda5da0cca.azurecr.io/azureml/azureml_7dfe8dd778c74da1189b045f536704c1 locally. Please refer to https://aka.ms/debugimage#service-launch-fails for more information.\"\n    },\n    {\n      \"code\": \"AciDeploymentFailed\",\n      \"message\": \"Your container application crashed. Please follow the steps to debug:\n\t1. From the AML SDK, you can run print(service.get_logs()) if you have service object to fetch the logs. Please refer to https://aka.ms/debugimage#dockerlog for more information.\n\t2. If your container application crashed. This may be caused by errors in your scoring file's init() function. You can try debugging locally first. Please refer to https://aka.ms/debugimage#debug-locally for more information.\n\t3. You can also interactively debug your scoring file locally. Please refer to https://docs.microsoft.com/azure/machine-learning/how-to-debug-visual-studio-code#debug-and-troubleshoot-deployments for more information.\n\t4. View the diagnostic events to check status of container, it may help you to debug the issue.\n\"RestartCount\": 3\n\"CurrentState\": {\"state\":\"Waiting\",\"startTime\":null,\"exitCode\":null,\"finishTime\":null,\"detailStatus\":\"CrashLoopBackOff: Back-off restarting failed\"}\n\"PreviousState\": {\"state\":\"Terminated\",\"startTime\":\"2021-03-08T12:07:48.157Z\",\"exitCode\":111,\"finishTime\":\"2021-03-08T12:07:51.173Z\",\"detailStatus\":\"Error\"}\n\"Events\":\n{\"count\":1,\"firstTimestamp\":\"2021-03-08T12:03:45Z\",\"lastTimestamp\":\"2021-03-08T12:03:45Z\",\"name\":\"Pulling\",\"message\":\"pulling image \"66425b6f967443bc9d0872cda5da0cca.azurecr.io/azureml/azureml_7dfe8dd778c74da1189b045f536704c1:latest\"\",\"type\":\"Normal\"}\n{\"count\":1,\"firstTimestamp\":\"2021-03-08T12:06:06Z\",\"lastTimestamp\":\"2021-03-08T12:06:06Z\",\"name\":\"Pulled\",\"message\":\"Successfully pulled image \"66425b6f967443bc9d0872cda5da0cca.azurecr.io/azureml/azureml_7dfe8dd778c74da1189b045f536704c1:latest\"\",\"type\":\"Normal\"}\n{\"count\":4,\"firstTimestamp\":\"2021-03-08T12:06:27Z\",\"lastTimestamp\":\"2021-03-08T12:07:48Z\",\"name\":\"Started\",\"message\":\"Started container\",\"type\":\"Normal\"}\n{\"count\":4,\"firstTimestamp\":\"2021-03-08T12:06:29Z\",\"lastTimestamp\":\"2021-03-08T12:07:51Z\",\"name\":\"Killing\",\"message\":\"Killing container with id 731aa428d52a07d0bca22f0e495c7a834c8968d5d427c71c5588ff19916a1092.\",\"type\":\"Normal\"}\n\"\n    }\n  ]\n}\n\tInnerException None\n\tErrorResponse \n{\n    \"error\": {\n        \"message\": \"Service deployment polling reached non-successful terminal state, current service state: Failed\\nOperation ID: 32b6f746-49d5-41b5-b71b-a677bd5afe0d\\nMore information can be found using '.get_logs()'\\nError:\\n{\\n  \\\"code\\\": \\\"AciDeploymentFailed\\\",\\n  \\\"statusCode\\\": 400,\\n  \\\"message\\\": \\\"Aci Deployment failed with exception: Your container application crashed. This may be caused by errors in your scoring file's init() function.\\n\\t1. Please check the logs for your container instance: music-genre-classification. From the AML SDK, you can run print(service.get_logs()) if you have service object to fetch the logs.\\n\\t2. You can interactively debug your scoring file locally. Please refer to https://docs.microsoft.com/azure/machine-learning/how-to-debug-visual-studio-code#debug-and-troubleshoot-deployments for more information.\\n\\t3. You can also try to run image 66425b6f967443bc9d0872cda5da0cca.azurecr.io/azureml/azureml_7dfe8dd778c74da1189b045f536704c1 locally. Please refer to https://aka.ms/debugimage#service-launch-fails for more information.\\\",\\n  \\\"details\\\": [\\n    {\\n      \\\"code\\\": \\\"CrashLoopBackOff\\\",\\n      \\\"message\\\": \\\"Your container application crashed. This may be caused by errors in your scoring file's init() function.\\n\\t1. Please check the logs for your container instance: music-genre-classification. From the AML SDK, you can run print(service.get_logs()) if you have service object to fetch the logs.\\n\\t2. You can interactively debug your scoring file locally. Please refer to https://docs.microsoft.com/azure/machine-learning/how-to-debug-visual-studio-code#debug-and-troubleshoot-deployments for more information.\\n\\t3. You can also try to run image 66425b6f967443bc9d0872cda5da0cca.azurecr.io/azureml/azureml_7dfe8dd778c74da1189b045f536704c1 locally. Please refer to https://aka.ms/debugimage#service-launch-fails for more information.\\\"\\n    },\\n    {\\n      \\\"code\\\": \\\"AciDeploymentFailed\\\",\\n      \\\"message\\\": \\\"Your container application crashed. Please follow the steps to debug:\\n\\t1. From the AML SDK, you can run print(service.get_logs()) if you have service object to fetch the logs. Please refer to https://aka.ms/debugimage#dockerlog for more information.\\n\\t2. If your container application crashed. This may be caused by errors in your scoring file's init() function. You can try debugging locally first. Please refer to https://aka.ms/debugimage#debug-locally for more information.\\n\\t3. You can also interactively debug your scoring file locally. Please refer to https://docs.microsoft.com/azure/machine-learning/how-to-debug-visual-studio-code#debug-and-troubleshoot-deployments for more information.\\n\\t4. View the diagnostic events to check status of container, it may help you to debug the issue.\\n\\\"RestartCount\\\": 3\\n\\\"CurrentState\\\": {\\\"state\\\":\\\"Waiting\\\",\\\"startTime\\\":null,\\\"exitCode\\\":null,\\\"finishTime\\\":null,\\\"detailStatus\\\":\\\"CrashLoopBackOff: Back-off restarting failed\\\"}\\n\\\"PreviousState\\\": {\\\"state\\\":\\\"Terminated\\\",\\\"startTime\\\":\\\"2021-03-08T12:07:48.157Z\\\",\\\"exitCode\\\":111,\\\"finishTime\\\":\\\"2021-03-08T12:07:51.173Z\\\",\\\"detailStatus\\\":\\\"Error\\\"}\\n\\\"Events\\\":\\n{\\\"count\\\":1,\\\"firstTimestamp\\\":\\\"2021-03-08T12:03:45Z\\\",\\\"lastTimestamp\\\":\\\"2021-03-08T12:03:45Z\\\",\\\"name\\\":\\\"Pulling\\\",\\\"message\\\":\\\"pulling image \\\"66425b6f967443bc9d0872cda5da0cca.azurecr.io/azureml/azureml_7dfe8dd778c74da1189b045f536704c1:latest\\\"\\\",\\\"type\\\":\\\"Normal\\\"}\\n{\\\"count\\\":1,\\\"firstTimestamp\\\":\\\"2021-03-08T12:06:06Z\\\",\\\"lastTimestamp\\\":\\\"2021-03-08T12:06:06Z\\\",\\\"name\\\":\\\"Pulled\\\",\\\"message\\\":\\\"Successfully pulled image \\\"66425b6f967443bc9d0872cda5da0cca.azurecr.io/azureml/azureml_7dfe8dd778c74da1189b045f536704c1:latest\\\"\\\",\\\"type\\\":\\\"Normal\\\"}\\n{\\\"count\\\":4,\\\"firstTimestamp\\\":\\\"2021-03-08T12:06:27Z\\\",\\\"lastTimestamp\\\":\\\"2021-03-08T12:07:48Z\\\",\\\"name\\\":\\\"Started\\\",\\\"message\\\":\\\"Started container\\\",\\\"type\\\":\\\"Normal\\\"}\\n{\\\"count\\\":4,\\\"firstTimestamp\\\":\\\"2021-03-08T12:06:29Z\\\",\\\"lastTimestamp\\\":\\\"2021-03-08T12:07:51Z\\\",\\\"name\\\":\\\"Killing\\\",\\\"message\\\":\\\"Killing container with id 731aa428d52a07d0bca22f0e495c7a834c8968d5d427c71c5588ff19916a1092.\\\",\\\"type\\\":\\\"Normal\\\"}\\n\\\"\\n    }\\n  ]\\n}\"\n    }\n}",
     "output_type": "error",
     "traceback": [
      "\u001B[1;31m---------------------------------------------------------------------------\u001B[0m",
      "\u001B[1;31mWebserviceException\u001B[0m                       Traceback (most recent call last)",
      "\u001B[1;32m<ipython-input-25-fa0d94d1e60b>\u001B[0m in \u001B[0;36m<module>\u001B[1;34m\u001B[0m\n\u001B[0;32m      6\u001B[0m                        overwrite = True)\n\u001B[0;32m      7\u001B[0m \u001B[1;33m\u001B[0m\u001B[0m\n\u001B[1;32m----> 8\u001B[1;33m \u001B[0mservice\u001B[0m\u001B[1;33m.\u001B[0m\u001B[0mwait_for_deployment\u001B[0m\u001B[1;33m(\u001B[0m\u001B[0mshow_output\u001B[0m \u001B[1;33m=\u001B[0m \u001B[1;32mTrue\u001B[0m\u001B[1;33m)\u001B[0m\u001B[1;33m\u001B[0m\u001B[1;33m\u001B[0m\u001B[0m\n\u001B[0m\u001B[0;32m      9\u001B[0m \u001B[0murl\u001B[0m \u001B[1;33m=\u001B[0m \u001B[0mservice\u001B[0m\u001B[1;33m.\u001B[0m\u001B[0mscoring_uri\u001B[0m\u001B[1;33m\u001B[0m\u001B[1;33m\u001B[0m\u001B[0m\n\u001B[0;32m     10\u001B[0m \u001B[0mprint\u001B[0m\u001B[1;33m(\u001B[0m\u001B[0murl\u001B[0m\u001B[1;33m)\u001B[0m\u001B[1;33m\u001B[0m\u001B[1;33m\u001B[0m\u001B[0m\n",
      "\u001B[1;32m~\\anaconda3\\lib\\site-packages\\azureml\\core\\webservice\\webservice.py\u001B[0m in \u001B[0;36mwait_for_deployment\u001B[1;34m(self, show_output, timeout_sec)\u001B[0m\n\u001B[0;32m    908\u001B[0m                     \u001B[0mlogs_response\u001B[0m \u001B[1;33m=\u001B[0m \u001B[1;34m'Current sub-operation type not known, more logs unavailable.'\u001B[0m\u001B[1;33m\u001B[0m\u001B[1;33m\u001B[0m\u001B[0m\n\u001B[0;32m    909\u001B[0m \u001B[1;33m\u001B[0m\u001B[0m\n\u001B[1;32m--> 910\u001B[1;33m                 raise WebserviceException('Service deployment polling reached non-successful terminal state, current '\n\u001B[0m\u001B[0;32m    911\u001B[0m                                           \u001B[1;34m'service state: {}\\n'\u001B[0m\u001B[1;33m\u001B[0m\u001B[1;33m\u001B[0m\u001B[0m\n\u001B[0;32m    912\u001B[0m                                           \u001B[1;34m'Operation ID: {}\\n'\u001B[0m\u001B[1;33m\u001B[0m\u001B[1;33m\u001B[0m\u001B[0m\n",
      "\u001B[1;31mWebserviceException\u001B[0m: WebserviceException:\n\tMessage: Service deployment polling reached non-successful terminal state, current service state: Failed\nOperation ID: 32b6f746-49d5-41b5-b71b-a677bd5afe0d\nMore information can be found using '.get_logs()'\nError:\n{\n  \"code\": \"AciDeploymentFailed\",\n  \"statusCode\": 400,\n  \"message\": \"Aci Deployment failed with exception: Your container application crashed. This may be caused by errors in your scoring file's init() function.\n\t1. Please check the logs for your container instance: music-genre-classification. From the AML SDK, you can run print(service.get_logs()) if you have service object to fetch the logs.\n\t2. You can interactively debug your scoring file locally. Please refer to https://docs.microsoft.com/azure/machine-learning/how-to-debug-visual-studio-code#debug-and-troubleshoot-deployments for more information.\n\t3. You can also try to run image 66425b6f967443bc9d0872cda5da0cca.azurecr.io/azureml/azureml_7dfe8dd778c74da1189b045f536704c1 locally. Please refer to https://aka.ms/debugimage#service-launch-fails for more information.\",\n  \"details\": [\n    {\n      \"code\": \"CrashLoopBackOff\",\n      \"message\": \"Your container application crashed. This may be caused by errors in your scoring file's init() function.\n\t1. Please check the logs for your container instance: music-genre-classification. From the AML SDK, you can run print(service.get_logs()) if you have service object to fetch the logs.\n\t2. You can interactively debug your scoring file locally. Please refer to https://docs.microsoft.com/azure/machine-learning/how-to-debug-visual-studio-code#debug-and-troubleshoot-deployments for more information.\n\t3. You can also try to run image 66425b6f967443bc9d0872cda5da0cca.azurecr.io/azureml/azureml_7dfe8dd778c74da1189b045f536704c1 locally. Please refer to https://aka.ms/debugimage#service-launch-fails for more information.\"\n    },\n    {\n      \"code\": \"AciDeploymentFailed\",\n      \"message\": \"Your container application crashed. Please follow the steps to debug:\n\t1. From the AML SDK, you can run print(service.get_logs()) if you have service object to fetch the logs. Please refer to https://aka.ms/debugimage#dockerlog for more information.\n\t2. If your container application crashed. This may be caused by errors in your scoring file's init() function. You can try debugging locally first. Please refer to https://aka.ms/debugimage#debug-locally for more information.\n\t3. You can also interactively debug your scoring file locally. Please refer to https://docs.microsoft.com/azure/machine-learning/how-to-debug-visual-studio-code#debug-and-troubleshoot-deployments for more information.\n\t4. View the diagnostic events to check status of container, it may help you to debug the issue.\n\"RestartCount\": 3\n\"CurrentState\": {\"state\":\"Waiting\",\"startTime\":null,\"exitCode\":null,\"finishTime\":null,\"detailStatus\":\"CrashLoopBackOff: Back-off restarting failed\"}\n\"PreviousState\": {\"state\":\"Terminated\",\"startTime\":\"2021-03-08T12:07:48.157Z\",\"exitCode\":111,\"finishTime\":\"2021-03-08T12:07:51.173Z\",\"detailStatus\":\"Error\"}\n\"Events\":\n{\"count\":1,\"firstTimestamp\":\"2021-03-08T12:03:45Z\",\"lastTimestamp\":\"2021-03-08T12:03:45Z\",\"name\":\"Pulling\",\"message\":\"pulling image \"66425b6f967443bc9d0872cda5da0cca.azurecr.io/azureml/azureml_7dfe8dd778c74da1189b045f536704c1:latest\"\",\"type\":\"Normal\"}\n{\"count\":1,\"firstTimestamp\":\"2021-03-08T12:06:06Z\",\"lastTimestamp\":\"2021-03-08T12:06:06Z\",\"name\":\"Pulled\",\"message\":\"Successfully pulled image \"66425b6f967443bc9d0872cda5da0cca.azurecr.io/azureml/azureml_7dfe8dd778c74da1189b045f536704c1:latest\"\",\"type\":\"Normal\"}\n{\"count\":4,\"firstTimestamp\":\"2021-03-08T12:06:27Z\",\"lastTimestamp\":\"2021-03-08T12:07:48Z\",\"name\":\"Started\",\"message\":\"Started container\",\"type\":\"Normal\"}\n{\"count\":4,\"firstTimestamp\":\"2021-03-08T12:06:29Z\",\"lastTimestamp\":\"2021-03-08T12:07:51Z\",\"name\":\"Killing\",\"message\":\"Killing container with id 731aa428d52a07d0bca22f0e495c7a834c8968d5d427c71c5588ff19916a1092.\",\"type\":\"Normal\"}\n\"\n    }\n  ]\n}\n\tInnerException None\n\tErrorResponse \n{\n    \"error\": {\n        \"message\": \"Service deployment polling reached non-successful terminal state, current service state: Failed\\nOperation ID: 32b6f746-49d5-41b5-b71b-a677bd5afe0d\\nMore information can be found using '.get_logs()'\\nError:\\n{\\n  \\\"code\\\": \\\"AciDeploymentFailed\\\",\\n  \\\"statusCode\\\": 400,\\n  \\\"message\\\": \\\"Aci Deployment failed with exception: Your container application crashed. This may be caused by errors in your scoring file's init() function.\\n\\t1. Please check the logs for your container instance: music-genre-classification. From the AML SDK, you can run print(service.get_logs()) if you have service object to fetch the logs.\\n\\t2. You can interactively debug your scoring file locally. Please refer to https://docs.microsoft.com/azure/machine-learning/how-to-debug-visual-studio-code#debug-and-troubleshoot-deployments for more information.\\n\\t3. You can also try to run image 66425b6f967443bc9d0872cda5da0cca.azurecr.io/azureml/azureml_7dfe8dd778c74da1189b045f536704c1 locally. Please refer to https://aka.ms/debugimage#service-launch-fails for more information.\\\",\\n  \\\"details\\\": [\\n    {\\n      \\\"code\\\": \\\"CrashLoopBackOff\\\",\\n      \\\"message\\\": \\\"Your container application crashed. This may be caused by errors in your scoring file's init() function.\\n\\t1. Please check the logs for your container instance: music-genre-classification. From the AML SDK, you can run print(service.get_logs()) if you have service object to fetch the logs.\\n\\t2. You can interactively debug your scoring file locally. Please refer to https://docs.microsoft.com/azure/machine-learning/how-to-debug-visual-studio-code#debug-and-troubleshoot-deployments for more information.\\n\\t3. You can also try to run image 66425b6f967443bc9d0872cda5da0cca.azurecr.io/azureml/azureml_7dfe8dd778c74da1189b045f536704c1 locally. Please refer to https://aka.ms/debugimage#service-launch-fails for more information.\\\"\\n    },\\n    {\\n      \\\"code\\\": \\\"AciDeploymentFailed\\\",\\n      \\\"message\\\": \\\"Your container application crashed. Please follow the steps to debug:\\n\\t1. From the AML SDK, you can run print(service.get_logs()) if you have service object to fetch the logs. Please refer to https://aka.ms/debugimage#dockerlog for more information.\\n\\t2. If your container application crashed. This may be caused by errors in your scoring file's init() function. You can try debugging locally first. Please refer to https://aka.ms/debugimage#debug-locally for more information.\\n\\t3. You can also interactively debug your scoring file locally. Please refer to https://docs.microsoft.com/azure/machine-learning/how-to-debug-visual-studio-code#debug-and-troubleshoot-deployments for more information.\\n\\t4. View the diagnostic events to check status of container, it may help you to debug the issue.\\n\\\"RestartCount\\\": 3\\n\\\"CurrentState\\\": {\\\"state\\\":\\\"Waiting\\\",\\\"startTime\\\":null,\\\"exitCode\\\":null,\\\"finishTime\\\":null,\\\"detailStatus\\\":\\\"CrashLoopBackOff: Back-off restarting failed\\\"}\\n\\\"PreviousState\\\": {\\\"state\\\":\\\"Terminated\\\",\\\"startTime\\\":\\\"2021-03-08T12:07:48.157Z\\\",\\\"exitCode\\\":111,\\\"finishTime\\\":\\\"2021-03-08T12:07:51.173Z\\\",\\\"detailStatus\\\":\\\"Error\\\"}\\n\\\"Events\\\":\\n{\\\"count\\\":1,\\\"firstTimestamp\\\":\\\"2021-03-08T12:03:45Z\\\",\\\"lastTimestamp\\\":\\\"2021-03-08T12:03:45Z\\\",\\\"name\\\":\\\"Pulling\\\",\\\"message\\\":\\\"pulling image \\\"66425b6f967443bc9d0872cda5da0cca.azurecr.io/azureml/azureml_7dfe8dd778c74da1189b045f536704c1:latest\\\"\\\",\\\"type\\\":\\\"Normal\\\"}\\n{\\\"count\\\":1,\\\"firstTimestamp\\\":\\\"2021-03-08T12:06:06Z\\\",\\\"lastTimestamp\\\":\\\"2021-03-08T12:06:06Z\\\",\\\"name\\\":\\\"Pulled\\\",\\\"message\\\":\\\"Successfully pulled image \\\"66425b6f967443bc9d0872cda5da0cca.azurecr.io/azureml/azureml_7dfe8dd778c74da1189b045f536704c1:latest\\\"\\\",\\\"type\\\":\\\"Normal\\\"}\\n{\\\"count\\\":4,\\\"firstTimestamp\\\":\\\"2021-03-08T12:06:27Z\\\",\\\"lastTimestamp\\\":\\\"2021-03-08T12:07:48Z\\\",\\\"name\\\":\\\"Started\\\",\\\"message\\\":\\\"Started container\\\",\\\"type\\\":\\\"Normal\\\"}\\n{\\\"count\\\":4,\\\"firstTimestamp\\\":\\\"2021-03-08T12:06:29Z\\\",\\\"lastTimestamp\\\":\\\"2021-03-08T12:07:51Z\\\",\\\"name\\\":\\\"Killing\\\",\\\"message\\\":\\\"Killing container with id 731aa428d52a07d0bca22f0e495c7a834c8968d5d427c71c5588ff19916a1092.\\\",\\\"type\\\":\\\"Normal\\\"}\\n\\\"\\n    }\\n  ]\\n}\"\n    }\n}"
     ]
    }
   ],
   "source": [
    "service = Model.deploy(workspace = wspace,\n",
    "                       name = \"music-genre-classification\",\n",
    "                       models = [model],\n",
    "                       inference_config = inf_config,\n",
    "                       deployment_config = azure_container_config,\n",
    "                       overwrite = True)\n",
    "\n",
    "service.wait_for_deployment(show_output = True)\n",
    "url = service.scoring_uri\n",
    "print(url)"
   ],
   "metadata": {
    "collapsed": false,
    "pycharm": {
     "name": "#%%\n"
    }
   }
  },
  {
   "cell_type": "markdown",
   "source": [
    "## Consume Endpoint"
   ],
   "metadata": {
    "collapsed": false
   }
  },
  {
   "cell_type": "code",
   "execution_count": null,
   "outputs": [],
   "source": [
    "head = {\"Content-Type\": \"application/json\"}\n",
    "return_vals = requests.post(url, data = {\"data\": [[1,1,1,1]]}, headers = head)\n",
    "print(return_vals.status_code)\n",
    "print(return_vals.json())"
   ],
   "metadata": {
    "collapsed": false,
    "pycharm": {
     "name": "#%%\n"
    }
   }
  }
 ],
 "metadata": {
  "kernelspec": {
   "display_name": "Python 3",
   "language": "python",
   "name": "python3"
  },
  "language_info": {
   "codemirror_mode": {
    "name": "ipython",
    "version": 2
   },
   "file_extension": ".py",
   "mimetype": "text/x-python",
   "name": "python",
   "nbconvert_exporter": "python",
   "pygments_lexer": "ipython2",
   "version": "2.7.6"
  }
 },
 "nbformat": 4,
 "nbformat_minor": 0
}