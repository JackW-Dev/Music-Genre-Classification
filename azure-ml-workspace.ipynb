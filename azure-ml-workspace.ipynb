{
 "cells": [
  {
   "cell_type": "markdown",
   "metadata": {
    "pycharm": {
     "name": "#%% md\n"
    }
   },
   "source": [
    "# Azure ML Workspace\n",
    "\n",
    "This notebook will define and create a workspace, create an environment,\n",
    "and deploy the models to an endpoint for consumption.<br>"
   ]
  },
  {
   "cell_type": "markdown",
   "metadata": {
    "collapsed": true,
    "pycharm": {
     "name": "#%% md\n"
    }
   },
   "source": [
    "## Importing libraries\n",
    "\n",
    "All utilised libraries are imported at the beginning of the notebook to avoid out of scope errors.<br>"
   ]
  },
  {
   "cell_type": "code",
   "execution_count": null,
   "metadata": {
    "pycharm": {
     "name": "#%%\n"
    }
   },
   "outputs": [],
   "source": [
    "from azureml.core import Workspace, Environment, Model\n",
    "from azureml.core.authentication import InteractiveLoginAuthentication\n",
    "from azureml.core.conda_dependencies import CondaDependencies\n",
    "from azureml.core.model import InferenceConfig\n",
    "from azureml.core.webservice import AciWebservice\n",
    "import json\n",
    "import pandas as pd\n",
    "from sklearn.metrics import confusion_matrix, ConfusionMatrixDisplay\n",
    "import matplotlib.pyplot as plt"
   ]
  },
  {
   "cell_type": "markdown",
   "metadata": {},
   "source": [
    "## Initialise workspace\n",
    "\n",
    "Initialise a workspace using the values from config.json<br>\n",
    "If this file is not found, an exception occurs.<br>\n",
    "When an exception is detected, a workspace using the defined details is created.<br>"
   ]
  },
  {
   "cell_type": "code",
   "execution_count": null,
   "metadata": {
    "pycharm": {
     "name": "#%%\n"
    }
   },
   "outputs": [],
   "source": [
    "# An authentication error started occurring with the Azure Portal, this seems to fix it\n",
    "# Issue found at https://github.com/Azure/MachineLearningNotebooks/issues/131\n",
    "\n",
    "# NOTE: To use this system, a tenant_id value must be provided. This is specific to the Azure account holder.\n",
    "auth = InteractiveLoginAuthentication(tenant_id=\"\")\n",
    "\n",
    "try:\n",
    "# Try to load workspace\n",
    "    wspace = Workspace.from_config(auth=auth)\n",
    "except Exception as ex:\n",
    "# Create new workspace if existing is not found\n",
    "\n",
    "# NOTE: To use this system, a subscription_id value must be provided. This is specific to the Azure account holder.\n",
    "    wspace = Workspace.create(name=\"classification-workspace\",\n",
    "                              subscription_id=\"\",\n",
    "                              resource_group=\"classification-resources\",\n",
    "                              create_resource_group=True,\n",
    "                              location=\"uksouth\")\n",
    "\n",
    "# Write workspace config to a local file\n",
    "    wspace.write_config()\n",
    "\n",
    "print(\"Workspace successfully loaded\")"
   ]
  },
  {
   "cell_type": "markdown",
   "metadata": {},
   "source": [
    "## Create an environment\n",
    "\n",
    "Create an environment for the model to run on the Azure servers.<br>\n",
    "This environment will be defined using Pip package version dependencies and Conda dependencies.<br>\n",
    "When registered, the details will be fetched and stored to the /.environ folder.<br>\n",
    "The inference config defines the scoring script to be utilised.<br>"
   ]
  },
  {
   "cell_type": "code",
   "execution_count": null,
   "metadata": {
    "pycharm": {
     "name": "#%%\n"
    }
   },
   "outputs": [],
   "source": [
    "# Load conda dependencies required for this environment.\n",
    "# Register environment for the workspace\n",
    "env = Environment(\"env\")\n",
    "\n",
    "conda_dep = CondaDependencies.create(pip_packages=[\"pandas == 1.1.3\",\n",
    "                                                   \"azureml-core\",\n",
    "                                                   \"azureml-defaults >= 1.0.45\"],\n",
    "                                     conda_packages=[\"scikit-learn == 0.23.2\"])\n",
    "\n",
    "env.python.conda_dependencies = conda_dep\n",
    "\n",
    "env.register(workspace=wspace)\n",
    "\n",
    "print(\"Environment Registered\")\n",
    "\n",
    "# Get the environment created from the workspace and create a file to verify it has been defined\n",
    "my_env = Environment.get(workspace=wspace, name=\"env\")\n",
    "my_env.save_to_directory(\"./environ\", overwrite=True)\n",
    "\n",
    "print(\"Environment Saved\")\n",
    "\n",
    "inference_config = InferenceConfig(entry_script=\"score.py\",\n",
    "                                   environment=my_env)"
   ]
  },
  {
   "cell_type": "markdown",
   "metadata": {},
   "source": [
    "## Register the models\n",
    "\n",
    "Register the saved models produced within the creation notebook for use on Azure ML.<br>\n",
    "This cell will load the models from their binary files (.pkl) and register them for use on Azure ML.<br>\n",
    "The framework that each model utilises has also been defined here for each model.<br>"
   ]
  },
  {
   "cell_type": "code",
   "execution_count": null,
   "metadata": {
    "pycharm": {
     "name": "#%%\n"
    }
   },
   "outputs": [],
   "source": [
    "knn_model = Model.register(workspace=wspace,\n",
    "                       model_name=\"knn\",\n",
    "                       model_path=\"models/knn.pkl\",\n",
    "                       model_framework=\"ScikitLearn\",\n",
    "                       description=\"Tuned KNN for Genre Classification\")\n",
    "\n",
    "svm_model = Model.register(workspace=wspace,\n",
    "                       model_name=\"svm\",\n",
    "                       model_path=\"models/svm.pkl\",\n",
    "                       model_framework=\"ScikitLearn\",\n",
    "                       description=\"Tuned SVM for Genre Classification\")"
   ]
  },
  {
   "cell_type": "markdown",
   "metadata": {},
   "source": [
    "## Set up Azure Container Instance\n",
    "\n",
    "Define ACI Webservice.<br>\n",
    "This is the hardware configuration that the endpoint's processing will be carried out on.<br>"
   ]
  },
  {
   "cell_type": "code",
   "execution_count": null,
   "metadata": {
    "pycharm": {
     "name": "#%%\n"
    }
   },
   "outputs": [],
   "source": [
    "aci_config = AciWebservice.deploy_configuration(cpu_cores=1, memory_gb=1)"
   ]
  },
  {
   "cell_type": "markdown",
   "metadata": {},
   "source": [
    "## Deploy the models\n",
    "\n",
    "Deploy the models onto the defined ACI container using the environment, inference config, and workspace.<br>\n",
    "The deployment of these models into the workspace will create a machine learning instance in which the ACI is deployed.<br>"
   ]
  },
  {
   "cell_type": "code",
   "execution_count": null,
   "metadata": {
    "pycharm": {
     "name": "#%%\n"
    }
   },
   "outputs": [],
   "source": [
    "service = Model.deploy(workspace=wspace,\n",
    "                       name=\"music-genre-service\",\n",
    "                       models=[knn_model, svm_model],\n",
    "                       inference_config=inference_config,\n",
    "                       deployment_config=aci_config,\n",
    "                       overwrite=True)\n",
    "\n",
    "service.wait_for_deployment(show_output=True)\n",
    "print(service.get_logs())\n",
    "\n",
    "print(service.scoring_uri)"
   ]
  },
  {
   "cell_type": "markdown",
   "metadata": {},
   "source": [
    "## Test the web service\n",
    "\n",
    "Test the web service has successfully deployed using test data.<br>\n",
    "Testing data that was stored in a CSV format from the model creation process\n",
    "will be sent to the webservice as a test set.<br>"
   ]
  },
  {
   "cell_type": "code",
   "execution_count": null,
   "metadata": {
    "pycharm": {
     "name": "#%%\n"
    }
   },
   "outputs": [],
   "source": [
    "# Reading the test set from file\n",
    "data_df = pd.read_csv(\"testing_data.csv\")\n",
    "data_json_str = data_df.to_json(orient=\"records\")\n",
    "\n",
    "response_pred, response_acc= service.run(json.dumps(data_json_str))\n",
    "\n",
    "response_pred_df = pd.DataFrame(response_pred)\n",
    "response_acc_df = pd.DataFrame(response_acc, index=[\"Classification Accuracy\", \"AUROC\", \"F1\"])\n",
    "\n",
    "print(response_pred_df)\n",
    "print(response_acc_df)\n",
    "\n",
    "# As plot_confusion_matrix requires the classifier to run, the matrix will be built and plotted separately here\n",
    "knn_conf = confusion_matrix(y_true=response_pred_df[\"Genre\"], y_pred=response_pred_df[\"KNN Prediction\"])\n",
    "knn_conf_mat = ConfusionMatrixDisplay(confusion_matrix=knn_conf,\n",
    "                       display_labels=[\"Blues\", \"Classical\", \"Country\", \"Disco\", \"HipHop\",\n",
    "                                       \"Jazz\", \"Metal\", \"Pop\", \"Reggae\", \"Rock\"])\n",
    "knn_conf_mat.plot(xticks_rotation=\"vertical\")\n",
    "plt.title(\"KNN Confusion Matrix\")\n",
    "\n",
    "\n",
    "svm_conf = confusion_matrix(y_true=response_pred_df[\"Genre\"], y_pred=response_pred_df[\"SVM Prediction\"])\n",
    "svm_conf_mat = ConfusionMatrixDisplay(confusion_matrix=svm_conf,\n",
    "                       display_labels=[\"Blues\", \"Classical\", \"Country\", \"Disco\", \"HipHop\",\n",
    "                                       \"Jazz\", \"Metal\", \"Pop\", \"Reggae\", \"Rock\"])\n",
    "svm_conf_mat.plot(xticks_rotation=\"vertical\")\n",
    "plt.title(\"SVM Confusion Matrix\")"
   ]
  },
  {
   "cell_type": "markdown",
   "metadata": {},
   "source": [
    "## Delete ACI\n",
    "\n",
    "Delete the ACI instance to clean up (This will also delete the endpoint).<br>"
   ]
  },
  {
   "cell_type": "code",
   "execution_count": null,
   "metadata": {
    "pycharm": {
     "name": "#%%\n"
    }
   },
   "outputs": [],
   "source": [
    "service.delete()"
   ]
  }
 ],
 "metadata": {
  "kernelspec": {
   "display_name": "Python 3",
   "language": "python",
   "name": "python3"
  },
  "language_info": {
   "codemirror_mode": {
    "name": "ipython",
    "version": 3
   },
   "file_extension": ".py",
   "mimetype": "text/x-python",
   "name": "python",
   "nbconvert_exporter": "python",
   "pygments_lexer": "ipython3",
   "version": "3.9.0"
  }
 },
 "nbformat": 4,
 "nbformat_minor": 1
}