{
 "cells": [
  {
   "cell_type": "markdown",
   "metadata": {
    "pycharm": {
     "name": "#%% md\n"
    }
   },
   "source": [
    "# Azure ML Workspace"
   ]
  },
  {
   "cell_type": "markdown",
   "metadata": {
    "collapsed": true,
    "pycharm": {
     "name": "#%% md\n"
    }
   },
   "source": [
    "## Importing libraries"
   ]
  },
  {
   "cell_type": "code",
   "execution_count": 97,
   "metadata": {
    "pycharm": {
     "name": "#%%\n"
    }
   },
   "outputs": [],
   "source": [
    "from azureml.core import Workspace, Environment, Model\n",
    "from azureml.core.authentication import InteractiveLoginAuthentication\n",
    "from azureml.core.conda_dependencies import CondaDependencies\n",
    "from azureml.core.model import InferenceConfig\n",
    "from azureml.core.webservice import AciWebservice\n",
    "import json\n",
    "import pandas as pd\n",
    "from sklearn.metrics import confusion_matrix, ConfusionMatrixDisplay\n",
    "import matplotlib.pyplot as plt"
   ]
  },
  {
   "cell_type": "markdown",
   "metadata": {},
   "source": [
    "## Initialise workspace\n",
    "Initialise a workspace using the values from config.json\n",
    "If this file is not found, an exception occurs\n",
    "When an exception is detected, a workspace using the defined details is created"
   ]
  },
  {
   "cell_type": "code",
   "execution_count": 98,
   "metadata": {
    "pycharm": {
     "name": "#%%\n"
    }
   },
   "outputs": [
    {
     "name": "stdout",
     "output_type": "stream",
     "text": [
      "Workspace successfully loaded\n"
     ]
    }
   ],
   "source": [
    "# An authentication error started occurring with the Azure Portal, this seems to fix it\n",
    "# Issue found at https://github.com/Azure/MachineLearningNotebooks/issues/131\n",
    "auth = InteractiveLoginAuthentication(tenant_id=\"57af78f2-c87d-4466-b7bb-6b6cc99ed124\")\n",
    "\n",
    "try:\n",
    "# Try to load workspace\n",
    "    wspace = Workspace.from_config(auth=auth)\n",
    "except Exception as ex:\n",
    "# Create new workspace if existing is not found\n",
    "    wspace = Workspace.create(name=\"classification-workspace\",\n",
    "                              subscription_id=\"11636c4c-f408-4202-980a-b738e97f4d7f\",\n",
    "                              resource_group=\"classification-resources\",\n",
    "                              create_resource_group=True,\n",
    "                              location=\"uksouth\")\n",
    "\n",
    "# Write workspace config to a local file\n",
    "    wspace.write_config()\n",
    "\n",
    "print(\"Workspace successfully loaded\")"
   ]
  },
  {
   "cell_type": "markdown",
   "metadata": {},
   "source": [
    "## Create an environment\n",
    "Create an environment for the model to run on the Azure servers"
   ]
  },
  {
   "cell_type": "code",
   "execution_count": 99,
   "metadata": {
    "pycharm": {
     "name": "#%%\n"
    }
   },
   "outputs": [
    {
     "name": "stdout",
     "output_type": "stream",
     "text": [
      "Environment Registered\n",
      "Environment Saved\n"
     ]
    }
   ],
   "source": [
    "# Load conda dependencies required for this environment.\n",
    "# Register environment for the workspace\n",
    "env = Environment(\"env\")\n",
    "\n",
    "conda_dep = CondaDependencies.create(pip_packages=[\"pandas == 1.1.3\",\n",
    "                                                   \"azureml-core\",\n",
    "                                                   \"azureml-defaults >= 1.0.45\"],\n",
    "                                     conda_packages=[\"scikit-learn == 0.23.2\"])\n",
    "\n",
    "env.python.conda_dependencies = conda_dep\n",
    "\n",
    "env.register(workspace=wspace)\n",
    "\n",
    "print(\"Environment Registered\")\n",
    "\n",
    "# Get the environment created from the workspace and create a file to verify it has been defined\n",
    "my_env = Environment.get(workspace=wspace, name=\"env\")\n",
    "my_env.save_to_directory(\"./environ\", overwrite=True)\n",
    "\n",
    "print(\"Environment Saved\")\n",
    "\n",
    "inference_config = InferenceConfig(entry_script=\"score.py\",\n",
    "                                   environment=my_env)"
   ]
  },
  {
   "cell_type": "markdown",
   "metadata": {},
   "source": [
    "## Register the models\n",
    "Register the saved model created by \"knn-model-tuning\" and \"svm-model-tuning\" for use on Azure ML"
   ]
  },
  {
   "cell_type": "code",
   "execution_count": 100,
   "metadata": {
    "pycharm": {
     "name": "#%%\n"
    }
   },
   "outputs": [
    {
     "name": "stdout",
     "output_type": "stream",
     "text": [
      "Registering model knn\n",
      "Registering model svm\n"
     ]
    }
   ],
   "source": [
    "knn_model = Model.register(workspace=wspace,\n",
    "                       model_name=\"knn\",\n",
    "                       model_path=\"models/knn.pkl\",\n",
    "                       model_framework=\"ScikitLearn\",\n",
    "                       description=\"Tuned KNN for Genre Classification\")\n",
    "\n",
    "svm_model = Model.register(workspace=wspace,\n",
    "                       model_name=\"svm\",\n",
    "                       model_path=\"models/svm.pkl\",\n",
    "                       model_framework=\"ScikitLearn\",\n",
    "                       description=\"Tuned SVM for Genre Classification\")"
   ]
  },
  {
   "cell_type": "markdown",
   "metadata": {},
   "source": [
    "## Set up Azure Container Instance\n",
    "Define ACI Webservice"
   ]
  },
  {
   "cell_type": "code",
   "execution_count": 101,
   "metadata": {
    "pycharm": {
     "name": "#%%\n"
    }
   },
   "outputs": [],
   "source": [
    "aci_config = AciWebservice.deploy_configuration(cpu_cores=1, memory_gb=1)"
   ]
  },
  {
   "cell_type": "markdown",
   "metadata": {},
   "source": [
    "## Deploy the models\n",
    "Deploy the models onto the defined ACI container using the set environment, inference config and workspace"
   ]
  },
  {
   "cell_type": "code",
   "execution_count": 102,
   "metadata": {
    "pycharm": {
     "name": "#%%\n"
    }
   },
   "outputs": [
    {
     "name": "stdout",
     "output_type": "stream",
     "text": [
      "Running.................................................................................................................\n",
      "Succeeded\n",
      "ACI service creation operation finished, operation \"Succeeded\"\n",
      "2021-04-22T12:37:41,234418300+00:00 - iot-server/run \n",
      "2021-04-22T12:37:41,235043500+00:00 - gunicorn/run \n",
      "2021-04-22T12:37:41,250377100+00:00 - rsyslog/run \n",
      "2021-04-22T12:37:41,271216700+00:00 - nginx/run \n",
      "/usr/sbin/nginx: /azureml-envs/azureml_bc84c8b1e6f800381723c1af65ff7e9c/lib/libcrypto.so.1.0.0: no version information available (required by /usr/sbin/nginx)\n",
      "/usr/sbin/nginx: /azureml-envs/azureml_bc84c8b1e6f800381723c1af65ff7e9c/lib/libcrypto.so.1.0.0: no version information available (required by /usr/sbin/nginx)\n",
      "/usr/sbin/nginx: /azureml-envs/azureml_bc84c8b1e6f800381723c1af65ff7e9c/lib/libssl.so.1.0.0: no version information available (required by /usr/sbin/nginx)\n",
      "/usr/sbin/nginx: /azureml-envs/azureml_bc84c8b1e6f800381723c1af65ff7e9c/lib/libssl.so.1.0.0: no version information available (required by /usr/sbin/nginx)\n",
      "/usr/sbin/nginx: /azureml-envs/azureml_bc84c8b1e6f800381723c1af65ff7e9c/lib/libssl.so.1.0.0: no version information available (required by /usr/sbin/nginx)\n",
      "EdgeHubConnectionString and IOTEDGE_IOTHUBHOSTNAME are not set. Exiting...\n",
      "2021-04-22T12:37:41,559416900+00:00 - iot-server/finish 1 0\n",
      "2021-04-22T12:37:41,561288600+00:00 - Exit code 1 is normal. Not restarting iot-server.\n",
      "Starting gunicorn 19.9.0\n",
      "Listening at: http://127.0.0.1:31311 (68)\n",
      "Using worker: sync\n",
      "worker timeout is set to 300\n",
      "Booting worker with pid: 97\n",
      "Initialized PySpark session.\n",
      "Initializing logger\n",
      "Starting up app insights client\n",
      "Starting up request id generator\n",
      "Starting up app insight hooks\n",
      "Invoking user's init function\n",
      "Users's init has completed successfully\n",
      "/azureml-envs/azureml_bc84c8b1e6f800381723c1af65ff7e9c/lib/python3.6/site-packages/sklearn/base.py:334: UserWarning: Trying to unpickle estimator KNeighborsClassifier from version 0.24.1 when using version 0.23.2. This might lead to breaking code or invalid results. Use at your own risk.\n",
      "  UserWarning)\n",
      "/azureml-envs/azureml_bc84c8b1e6f800381723c1af65ff7e9c/lib/python3.6/site-packages/sklearn/base.py:334: UserWarning: Trying to unpickle estimator GridSearchCV from version 0.24.1 when using version 0.23.2. This might lead to breaking code or invalid results. Use at your own risk.\n",
      "  UserWarning)\n",
      "/azureml-envs/azureml_bc84c8b1e6f800381723c1af65ff7e9c/lib/python3.6/site-packages/sklearn/base.py:334: UserWarning: Trying to unpickle estimator SVC from version 0.24.1 when using version 0.23.2. This might lead to breaking code or invalid results. Use at your own risk.\n",
      "  UserWarning)\n",
      "Scoring timeout is found from os.environ: 60000 ms\n",
      "Swagger file not present\n",
      "404\n",
      "127.0.0.1 - - [22/Apr/2021:12:38:24 +0000] \"GET /swagger.json HTTP/1.0\" 404 19 \"-\" \"Go-http-client/1.1\"\n",
      "Swagger file not present\n",
      "404\n",
      "127.0.0.1 - - [22/Apr/2021:12:38:26 +0000] \"GET /swagger.json HTTP/1.0\" 404 19 \"-\" \"Go-http-client/1.1\"\n",
      "\n",
      "http://85d9dbb7-2c02-4ca0-bf95-a53fb00cde60.uksouth.azurecontainer.io/score\n"
     ]
    }
   ],
   "source": [
    "service = Model.deploy(workspace=wspace,\n",
    "                       name=\"music-genre-service\",\n",
    "                       models=[knn_model, svm_model],\n",
    "                       inference_config=inference_config,\n",
    "                       deployment_config=aci_config,\n",
    "                       overwrite=True)\n",
    "\n",
    "service.wait_for_deployment(show_output=True)\n",
    "print(service.get_logs())\n",
    "\n",
    "print(service.scoring_uri)"
   ]
  },
  {
   "cell_type": "markdown",
   "metadata": {},
   "source": [
    "## Test the web service\n",
    "Test the web service has successfully deployed using test data"
   ]
  },
  {
   "cell_type": "code",
   "execution_count": 103,
   "metadata": {
    "pycharm": {
     "name": "#%%\n"
    }
   },
   "outputs": [
    {
     "name": "stdout",
     "output_type": "stream",
     "text": [
      "         Genre KNN Prediction SVM Prediction\n",
      "0    Classical      Classical      Classical\n",
      "1          Pop          Disco            Pop\n",
      "2        Disco           Jazz        Country\n",
      "3       Reggae           Jazz          Blues\n",
      "4        Metal          Metal          Metal\n",
      "..         ...            ...            ...\n",
      "295       Jazz        Country         HipHop\n",
      "296     HipHop          Disco         HipHop\n",
      "297      Blues           Jazz          Blues\n",
      "298       Jazz        Country         HipHop\n",
      "299     Reggae         Reggae         HipHop\n",
      "\n",
      "[300 rows x 3 columns]\n",
      "                              KNN       SVM\n",
      "Classification Accuracy  0.300000  0.343333\n",
      "AUROC                    0.726619  0.786094\n",
      "F1                       0.300000  0.343333\n",
      "         Genre KNN Prediction SVM Prediction\n",
      "0    Classical      Classical      Classical\n",
      "1          Pop          Disco            Pop\n",
      "2        Disco           Jazz        Country\n",
      "3       Reggae           Jazz          Blues\n",
      "4        Metal          Metal          Metal\n",
      "..         ...            ...            ...\n",
      "295       Jazz        Country         HipHop\n",
      "296     HipHop          Disco         HipHop\n",
      "297      Blues           Jazz          Blues\n",
      "298       Jazz        Country         HipHop\n",
      "299     Reggae         Reggae         HipHop\n",
      "\n",
      "[300 rows x 3 columns]\n",
      "                              KNN       SVM\n",
      "Classification Accuracy  0.300000  0.343333\n",
      "AUROC                    0.726619  0.786094\n",
      "F1                       0.300000  0.343333\n"
     ]
    },
    {
     "data": {
      "text/plain": "Text(0.5, 1.0, 'SVM Confusion Matrix')"
     },
     "execution_count": 103,
     "metadata": {},
     "output_type": "execute_result"
    },
    {
     "data": {
      "text/plain": "<Figure size 432x288 with 2 Axes>",
      "image/png": "[encoded data removed]"
     },
     "metadata": {
      "needs_background": "light"
     },
     "output_type": "display_data"
    },
    {
     "data": {
      "text/plain": "<Figure size 432x288 with 2 Axes>",
      "image/png": "[encoded data removed]"
     },
     "metadata": {
      "needs_background": "light"
     },
     "output_type": "display_data"
    }
   ],
   "source": [
    "# Reading the test set from file\n",
    "data_df = pd.read_csv(\"testing_data.csv\")\n",
    "data_json_str = data_df.to_json(orient=\"records\")\n",
    "\n",
    "response_pred, response_acc= service.run(json.dumps(data_json_str))\n",
    "\n",
    "response_pred_df = pd.DataFrame(response_pred)\n",
    "response_acc_df = pd.DataFrame(response_acc, index=[\"Classification Accuracy\", \"AUROC\", \"F1\"])\n",
    "\n",
    "print(response_pred_df)\n",
    "print(response_acc_df)\n",
    "\n",
    "\n",
    "# Reading the test set from file\n",
    "data_df = pd.read_csv(\"testing_data.csv\")\n",
    "data_json_str = data_df.to_json(orient=\"records\")\n",
    "\n",
    "response_pred, response_acc= service.run(json.dumps(data_json_str))\n",
    "\n",
    "response_pred_df = pd.DataFrame(response_pred)\n",
    "response_acc_df = pd.DataFrame(response_acc, index=[\"Classification Accuracy\", \"AUROC\", \"F1\"])\n",
    "\n",
    "print(response_pred_df)\n",
    "print(response_acc_df)\n",
    "\n",
    "# As plot_confusion_matrix requires the classifier to run, the matrix will be built and plotted separately here\n",
    "knn_conf = confusion_matrix(y_true=response_pred_df[\"Genre\"], y_pred=response_pred_df[\"KNN Prediction\"])\n",
    "knn_conf_mat = ConfusionMatrixDisplay(confusion_matrix=knn_conf,\n",
    "                       display_labels=[\"Blues\", \"Classical\", \"Country\", \"Disco\", \"HipHop\",\n",
    "                                       \"Jazz\", \"Metal\", \"Pop\", \"Reggae\", \"Rock\"])\n",
    "knn_conf_mat.plot(xticks_rotation=\"vertical\")\n",
    "plt.title(\"KNN Confusion Matrix\")\n",
    "\n",
    "\n",
    "svm_conf = confusion_matrix(y_true=response_pred_df[\"Genre\"], y_pred=response_pred_df[\"SVM Prediction\"])\n",
    "svm_conf_mat = ConfusionMatrixDisplay(confusion_matrix=svm_conf,\n",
    "                       display_labels=[\"Blues\", \"Classical\", \"Country\", \"Disco\", \"HipHop\",\n",
    "                                       \"Jazz\", \"Metal\", \"Pop\", \"Reggae\", \"Rock\"])\n",
    "svm_conf_mat.plot(xticks_rotation=\"vertical\")\n",
    "plt.title(\"SVM Confusion Matrix\")"
   ]
  },
  {
   "cell_type": "markdown",
   "metadata": {},
   "source": [
    "## Delete ACI\n",
    "Delete the ACI instance to clean up\n",
    "(This will also delete the endpoint)"
   ]
  },
  {
   "cell_type": "code",
   "execution_count": 104,
   "metadata": {
    "pycharm": {
     "name": "#%%\n"
    }
   },
   "outputs": [],
   "source": [
    "# service.delete()"
   ]
  }
 ],
 "metadata": {
  "kernelspec": {
   "display_name": "Python 3",
   "language": "python",
   "name": "python3"
  },
  "language_info": {
   "codemirror_mode": {
    "name": "ipython",
    "version": 3
   },
   "file_extension": ".py",
   "mimetype": "text/x-python",
   "name": "python",
   "nbconvert_exporter": "python",
   "pygments_lexer": "ipython3",
   "version": "3.9.0"
  }
 },
 "nbformat": 4,
 "nbformat_minor": 1
}