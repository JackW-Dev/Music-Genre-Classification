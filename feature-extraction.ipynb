{
 "cells": [
  {
   "cell_type": "markdown",
   "source": [
    "# Feature Extraction"
   ],
   "metadata": {
    "collapsed": false
   }
  },
  {
   "cell_type": "markdown",
   "source": [
    "## Importing libraries"
   ],
   "metadata": {
    "collapsed": false
   }
  },
  {
   "cell_type": "code",
   "execution_count": 1,
   "outputs": [],
   "source": [
    "import numpy as np\n",
    "import librosa as lb\n",
    "import librosa.display\n",
    "import glob\n",
    "from matplotlib import pyplot\n",
    "import sklearn.preprocessing\n",
    "import csv"
   ],
   "metadata": {
    "collapsed": false,
    "pycharm": {
     "name": "#%%\n"
    }
   }
  },
  {
   "cell_type": "markdown",
   "source": [
    "## Function Definitions\n",
    "All developer created functions are defined prior to the rest of the code to ensure accessibility"
   ],
   "metadata": {
    "collapsed": false
   }
  },
  {
   "cell_type": "code",
   "execution_count": 2,
   "outputs": [],
   "source": [
    "def extract_time_series(file_path):\n",
    "    time_series_array = []\n",
    "    for file_name in glob.glob(file_path + r'\\*.wav'):\n",
    "        (time_series_data, sample_rate) = lb.load(file_name)\n",
    "    #   print(len(data)/sample_rate) -- Check tracks ingested correctly (result should be 30 seconds)\n",
    "        time_series_data = np.array(time_series_data)\n",
    "        time_series_array.append(time_series_data)\n",
    "    return time_series_array"
   ],
   "metadata": {
    "collapsed": false,
    "pycharm": {
     "name": "#%%\n"
    }
   }
  },
  {
   "cell_type": "markdown",
   "source": [
    "## Declare and Initialise Variables\n",
    "Variables will be declared and initialised prior to use"
   ],
   "metadata": {
    "collapsed": false
   }
  },
  {
   "cell_type": "code",
   "execution_count": 3,
   "outputs": [],
   "source": [
    "rock_mfcc = []\n",
    "metal_mfcc = []\n",
    "country_mfcc = []\n",
    "classical_mfcc = []\n",
    "disco_mfcc = []\n",
    "hiphop_mfcc = []\n",
    "jazz_mfcc = []\n",
    "reggae_mfcc = []\n",
    "blues_mfcc = []\n",
    "pop_mfcc = []\n",
    "\n",
    "rock_zcr = []\n",
    "metal_zcr = []\n",
    "country_zcr = []\n",
    "classical_zcr = []\n",
    "disco_zcr = []\n",
    "hiphop_zcr = []\n",
    "jazz_zcr = []\n",
    "reggae_zcr = []\n",
    "blues_zcr = []\n",
    "pop_zcr = []\n",
    "\n",
    "\n",
    "rock_spectral_centroid = []\n",
    "metal_spectral_centroid = []\n",
    "country_spectral_centroid = []\n",
    "classical_spectral_centroid = []\n",
    "disco_spectral_centroid = []\n",
    "hiphop_spectral_centroid = []\n",
    "jazz_spectral_centroid = []\n",
    "reggae_spectral_centroid = []\n",
    "blues_spectral_centroid = []\n",
    "pop_spectral_centroid = []\n",
    "\n",
    "rock_spectral_rolloff = []\n",
    "metal_spectral_rolloff = []\n",
    "country_spectral_rolloff = []\n",
    "classical_spectral_rolloff = []\n",
    "disco_spectral_rolloff = []\n",
    "hiphop_spectral_rolloff = []\n",
    "jazz_spectral_rolloff = []\n",
    "reggae_spectral_rolloff = []\n",
    "blues_spectral_rolloff = []\n",
    "pop_spectral_rolloff = []"
   ],
   "metadata": {
    "collapsed": false,
    "pycharm": {
     "name": "#%%\n"
    }
   }
  },
  {
   "cell_type": "markdown",
   "source": [
    "## Reading .wav files\n",
    "File paths for the corresponding directories for each genre."
   ],
   "metadata": {
    "collapsed": false
   }
  },
  {
   "cell_type": "code",
   "execution_count": 4,
   "outputs": [],
   "source": [
    "rock_file_path = r'D:\\Uni\\Y3\\FYP\\Dataset\\GTZAN\\rock'\n",
    "metal_file_path = r'D:\\Uni\\Y3\\FYP\\Dataset\\GTZAN\\metal'\n",
    "country_file_path = r'D:\\Uni\\Y3\\FYP\\Dataset\\GTZAN\\country'\n",
    "classical_file_path = r'D:\\Uni\\Y3\\FYP\\Dataset\\GTZAN\\classical'\n",
    "disco_file_path = r'D:\\Uni\\Y3\\FYP\\Dataset\\GTZAN\\disco'\n",
    "hiphop_file_path = r'D:\\Uni\\Y3\\FYP\\Dataset\\GTZAN\\hiphop'\n",
    "jazz_file_path = r'D:\\Uni\\Y3\\FYP\\Dataset\\GTZAN\\jazz'\n",
    "reggae_file_path = r'D:\\Uni\\Y3\\FYP\\Dataset\\GTZAN\\reggae'\n",
    "blues_file_path = r'D:\\Uni\\Y3\\FYP\\Dataset\\GTZAN\\blues'\n",
    "pop_file_path = r'D:\\Uni\\Y3\\FYP\\Dataset\\GTZAN\\pop'"
   ],
   "metadata": {
    "collapsed": false,
    "pycharm": {
     "name": "#%%\n"
    }
   }
  },
  {
   "cell_type": "markdown",
   "source": [
    "Load .wav files using Librosa load and extract the time series data into an array for each track in each genre."
   ],
   "metadata": {
    "collapsed": false
   }
  },
  {
   "cell_type": "code",
   "execution_count": 5,
   "outputs": [
    {
     "name": "stdout",
     "output_type": "stream",
     "text": [
      "Rock tracks:\n",
      "[-0.03344727 -0.05490112 -0.05435181 ... -0.08416748  0.02886963\n",
      "  0.1296997 ]\n",
      "Metal tracks:\n",
      "[-0.12237549 -0.04919434  0.04440308 ... -0.17837524 -0.08401489\n",
      " -0.0284729 ]\n",
      "Country tracks:\n",
      "[-0.13415527 -0.19485474 -0.04257202 ...  0.2260437   0.15042114\n",
      "  0.04238892]\n",
      "Classical tracks:\n"
     ]
    },
    {
     "ename": "KeyboardInterrupt",
     "evalue": "",
     "output_type": "error",
     "traceback": [
      "\u001B[1;31m---------------------------------------------------------------------------\u001B[0m",
      "\u001B[1;31mKeyboardInterrupt\u001B[0m                         Traceback (most recent call last)",
      "\u001B[1;32m<ipython-input-5-1600af16c9c0>\u001B[0m in \u001B[0;36m<module>\u001B[1;34m\u001B[0m\n\u001B[0;32m     12\u001B[0m \u001B[1;33m\u001B[0m\u001B[0m\n\u001B[0;32m     13\u001B[0m \u001B[0mprint\u001B[0m\u001B[1;33m(\u001B[0m\u001B[1;34m\"Classical tracks:\"\u001B[0m\u001B[1;33m)\u001B[0m\u001B[1;33m\u001B[0m\u001B[1;33m\u001B[0m\u001B[0m\n\u001B[1;32m---> 14\u001B[1;33m \u001B[0mclassical_tracks\u001B[0m \u001B[1;33m=\u001B[0m  \u001B[0mnp\u001B[0m\u001B[1;33m.\u001B[0m\u001B[0marray\u001B[0m\u001B[1;33m(\u001B[0m\u001B[0mextract_time_series\u001B[0m\u001B[1;33m(\u001B[0m\u001B[0mclassical_file_path\u001B[0m\u001B[1;33m)\u001B[0m\u001B[1;33m,\u001B[0m \u001B[0mdtype\u001B[0m \u001B[1;33m=\u001B[0m \u001B[0mobject\u001B[0m\u001B[1;33m)\u001B[0m\u001B[1;33m\u001B[0m\u001B[1;33m\u001B[0m\u001B[0m\n\u001B[0m\u001B[0;32m     15\u001B[0m \u001B[0mprint\u001B[0m\u001B[1;33m(\u001B[0m\u001B[0mclassical_tracks\u001B[0m\u001B[1;33m[\u001B[0m\u001B[1;36m0\u001B[0m\u001B[1;33m]\u001B[0m\u001B[1;33m)\u001B[0m\u001B[1;33m\u001B[0m\u001B[1;33m\u001B[0m\u001B[0m\n\u001B[0;32m     16\u001B[0m \u001B[1;33m\u001B[0m\u001B[0m\n",
      "\u001B[1;32m<ipython-input-2-8903f22cff65>\u001B[0m in \u001B[0;36mextract_time_series\u001B[1;34m(file_path)\u001B[0m\n\u001B[0;32m      2\u001B[0m     \u001B[0mtime_series_array\u001B[0m \u001B[1;33m=\u001B[0m \u001B[1;33m[\u001B[0m\u001B[1;33m]\u001B[0m\u001B[1;33m\u001B[0m\u001B[1;33m\u001B[0m\u001B[0m\n\u001B[0;32m      3\u001B[0m     \u001B[1;32mfor\u001B[0m \u001B[0mfile_name\u001B[0m \u001B[1;32min\u001B[0m \u001B[0mglob\u001B[0m\u001B[1;33m.\u001B[0m\u001B[0mglob\u001B[0m\u001B[1;33m(\u001B[0m\u001B[0mfile_path\u001B[0m \u001B[1;33m+\u001B[0m \u001B[1;34mr'\\*.wav'\u001B[0m\u001B[1;33m)\u001B[0m\u001B[1;33m:\u001B[0m\u001B[1;33m\u001B[0m\u001B[1;33m\u001B[0m\u001B[0m\n\u001B[1;32m----> 4\u001B[1;33m         \u001B[1;33m(\u001B[0m\u001B[0mtime_series_data\u001B[0m\u001B[1;33m,\u001B[0m \u001B[0msample_rate\u001B[0m\u001B[1;33m)\u001B[0m \u001B[1;33m=\u001B[0m \u001B[0mlb\u001B[0m\u001B[1;33m.\u001B[0m\u001B[0mload\u001B[0m\u001B[1;33m(\u001B[0m\u001B[0mfile_name\u001B[0m\u001B[1;33m)\u001B[0m\u001B[1;33m\u001B[0m\u001B[1;33m\u001B[0m\u001B[0m\n\u001B[0m\u001B[0;32m      5\u001B[0m     \u001B[1;31m#   print(len(data)/sample_rate) -- Check tracks ingested correctly (result should be 30 seconds)\u001B[0m\u001B[1;33m\u001B[0m\u001B[1;33m\u001B[0m\u001B[1;33m\u001B[0m\u001B[0m\n\u001B[0;32m      6\u001B[0m         \u001B[0mtime_series_data\u001B[0m \u001B[1;33m=\u001B[0m \u001B[0mnp\u001B[0m\u001B[1;33m.\u001B[0m\u001B[0marray\u001B[0m\u001B[1;33m(\u001B[0m\u001B[0mtime_series_data\u001B[0m\u001B[1;33m)\u001B[0m\u001B[1;33m\u001B[0m\u001B[1;33m\u001B[0m\u001B[0m\n",
      "\u001B[1;32m~\\anaconda3\\lib\\site-packages\\librosa\\core\\audio.py\u001B[0m in \u001B[0;36mload\u001B[1;34m(path, sr, mono, offset, duration, dtype, res_type)\u001B[0m\n\u001B[0;32m    144\u001B[0m \u001B[1;33m\u001B[0m\u001B[0m\n\u001B[0;32m    145\u001B[0m     \u001B[1;32mtry\u001B[0m\u001B[1;33m:\u001B[0m\u001B[1;33m\u001B[0m\u001B[1;33m\u001B[0m\u001B[0m\n\u001B[1;32m--> 146\u001B[1;33m         \u001B[1;32mwith\u001B[0m \u001B[0msf\u001B[0m\u001B[1;33m.\u001B[0m\u001B[0mSoundFile\u001B[0m\u001B[1;33m(\u001B[0m\u001B[0mpath\u001B[0m\u001B[1;33m)\u001B[0m \u001B[1;32mas\u001B[0m \u001B[0msf_desc\u001B[0m\u001B[1;33m:\u001B[0m\u001B[1;33m\u001B[0m\u001B[1;33m\u001B[0m\u001B[0m\n\u001B[0m\u001B[0;32m    147\u001B[0m             \u001B[0msr_native\u001B[0m \u001B[1;33m=\u001B[0m \u001B[0msf_desc\u001B[0m\u001B[1;33m.\u001B[0m\u001B[0msamplerate\u001B[0m\u001B[1;33m\u001B[0m\u001B[1;33m\u001B[0m\u001B[0m\n\u001B[0;32m    148\u001B[0m             \u001B[1;32mif\u001B[0m \u001B[0moffset\u001B[0m\u001B[1;33m:\u001B[0m\u001B[1;33m\u001B[0m\u001B[1;33m\u001B[0m\u001B[0m\n",
      "\u001B[1;32m~\\anaconda3\\lib\\site-packages\\soundfile.py\u001B[0m in \u001B[0;36m__init__\u001B[1;34m(self, file, mode, samplerate, channels, subtype, endian, format, closefd)\u001B[0m\n\u001B[0;32m    627\u001B[0m         self._info = _create_info_struct(file, mode, samplerate, channels,\n\u001B[0;32m    628\u001B[0m                                          format, subtype, endian)\n\u001B[1;32m--> 629\u001B[1;33m         \u001B[0mself\u001B[0m\u001B[1;33m.\u001B[0m\u001B[0m_file\u001B[0m \u001B[1;33m=\u001B[0m \u001B[0mself\u001B[0m\u001B[1;33m.\u001B[0m\u001B[0m_open\u001B[0m\u001B[1;33m(\u001B[0m\u001B[0mfile\u001B[0m\u001B[1;33m,\u001B[0m \u001B[0mmode_int\u001B[0m\u001B[1;33m,\u001B[0m \u001B[0mclosefd\u001B[0m\u001B[1;33m)\u001B[0m\u001B[1;33m\u001B[0m\u001B[1;33m\u001B[0m\u001B[0m\n\u001B[0m\u001B[0;32m    630\u001B[0m         \u001B[1;32mif\u001B[0m \u001B[0mset\u001B[0m\u001B[1;33m(\u001B[0m\u001B[0mmode\u001B[0m\u001B[1;33m)\u001B[0m\u001B[1;33m.\u001B[0m\u001B[0missuperset\u001B[0m\u001B[1;33m(\u001B[0m\u001B[1;34m'r+'\u001B[0m\u001B[1;33m)\u001B[0m \u001B[1;32mand\u001B[0m \u001B[0mself\u001B[0m\u001B[1;33m.\u001B[0m\u001B[0mseekable\u001B[0m\u001B[1;33m(\u001B[0m\u001B[1;33m)\u001B[0m\u001B[1;33m:\u001B[0m\u001B[1;33m\u001B[0m\u001B[1;33m\u001B[0m\u001B[0m\n\u001B[0;32m    631\u001B[0m             \u001B[1;31m# Move write position to 0 (like in Python file objects)\u001B[0m\u001B[1;33m\u001B[0m\u001B[1;33m\u001B[0m\u001B[1;33m\u001B[0m\u001B[0m\n",
      "\u001B[1;32m~\\anaconda3\\lib\\site-packages\\soundfile.py\u001B[0m in \u001B[0;36m_open\u001B[1;34m(self, file, mode_int, closefd)\u001B[0m\n\u001B[0;32m   1173\u001B[0m                 \u001B[1;32melse\u001B[0m\u001B[1;33m:\u001B[0m\u001B[1;33m\u001B[0m\u001B[1;33m\u001B[0m\u001B[0m\n\u001B[0;32m   1174\u001B[0m                     \u001B[0mfile\u001B[0m \u001B[1;33m=\u001B[0m \u001B[0mfile\u001B[0m\u001B[1;33m.\u001B[0m\u001B[0mencode\u001B[0m\u001B[1;33m(\u001B[0m\u001B[0m_sys\u001B[0m\u001B[1;33m.\u001B[0m\u001B[0mgetfilesystemencoding\u001B[0m\u001B[1;33m(\u001B[0m\u001B[1;33m)\u001B[0m\u001B[1;33m)\u001B[0m\u001B[1;33m\u001B[0m\u001B[1;33m\u001B[0m\u001B[0m\n\u001B[1;32m-> 1175\u001B[1;33m             \u001B[0mfile_ptr\u001B[0m \u001B[1;33m=\u001B[0m \u001B[0mopenfunction\u001B[0m\u001B[1;33m(\u001B[0m\u001B[0mfile\u001B[0m\u001B[1;33m,\u001B[0m \u001B[0mmode_int\u001B[0m\u001B[1;33m,\u001B[0m \u001B[0mself\u001B[0m\u001B[1;33m.\u001B[0m\u001B[0m_info\u001B[0m\u001B[1;33m)\u001B[0m\u001B[1;33m\u001B[0m\u001B[1;33m\u001B[0m\u001B[0m\n\u001B[0m\u001B[0;32m   1176\u001B[0m         \u001B[1;32melif\u001B[0m \u001B[0misinstance\u001B[0m\u001B[1;33m(\u001B[0m\u001B[0mfile\u001B[0m\u001B[1;33m,\u001B[0m \u001B[0mint\u001B[0m\u001B[1;33m)\u001B[0m\u001B[1;33m:\u001B[0m\u001B[1;33m\u001B[0m\u001B[1;33m\u001B[0m\u001B[0m\n\u001B[0;32m   1177\u001B[0m             \u001B[0mfile_ptr\u001B[0m \u001B[1;33m=\u001B[0m \u001B[0m_snd\u001B[0m\u001B[1;33m.\u001B[0m\u001B[0msf_open_fd\u001B[0m\u001B[1;33m(\u001B[0m\u001B[0mfile\u001B[0m\u001B[1;33m,\u001B[0m \u001B[0mmode_int\u001B[0m\u001B[1;33m,\u001B[0m \u001B[0mself\u001B[0m\u001B[1;33m.\u001B[0m\u001B[0m_info\u001B[0m\u001B[1;33m,\u001B[0m \u001B[0mclosefd\u001B[0m\u001B[1;33m)\u001B[0m\u001B[1;33m\u001B[0m\u001B[1;33m\u001B[0m\u001B[0m\n",
      "\u001B[1;31mKeyboardInterrupt\u001B[0m: "
     ]
    }
   ],
   "source": [
    "print(\"Rock tracks:\")\n",
    "rock_tracks =  np.array(extract_time_series(rock_file_path), dtype = object)\n",
    "print(rock_tracks[0])\n",
    "\n",
    "print(\"Metal tracks:\")\n",
    "metal_tracks =  np.array(extract_time_series(metal_file_path), dtype = object)\n",
    "print(metal_tracks[0])\n",
    "\n",
    "print(\"Country tracks:\")\n",
    "country_tracks =  np.array(extract_time_series(country_file_path), dtype = object)\n",
    "print(country_tracks[0])\n",
    "\n",
    "print(\"Classical tracks:\")\n",
    "classical_tracks =  np.array(extract_time_series(classical_file_path), dtype = object)\n",
    "print(classical_tracks[0])\n",
    "\n",
    "print(\"Disco tracks:\")\n",
    "disco_tracks =  np.array(extract_time_series(disco_file_path), dtype = object)\n",
    "print(disco_tracks[0])\n",
    "\n",
    "print(\"HipHop tracks:\")\n",
    "hiphop_tracks =  np.array(extract_time_series(hiphop_file_path), dtype = object)\n",
    "print(hiphop_tracks[0])\n",
    "\n",
    "print(\"Jazz tracks:\")\n",
    "jazz_tracks =  np.array(extract_time_series(jazz_file_path), dtype = object)\n",
    "print(jazz_tracks[0])\n",
    "\n",
    "print(\"Reggae tracks:\")\n",
    "reggae_tracks =  np.array(extract_time_series(reggae_file_path), dtype = object)\n",
    "print(reggae_tracks[0])\n",
    "\n",
    "# Remember to discuss that MFCC didnt work with dtype = object for blues or pop\n",
    "\n",
    "print(\"Blues tracks:\")\n",
    "blues_tracks =  np.array(extract_time_series(blues_file_path), dtype = float)\n",
    "print(blues_tracks[0])\n",
    "\n",
    "print(\"Pop tracks:\")\n",
    "pop_tracks =  np.array(extract_time_series(pop_file_path), dtype = float)\n",
    "print(pop_tracks[0])"
   ],
   "metadata": {
    "collapsed": false,
    "pycharm": {
     "name": "#%%\n"
    }
   }
  },
  {
   "cell_type": "markdown",
   "source": [
    "## Feature extraction\n",
    "Using Librosa feature extraction, extract the MFCC, Spectral Centroid, Spectral Rolloff and Zero Crossing Rate for each track in each genre."
   ],
   "metadata": {
    "collapsed": false
   }
  },
  {
   "cell_type": "markdown",
   "source": [
    "### Extracting MFCC\n",
    "Extracting the Mel-frequency Cepstral Coefficients.\n",
    "The mean of 15 MFCC values calculated per track will be used as the MFCC for that track."
   ],
   "metadata": {
    "collapsed": false
   }
  },
  {
   "cell_type": "code",
   "execution_count": null,
   "outputs": [],
   "source": [
    "for i in range(0, 100, 1):\n",
    "    rock_mfcc.append(np.mean(lb.feature.mfcc(rock_tracks[i].flatten(), n_mfcc = 15)))\n",
    "    metal_mfcc.append(np.mean(lb.feature.mfcc(metal_tracks[i].flatten(), n_mfcc = 15)))\n",
    "    country_mfcc.append(np.mean(lb.feature.mfcc(country_tracks[i].flatten(), n_mfcc = 15)))\n",
    "    classical_mfcc.append(np.mean(lb.feature.mfcc(classical_tracks[i].flatten(), n_mfcc = 15)))\n",
    "    disco_mfcc.append(np.mean(lb.feature.mfcc(disco_tracks[i].flatten(), n_mfcc = 15)))\n",
    "    hiphop_mfcc.append(np.mean(lb.feature.mfcc(hiphop_tracks[i].flatten(), n_mfcc = 15)))\n",
    "    jazz_mfcc.append(np.mean(lb.feature.mfcc(jazz_tracks[i].flatten(), n_mfcc = 15)))\n",
    "    reggae_mfcc.append(np.mean(lb.feature.mfcc(reggae_tracks[i].flatten(), n_mfcc = 15)))\n",
    "    blues_mfcc.append(np.mean(lb.feature.mfcc(blues_tracks[i].flatten(), n_mfcc = 15)))\n",
    "    pop_mfcc.append(np.mean(lb.feature.mfcc(pop_tracks[i].flatten(), n_mfcc = 15)))\n",
    "\n",
    "rock_mfcc = np.array(rock_mfcc)\n",
    "metal_mfcc = np.array(metal_mfcc)\n",
    "country_mfcc = np.array(country_mfcc)\n",
    "classical_mfcc = np.array(classical_mfcc)\n",
    "disco_mfcc = np.array(disco_mfcc)\n",
    "hiphop_mfcc = np.array(hiphop_mfcc)\n",
    "jazz_mfcc = np.array(jazz_mfcc)\n",
    "reggae_mfcc = np.array(reggae_mfcc)\n",
    "blues_mfcc = np.array(blues_mfcc)\n",
    "pop_mfcc = np.array(pop_mfcc)\n",
    "\n",
    "print(\"Rock MFCC:\")\n",
    "print(rock_mfcc)\n",
    "print(\"Blues MFCC:\")\n",
    "print(blues_mfcc)"
   ],
   "metadata": {
    "collapsed": false,
    "pycharm": {
     "name": "#%%\n"
    }
   }
  },
  {
   "cell_type": "markdown",
   "source": [
    "### Extracting ZCR\n",
    "Extracting the Zero Crossing Rate using Librosa's Zero Crossings function.\n",
    "The librosa.features.zero_crossing_rate behaves slightly differently to the behaviour wanted by the developer and will not be used for this reason.\n",
    "Below is a proof of concept to show that the function can be used for a simple count of crossings in the track."
   ],
   "metadata": {
    "collapsed": false
   }
  },
  {
   "cell_type": "code",
   "execution_count": null,
   "outputs": [],
   "source": [
    "pyplot.figure(figsize = (20, 5))\n",
    "pyplot.plot(rock_tracks[0][0:100])\n",
    "pyplot.grid()\n",
    "print(sum(lb.zero_crossings(rock_tracks[0][0:100], pad = False)))"
   ],
   "metadata": {
    "collapsed": false,
    "pycharm": {
     "name": "#%%\n"
    }
   }
  },
  {
   "cell_type": "markdown",
   "source": [
    "Calculating the number of zero crossings throughout each 30 second track."
   ],
   "metadata": {
    "collapsed": false
   }
  },
  {
   "cell_type": "code",
   "execution_count": null,
   "outputs": [],
   "source": [
    "for i in range(0, 100, 1):\n",
    "    rock_zcr.append(sum(lb.zero_crossings(rock_tracks[i], pad = False)))\n",
    "    metal_zcr.append(sum(lb.zero_crossings(metal_tracks[i], pad = False)))\n",
    "    country_zcr.append(sum(lb.zero_crossings(country_tracks[i], pad = False)))\n",
    "    classical_zcr.append(sum(lb.zero_crossings(classical_tracks[i], pad = False)))\n",
    "    disco_zcr.append(sum(lb.zero_crossings(disco_tracks[i], pad = False)))\n",
    "    hiphop_zcr.append(sum(lb.zero_crossings(hiphop_tracks[i], pad = False)))\n",
    "    jazz_zcr.append(sum(lb.zero_crossings(jazz_tracks[i], pad = False)))\n",
    "    reggae_zcr.append(sum(lb.zero_crossings(reggae_tracks[i], pad = False)))\n",
    "    blues_zcr.append(sum(lb.zero_crossings(blues_tracks[i], pad = False)))\n",
    "    pop_zcr.append(sum(lb.zero_crossings(pop_tracks[i], pad = False)))\n",
    "\n",
    "print(\"Rock ZCR:\")\n",
    "print(sum(lb.zero_crossings(rock_tracks[0], pad = False)))\n",
    "print(rock_zcr[0])\n",
    "\n",
    "print(\"Blues ZCR:\")\n",
    "print(sum(lb.zero_crossings(blues_tracks[0], pad = False)))\n",
    "print(blues_zcr[0])"
   ],
   "metadata": {
    "collapsed": false,
    "pycharm": {
     "name": "#%%\n"
    }
   }
  },
  {
   "cell_type": "markdown",
   "source": [
    "### Extracting Spectral Centroid\n",
    "Extracting the Spectral Centroid.\n",
    "As lb.feature.spectral_centroid() returns an array of values for each frame, the mean will be calculated for a value for the track."
   ],
   "metadata": {
    "collapsed": false
   }
  },
  {
   "cell_type": "code",
   "execution_count": null,
   "outputs": [],
   "source": [
    "spec_cen = lb.feature.spectral_centroid(rock_tracks[0])[0]\n",
    "frames = range(len(spec_cen))\n",
    "time = lb.frames_to_time(frames)\n",
    "\n",
    "def norm(data, axis = 0):\n",
    "    return sklearn.preprocessing.minmax_scale(data, axis = axis)\n",
    "\n",
    "lb.display.waveplot(rock_tracks[0], alpha = 0.5)\n",
    "pyplot.plot(time, norm(spec_cen), color = 'r')\n",
    "\n",
    "for i in range(0, 100, 1):\n",
    "    rock_spectral_centroid.append(np.mean(lb.feature.spectral_centroid(rock_tracks[i])))\n",
    "    metal_spectral_centroid.append(np.mean(lb.feature.spectral_centroid(metal_tracks[i])))\n",
    "    country_spectral_centroid.append(np.mean(lb.feature.spectral_centroid(country_tracks[i])))\n",
    "    classical_spectral_centroid.append(np.mean(lb.feature.spectral_centroid(classical_tracks[i])))\n",
    "    disco_spectral_centroid.append(np.mean(lb.feature.spectral_centroid(disco_tracks[i])))\n",
    "    hiphop_spectral_centroid.append(np.mean(lb.feature.spectral_centroid(hiphop_tracks[i])))\n",
    "    jazz_spectral_centroid.append(np.mean(lb.feature.spectral_centroid(jazz_tracks[i])))\n",
    "    reggae_spectral_centroid.append(np.mean(lb.feature.spectral_centroid(reggae_tracks[i])))\n",
    "    blues_spectral_centroid.append(np.mean(lb.feature.spectral_centroid(blues_tracks[i])))\n",
    "    pop_spectral_centroid.append(np.mean(lb.feature.spectral_centroid(pop_tracks[i])))\n",
    "\n",
    "rock_spectral_centroid = np.array(rock_spectral_centroid)\n",
    "metal_spectral_centroid = np.array(metal_spectral_centroid)\n",
    "country_spectral_centroid = np.array(country_spectral_centroid)\n",
    "classical_spectral_centroid = np.array(classical_spectral_centroid)\n",
    "disco_spectral_centroid = np.array(disco_spectral_centroid)\n",
    "hiphop_spectral_centroid = np.array(hiphop_spectral_centroid)\n",
    "jazz_spectral_centroid = np.array(jazz_spectral_centroid)\n",
    "reggae_spectral_centroid = np.array(reggae_spectral_centroid)\n",
    "blues_spectral_centroid = np.array(blues_spectral_centroid)\n",
    "pop_spectral_centroid = np.array(pop_spectral_centroid)\n",
    "\n",
    "print(\"Rock Spectral Centroid:\")\n",
    "print(rock_spectral_centroid)\n",
    "print(rock_spectral_centroid.shape)\n",
    "\n",
    "print(\"Blues Spectral Centroid:\")\n",
    "print(blues_spectral_centroid)\n",
    "print(blues_spectral_centroid.shape)"
   ],
   "metadata": {
    "collapsed": false,
    "pycharm": {
     "name": "#%%\n"
    }
   }
  },
  {
   "cell_type": "markdown",
   "source": [
    "### Extracting Spectral Rolloff\n",
    "Extracting the Spectral Rolloff.\n",
    "As lb.feature.spectral_rolloff() returns an array of spectral rolloff % per a frame, the mean will be calculated to give an overall value per a track."
   ],
   "metadata": {
    "collapsed": false
   }
  },
  {
   "cell_type": "code",
   "execution_count": null,
   "outputs": [],
   "source": [
    "for i in range(0, 100, 1):\n",
    "    rock_spectral_rolloff.append(np.mean(lb.feature.spectral_rolloff(rock_tracks[i])))\n",
    "    metal_spectral_rolloff.append(np.mean(lb.feature.spectral_rolloff(metal_tracks[i])))\n",
    "    country_spectral_rolloff.append(np.mean(lb.feature.spectral_rolloff(country_tracks[i])))\n",
    "    classical_spectral_rolloff.append(np.mean(lb.feature.spectral_rolloff(classical_tracks[i])))\n",
    "    disco_spectral_rolloff.append(np.mean(lb.feature.spectral_rolloff(disco_tracks[i])))\n",
    "    hiphop_spectral_rolloff.append(np.mean(lb.feature.spectral_rolloff(hiphop_tracks[i])))\n",
    "    jazz_spectral_rolloff.append(np.mean(lb.feature.spectral_rolloff(jazz_tracks[i])))\n",
    "    reggae_spectral_rolloff.append(np.mean(lb.feature.spectral_rolloff(reggae_tracks[i])))\n",
    "    blues_spectral_rolloff.append(np.mean(lb.feature.spectral_rolloff(blues_tracks[i])))\n",
    "    pop_spectral_rolloff.append(np.mean(lb.feature.spectral_rolloff(pop_tracks[i])))\n",
    "\n",
    "rock_spectral_rolloff = np.array(rock_spectral_rolloff)\n",
    "metal_spectral_rolloff = np.array(metal_spectral_rolloff)\n",
    "country_spectral_rolloff = np.array(country_spectral_rolloff)\n",
    "classical_spectral_rolloff = np.array(classical_spectral_rolloff)\n",
    "disco_spectral_rolloff = np.array(disco_spectral_rolloff)\n",
    "hiphop_spectral_rolloff = np.array(hiphop_spectral_rolloff)\n",
    "jazz_spectral_rolloff = np.array(jazz_spectral_rolloff)\n",
    "reggae_spectral_rolloff = np.array(reggae_spectral_rolloff)\n",
    "blues_spectral_rolloff = np.array(blues_spectral_rolloff)\n",
    "pop_spectral_rolloff = np.array(pop_spectral_rolloff)\n",
    "\n",
    "print(\"Rock Spectral Rolloff:\")\n",
    "print(rock_spectral_rolloff)\n",
    "print(rock_spectral_rolloff.shape)\n",
    "\n",
    "print(\"Blues Spectral Rolloff:\")\n",
    "print(blues_spectral_rolloff)\n",
    "print(blues_spectral_rolloff.shape)"
   ],
   "metadata": {
    "collapsed": false,
    "pycharm": {
     "name": "#%%\n"
    }
   }
  },
  {
   "cell_type": "markdown",
   "source": [
    "## Store Data\n",
    "Write extracted data to a CSV file."
   ],
   "metadata": {
    "collapsed": false
   }
  },
  {
   "cell_type": "code",
   "execution_count": null,
   "outputs": [],
   "source": [
    "with open('extracted-features.csv', mode = 'w', newline = '') as feature_file:\n",
    "    feature_writer = csv.writer(feature_file, delimiter = ',')\n",
    "    feature_writer.writerow([\"Genre\", \"TrackNum\", \"MFCC\", \"ZCR\", \"Spectral Centroid\", \"Spectral Rolloff\"])\n",
    "\n",
    "    for i in range(0, 1000, 1):\n",
    "        if i < 100:\n",
    "            track_num = i\n",
    "            feature_writer.writerow([\"Rock\", track_num, rock_mfcc[track_num], rock_zcr[track_num],\n",
    "                                    rock_spectral_centroid[track_num], rock_spectral_rolloff[track_num]])\n",
    "        elif i < 200:\n",
    "            track_num = i - 100\n",
    "            feature_writer.writerow([\"Metal\", track_num, metal_mfcc[track_num], metal_zcr[track_num],\n",
    "                                    metal_spectral_centroid[track_num], metal_spectral_rolloff[track_num]])\n",
    "        elif i < 300:\n",
    "            track_num = i - 200\n",
    "            feature_writer.writerow([\"Country\", track_num, country_mfcc[track_num], country_zcr[track_num],\n",
    "                                    country_spectral_centroid[track_num], country_spectral_rolloff[track_num]])\n",
    "        elif i < 400:\n",
    "            track_num = i - 300\n",
    "            feature_writer.writerow([\"Classical\", track_num, classical_mfcc[track_num], classical_zcr[track_num],\n",
    "                                    classical_spectral_centroid[track_num], classical_spectral_rolloff[track_num]])\n",
    "        elif i < 500:\n",
    "            track_num = i - 400\n",
    "            feature_writer.writerow([\"Disco\", track_num, disco_mfcc[track_num], disco_zcr[track_num],\n",
    "                                    disco_spectral_centroid[track_num], disco_spectral_rolloff[track_num]])\n",
    "        elif i < 600:\n",
    "            track_num = i - 500\n",
    "            feature_writer.writerow([\"HipHop\", track_num, hiphop_mfcc[track_num], hiphop_zcr[track_num],\n",
    "                                    hiphop_spectral_centroid[track_num], hiphop_spectral_rolloff[track_num]])\n",
    "        elif i < 700:\n",
    "            track_num = i - 600\n",
    "            feature_writer.writerow([\"Jazz\", track_num, jazz_mfcc[track_num], jazz_zcr[track_num],\n",
    "                                    jazz_spectral_centroid[track_num], jazz_spectral_rolloff[track_num]])\n",
    "        elif i < 800:\n",
    "            track_num = i - 700\n",
    "            feature_writer.writerow([\"Reggae\", track_num, reggae_mfcc[track_num], reggae_zcr[track_num],\n",
    "                                     reggae_spectral_centroid[track_num], reggae_spectral_rolloff[track_num]])\n",
    "        elif i < 900:\n",
    "            track_num = i - 800\n",
    "            feature_writer.writerow([\"Blues\", track_num, blues_mfcc[track_num], blues_zcr[track_num],\n",
    "                                    blues_spectral_centroid[track_num], blues_spectral_rolloff[track_num]])\n",
    "        elif i < 1000:\n",
    "            track_num = i - 900\n",
    "            feature_writer.writerow([\"Pop\", track_num, pop_mfcc[track_num], pop_zcr[track_num],\n",
    "                                    pop_spectral_centroid[track_num], pop_spectral_rolloff[track_num]])"
   ],
   "metadata": {
    "collapsed": false,
    "pycharm": {
     "name": "#%%\n"
    }
   }
  }
 ],
 "metadata": {
  "kernelspec": {
   "name": "python3",
   "language": "python",
   "display_name": "Python 3"
  },
  "language_info": {
   "codemirror_mode": {
    "name": "ipython",
    "version": 2
   },
   "file_extension": ".py",
   "mimetype": "text/x-python",
   "name": "python",
   "nbconvert_exporter": "python",
   "pygments_lexer": "ipython2",
   "version": "2.7.6"
  }
 },
 "nbformat": 4,
 "nbformat_minor": 0
}