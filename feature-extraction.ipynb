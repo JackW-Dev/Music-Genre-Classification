{
 "cells": [
  {
   "cell_type": "markdown",
   "source": [
    "# Feature Extraction"
   ],
   "metadata": {
    "collapsed": false
   }
  },
  {
   "cell_type": "markdown",
   "source": [
    "## Importing libraries"
   ],
   "metadata": {
    "collapsed": false
   }
  },
  {
   "cell_type": "code",
   "execution_count": 1,
   "outputs": [],
   "source": [
    "import numpy as np\n",
    "import librosa as lb\n",
    "import librosa.display\n",
    "import glob\n",
    "from matplotlib import pyplot\n",
    "import sklearn.preprocessing\n",
    "import csv"
   ],
   "metadata": {
    "collapsed": false,
    "pycharm": {
     "name": "#%%\n"
    }
   }
  },
  {
   "cell_type": "markdown",
   "source": [
    "## Function Definitions\n",
    "All developer created functions are defined prior to the rest of the code to ensure accessibility"
   ],
   "metadata": {
    "collapsed": false
   }
  },
  {
   "cell_type": "code",
   "execution_count": 2,
   "outputs": [],
   "source": [
    "def extract_time_series(file_path):\n",
    "    time_series_array = []\n",
    "    for file_name in glob.glob(file_path + r'\\*.wav'):\n",
    "        (time_series_data, sample_rate) = lb.load(file_name)\n",
    "    ##   print(len(data)/sample_rate) -- Check tracks ingested correctly (result should be 30 seconds)\n",
    "        time_series_data = np.array(time_series_data)\n",
    "        time_series_array.append(time_series_data)\n",
    "    return time_series_array"
   ],
   "metadata": {
    "collapsed": false,
    "pycharm": {
     "name": "#%%\n"
    }
   }
  },
  {
   "cell_type": "markdown",
   "source": [
    "## Declare and Initialise Variables\n",
    "Variables will be declared and initialised prior to use"
   ],
   "metadata": {
    "collapsed": false
   }
  },
  {
   "cell_type": "code",
   "execution_count": 3,
   "outputs": [],
   "source": [
    "rock_mfcc = []\n",
    "metal_mfcc = []\n",
    "country_mfcc = []\n",
    "classical_mfcc = []\n",
    "disco_mfcc = []\n",
    "hiphop_mfcc = []\n",
    "jazz_mfcc = []\n",
    "reggae_mfcc = []\n",
    "blues_mfcc = []\n",
    "pop_mfcc = []\n",
    "\n",
    "rock_zcr = []\n",
    "metal_zcr = []\n",
    "country_zcr = []\n",
    "classical_zcr = []\n",
    "disco_zcr = []\n",
    "hiphop_zcr = []\n",
    "jazz_zcr = []\n",
    "reggae_zcr = []\n",
    "blues_zcr = []\n",
    "pop_zcr = []\n",
    "\n",
    "\n",
    "rock_spectral_centroid = []\n",
    "metal_spectral_centroid = []\n",
    "country_spectral_centroid = []\n",
    "classical_spectral_centroid = []\n",
    "disco_spectral_centroid = []\n",
    "hiphop_spectral_centroid = []\n",
    "jazz_spectral_centroid = []\n",
    "reggae_spectral_centroid = []\n",
    "blues_spectral_centroid = []\n",
    "pop_spectral_centroid = []\n",
    "\n",
    "rock_spectral_rolloff = []\n",
    "metal_spectral_rolloff = []\n",
    "country_spectral_rolloff = []\n",
    "classical_spectral_rolloff = []\n",
    "disco_spectral_rolloff = []\n",
    "hiphop_spectral_rolloff = []\n",
    "jazz_spectral_rolloff = []\n",
    "reggae_spectral_rolloff = []\n",
    "blues_spectral_rolloff = []\n",
    "pop_spectral_rolloff = []"
   ],
   "metadata": {
    "collapsed": false,
    "pycharm": {
     "name": "#%%\n"
    }
   }
  },
  {
   "cell_type": "markdown",
   "source": [
    "## Reading .wav files\n",
    "File paths for the corresponding directories for each genre."
   ],
   "metadata": {
    "collapsed": false
   }
  },
  {
   "cell_type": "code",
   "execution_count": 4,
   "outputs": [],
   "source": [
    "rock_file_path = r'D:\\Uni\\Y3\\FYP\\Dataset\\GTZAN\\rock'\n",
    "metal_file_path = r'D:\\Uni\\Y3\\FYP\\Dataset\\GTZAN\\metal'\n",
    "country_file_path = r'D:\\Uni\\Y3\\FYP\\Dataset\\GTZAN\\country'\n",
    "classical_file_path = r'D:\\Uni\\Y3\\FYP\\Dataset\\GTZAN\\classical'\n",
    "disco_file_path = r'D:\\Uni\\Y3\\FYP\\Dataset\\GTZAN\\disco'\n",
    "hiphop_file_path = r'D:\\Uni\\Y3\\FYP\\Dataset\\GTZAN\\hiphop'\n",
    "jazz_file_path = r'D:\\Uni\\Y3\\FYP\\Dataset\\GTZAN\\jazz'\n",
    "reggae_file_path = r'D:\\Uni\\Y3\\FYP\\Dataset\\GTZAN\\reggae'\n",
    "blues_file_path = r'D:\\Uni\\Y3\\FYP\\Dataset\\GTZAN\\blues'\n",
    "pop_file_path = r'D:\\Uni\\Y3\\FYP\\Dataset\\GTZAN\\pop'"
   ],
   "metadata": {
    "collapsed": false,
    "pycharm": {
     "name": "#%%\n"
    }
   }
  },
  {
   "cell_type": "markdown",
   "source": [
    "Load .wav files using Librosa load and extract the time series data into an array for each track in each genre."
   ],
   "metadata": {
    "collapsed": false
   }
  },
  {
   "cell_type": "code",
   "execution_count": 5,
   "outputs": [
    {
     "name": "stdout",
     "output_type": "stream",
     "text": [
      "Rock tracks:\n",
      "[-0.03344727 -0.05490112 -0.05435181 ... -0.08416748  0.02886963\n",
      "  0.1296997 ]\n",
      "Metal tracks:\n",
      "[-0.12237549 -0.04919434  0.04440308 ... -0.17837524 -0.08401489\n",
      " -0.0284729 ]\n",
      "Country tracks:\n",
      "[-0.13415527 -0.19485474 -0.04257202 ...  0.2260437   0.15042114\n",
      "  0.04238892]\n",
      "Classical tracks:\n",
      "[-0.02008057 -0.01748657  0.00418091 ...  0.01934814  0.027771\n",
      "  0.03131104]\n",
      "Disco tracks:\n",
      "[-0.23202515 -0.23168945 -0.1979065  ... -0.17419434 -0.14257812\n",
      " -0.10617065]\n",
      "HipHop tracks:\n",
      "[-0.16915894 -0.021698    0.01956177 ...  0.07662964  0.03872681\n",
      " -0.02105713]\n",
      "Jazz tracks:\n",
      "[-0.00924683 -0.01177979 -0.01370239 ...  0.0071106   0.00561523\n",
      "  0.00561523]\n",
      "Reggae tracks:\n",
      "[ 0.01037598  0.00775146  0.03887939 ... -0.06652832 -0.05062866\n",
      " -0.03564453]\n",
      "Blues tracks:\n",
      "[ 0.00732422  0.01660156  0.00762939 ... -0.05560303 -0.06106567\n",
      " -0.06417847]\n",
      "Pop tracks:\n",
      "[-0.0887146  -0.09524536 -0.10275269 ...  0.04016113  0.03860474\n",
      "  0.02639771]\n"
     ]
    }
   ],
   "source": [
    "print(\"Rock tracks:\")\n",
    "rock_tracks =  np.array(extract_time_series(rock_file_path), dtype = object)\n",
    "print(rock_tracks[0])\n",
    "\n",
    "print(\"Metal tracks:\")\n",
    "metal_tracks =  np.array(extract_time_series(metal_file_path), dtype = object)\n",
    "print(metal_tracks[0])\n",
    "\n",
    "print(\"Country tracks:\")\n",
    "country_tracks =  np.array(extract_time_series(country_file_path), dtype = object)\n",
    "print(country_tracks[0])\n",
    "\n",
    "print(\"Classical tracks:\")\n",
    "classical_tracks =  np.array(extract_time_series(classical_file_path), dtype = object)\n",
    "print(classical_tracks[0])\n",
    "\n",
    "print(\"Disco tracks:\")\n",
    "disco_tracks =  np.array(extract_time_series(disco_file_path), dtype = object)\n",
    "print(disco_tracks[0])\n",
    "\n",
    "print(\"HipHop tracks:\")\n",
    "hiphop_tracks =  np.array(extract_time_series(hiphop_file_path), dtype = object)\n",
    "print(hiphop_tracks[0])\n",
    "\n",
    "print(\"Jazz tracks:\")\n",
    "jazz_tracks =  np.array(extract_time_series(jazz_file_path), dtype = object)\n",
    "print(jazz_tracks[0])\n",
    "\n",
    "print(\"Reggae tracks:\")\n",
    "reggae_tracks =  np.array(extract_time_series(reggae_file_path), dtype = object)\n",
    "print(reggae_tracks[0])\n",
    "\n",
    "# Remember to discuss that MFCC didnt work with dtype = object for blues or pop\n",
    "\n",
    "print(\"Blues tracks:\")\n",
    "blues_tracks =  np.array(extract_time_series(blues_file_path), dtype = float)\n",
    "print(blues_tracks[0])\n",
    "\n",
    "print(\"Pop tracks:\")\n",
    "pop_tracks =  np.array(extract_time_series(pop_file_path), dtype = float)\n",
    "print(pop_tracks[0])"
   ],
   "metadata": {
    "collapsed": false,
    "pycharm": {
     "name": "#%%\n"
    }
   }
  },
  {
   "cell_type": "markdown",
   "source": [
    "## Feature extraction\n",
    "Using Librosa feature extraction, extract the MFCC, Spectral Centroid, Spectral Rolloff and Zero Crossing Rate for each track in each genre."
   ],
   "metadata": {
    "collapsed": false
   }
  },
  {
   "cell_type": "markdown",
   "source": [
    "### Extracting MFCC\n",
    "Extracting the Mel-frequency Cepstral Coefficients.\n",
    "The mean of 15 MFCC values calculated per track will be used as the MFCC for that track."
   ],
   "metadata": {
    "collapsed": false
   }
  },
  {
   "cell_type": "code",
   "execution_count": 6,
   "outputs": [
    {
     "name": "stdout",
     "output_type": "stream",
     "text": [
      "Rock MFCC:\n",
      "[  0.15879627   4.1834054    2.8690293    4.7409253    6.076051\n",
      "   3.818377     0.12723938   2.9310734    7.6156106    1.282198\n",
      "   2.7413862    1.940638    -2.3493044    3.178289    -6.4717636\n",
      "  -5.421212     5.624566     3.7811782    4.4610057   -1.1303376\n",
      "   1.547522     1.0081351    0.16354166  -0.81965876  -0.17370315\n",
      "   1.9661676    4.0621195   -0.18630117   3.8582406    6.2119412\n",
      "   0.39667603  -2.3142226    7.312733     0.2919581    7.242213\n",
      "   6.501367     8.247836     1.7985431    5.99482      3.7337265\n",
      "   3.2010226    5.1306033    2.5633225    2.576268     2.7038846\n",
      "  -4.5242434    0.44042298   2.272755     0.27338907   1.0270497\n",
      "   4.7724175    5.0635996   -4.774525     7.0451703   -7.53578\n",
      "   2.2616208    7.384728     3.467913    -1.4229873   -3.1948283\n",
      "   2.1342852   -2.0885043   -5.1572556   -5.384867    -2.0934834\n",
      "   2.2510405  -10.624068     0.03572613   0.58029526  -7.571326\n",
      "  -7.5532827    6.397498     5.808796     6.153874     5.5638986\n",
      "   3.125104     3.700396     3.833048     3.416547     1.5890064\n",
      "   0.7609996   -3.6383064   -0.35216364   2.1053085    1.3822377\n",
      "  -7.82023     -5.6633162    4.408034    -4.1392226   -0.17454764\n",
      "  -0.71085775   1.324751    -1.4806507   -0.82643807  -1.1303296\n",
      "  -1.1712903   -1.3158783   -2.0683134   -2.0308032   -3.85579   ]\n",
      "Blues MFCC:\n",
      "[  2.74593435  -0.12345724   2.22987112   0.49034704  -9.47848445\n",
      "  -8.04163454  -7.95016182  -5.07495661   3.00972818  -6.37171919\n",
      "  -4.16200632  -8.0560237   -2.05526604  -0.97641578  -4.41525768\n",
      "  -3.74477776  -2.6214058   -1.11887636  -3.46572259  -2.889885\n",
      "  -2.90513159  -1.13050391  -0.04859331  -3.22622315  -2.93561631\n",
      "  -1.07286619  -4.53308694  -4.23832523  -3.42331347  -8.12586926\n",
      "  -7.17013647  -9.04353271 -10.97930407  -9.92838481  -7.91097208\n",
      "  -5.9250524   -9.03418382 -13.55157046  -6.80862481 -14.83192517\n",
      "   3.11546348   3.57650922   2.0513928    2.93915723   4.03805638\n",
      "   2.59068497   0.48883294  -0.31378245   3.00455234  -4.25006587\n",
      "   6.17134809   6.39196529  -0.79221137   4.21461555   7.53464473\n",
      "   4.0438474    2.13577907   4.86338451   2.6793247    4.68836562\n",
      "   6.86170159   3.55106892  -3.87673733  -5.08997688  -1.63610808\n",
      "  -5.12675304  -0.10098497  -0.76673342  -2.0156954   -6.1564934\n",
      "  -3.23491737  -0.11510048  -4.9849331    6.89839212   5.47493414\n",
      "   5.78504029   6.27165986   6.62422595   7.25534416   8.30025072\n",
      "   4.56446616   3.86705087   4.7900939    8.4313479    6.45083439\n",
      "   1.24171337   0.3068956    1.0730125    1.66436679  -7.4320238\n",
      "   2.27178003  -0.20349731  -4.43590491  -4.3070606    0.51051612\n",
      "   4.29851687 -11.36668309   4.20876689   2.83829249  -3.37803544]\n"
     ]
    }
   ],
   "source": [
    "for i in range(0, 100, 1):\n",
    "    rock_mfcc.append(np.mean(lb.feature.mfcc(rock_tracks[i].flatten(), n_mfcc = 15)))\n",
    "    metal_mfcc.append(np.mean(lb.feature.mfcc(metal_tracks[i].flatten(), n_mfcc = 15)))\n",
    "    country_mfcc.append(np.mean(lb.feature.mfcc(country_tracks[i].flatten(), n_mfcc = 15)))\n",
    "    classical_mfcc.append(np.mean(lb.feature.mfcc(classical_tracks[i].flatten(), n_mfcc = 15)))\n",
    "    disco_mfcc.append(np.mean(lb.feature.mfcc(disco_tracks[i].flatten(), n_mfcc = 15)))\n",
    "    hiphop_mfcc.append(np.mean(lb.feature.mfcc(hiphop_tracks[i].flatten(), n_mfcc = 15)))\n",
    "    jazz_mfcc.append(np.mean(lb.feature.mfcc(jazz_tracks[i].flatten(), n_mfcc = 15)))\n",
    "    reggae_mfcc.append(np.mean(lb.feature.mfcc(reggae_tracks[i].flatten(), n_mfcc = 15)))\n",
    "    blues_mfcc.append(np.mean(lb.feature.mfcc(blues_tracks[i].flatten(), n_mfcc = 15)))\n",
    "    pop_mfcc.append(np.mean(lb.feature.mfcc(pop_tracks[i].flatten(), n_mfcc = 15)))\n",
    "\n",
    "rock_mfcc = np.array(rock_mfcc)\n",
    "metal_mfcc = np.array(metal_mfcc)\n",
    "country_mfcc = np.array(country_mfcc)\n",
    "classical_mfcc = np.array(classical_mfcc)\n",
    "disco_mfcc = np.array(disco_mfcc)\n",
    "hiphop_mfcc = np.array(hiphop_mfcc)\n",
    "jazz_mfcc = np.array(jazz_mfcc)\n",
    "reggae_mfcc = np.array(reggae_mfcc)\n",
    "blues_mfcc = np.array(blues_mfcc)\n",
    "pop_mfcc = np.array(pop_mfcc)\n",
    "\n",
    "print(\"Rock MFCC:\")\n",
    "print(rock_mfcc)\n",
    "print(\"Blues MFCC:\")\n",
    "print(blues_mfcc)"
   ],
   "metadata": {
    "collapsed": false,
    "pycharm": {
     "name": "#%%\n"
    }
   }
  },
  {
   "cell_type": "markdown",
   "source": [
    "### Extracting ZCR\n",
    "Extracting the Zero Crossing Rate using Librosa's Zero Crossings function.\n",
    "The librosa.features.zero_crossing_rate behaves slightly differently to the behaviour wanted by the developer and will not be used for this reason.\n",
    "Below is a proof of concept to show that the function can be used for a simple count of crossings in the track."
   ],
   "metadata": {
    "collapsed": false
   }
  },
  {
   "cell_type": "code",
   "execution_count": 7,
   "outputs": [
    {
     "name": "stdout",
     "output_type": "stream",
     "text": [
      "10\n"
     ]
    },
    {
     "data": {
      "text/plain": "<Figure size 1440x360 with 1 Axes>",
      "image/png": "[encoded data removed]"
     },
     "metadata": {
      "needs_background": "light"
     },
     "output_type": "display_data"
    }
   ],
   "source": [
    "pyplot.figure(figsize = (20, 5))\n",
    "pyplot.plot(rock_tracks[0][0:100])\n",
    "pyplot.grid()\n",
    "print(sum(lb.zero_crossings(rock_tracks[0][0:100], pad = False)))"
   ],
   "metadata": {
    "collapsed": false,
    "pycharm": {
     "name": "#%%\n"
    }
   }
  },
  {
   "cell_type": "markdown",
   "source": [
    "Calculating the number of zero crossings throughout each 30 second track."
   ],
   "metadata": {
    "collapsed": false
   }
  },
  {
   "cell_type": "code",
   "execution_count": 8,
   "outputs": [
    {
     "name": "stdout",
     "output_type": "stream",
     "text": [
      "Rock ZCR:\n",
      "59809\n",
      "59809\n",
      "Blues ZCR:\n",
      "55031\n",
      "55031\n"
     ]
    }
   ],
   "source": [
    "for i in range(0, 100, 1):\n",
    "    rock_zcr.append(sum(lb.zero_crossings(rock_tracks[i], pad = False)))\n",
    "    metal_zcr.append(sum(lb.zero_crossings(metal_tracks[i], pad = False)))\n",
    "    country_zcr.append(sum(lb.zero_crossings(country_tracks[i], pad = False)))\n",
    "    classical_zcr.append(sum(lb.zero_crossings(classical_tracks[i], pad = False)))\n",
    "    disco_zcr.append(sum(lb.zero_crossings(disco_tracks[i], pad = False)))\n",
    "    hiphop_zcr.append(sum(lb.zero_crossings(hiphop_tracks[i], pad = False)))\n",
    "    jazz_zcr.append(sum(lb.zero_crossings(jazz_tracks[i], pad = False)))\n",
    "    reggae_zcr.append(sum(lb.zero_crossings(reggae_tracks[i], pad = False)))\n",
    "    blues_zcr.append(sum(lb.zero_crossings(blues_tracks[i], pad = False)))\n",
    "    pop_zcr.append(sum(lb.zero_crossings(pop_tracks[i], pad = False)))\n",
    "\n",
    "print(\"Rock ZCR:\")\n",
    "print(sum(lb.zero_crossings(rock_tracks[0], pad = False)))\n",
    "print(rock_zcr[0])\n",
    "\n",
    "print(\"Blues ZCR:\")\n",
    "print(sum(lb.zero_crossings(blues_tracks[0], pad = False)))\n",
    "print(blues_zcr[0])"
   ],
   "metadata": {
    "collapsed": false,
    "pycharm": {
     "name": "#%%\n"
    }
   }
  },
  {
   "cell_type": "markdown",
   "source": [
    "### Extracting Spectral Centroid\n",
    "Extracting the Spectral Centroid.\n",
    "As lb.feature.spectral_centroid() returns an array of values for each frame, the mean will be calculated for a value for the track."
   ],
   "metadata": {
    "collapsed": false
   }
  },
  {
   "cell_type": "code",
   "execution_count": 9,
   "outputs": [
    {
     "name": "stdout",
     "output_type": "stream",
     "text": [
      "Rock Spectral Centroid:\n",
      "[1996.32766439 1529.47496063 1875.31563102 1421.44597972 1345.69306133\n",
      " 1542.13182114 1676.11875692 1282.16590897 1717.13197669 1181.23133754\n",
      " 1857.94886838 1537.5906799  1863.67679976 1597.53126105 1937.04663915\n",
      " 2335.5626669  2459.49942273 2312.16028507 2209.04307564 2321.18947932\n",
      " 2188.14305997 2158.20604209 2342.44083599 2294.78590667 2320.30264308\n",
      " 2510.23098991 2263.155432   2669.22560162 2046.71241714 2445.02801275\n",
      " 2944.36059987 2639.20241849 2344.55763971 1673.87757361 2788.25057634\n",
      " 1867.0823939  2850.22684625 2626.72025928 2794.95719373 2559.13637391\n",
      " 3009.95870729 2806.85135454 2794.81552856 2739.39144294 1651.42108595\n",
      " 1560.99979166 2429.03104062 2997.72431806 1646.21207429 2077.94260689\n",
      " 1721.08846007 3031.03354708 2186.62228226 3361.72325156 2632.22042827\n",
      " 1712.39131592 3303.1623095  3488.55494269 2438.0070494  2424.13664757\n",
      " 2796.51217053 2071.3773181  2947.09450675 1711.04021975 2181.21508105\n",
      " 2294.17992867 2209.48310426 2414.15246663 2467.28465417 2568.4195372\n",
      " 2511.60389956 2025.15666212 1933.34857322 2223.93748019 2140.28934341\n",
      " 2301.79913217 1659.57936099 2187.97747697 1878.54995223 2148.41046349\n",
      " 2606.18282351 2553.52705136 2975.80498285 2116.24054996 2581.46884008\n",
      " 2255.70936368 2521.22872523 2334.4986862  2590.73030597 1609.73889326\n",
      " 2495.72320153 2474.2574228  2471.35326299 1939.72083811 2628.86378755\n",
      " 2008.14945848 2006.84335358 2077.52659827 1398.69934387 1609.79508232]\n",
      "(100,)\n",
      "Blues Spectral Centroid:\n",
      "[1784.16584966 1530.1766789  1552.81186476 1070.10661489 1835.00426554\n",
      " 1831.99393926 1459.36647167 1451.66706607 1719.36894805 1817.15086341\n",
      " 1409.95525572 1352.65966537 1360.64119739 1324.29321811 1171.8482269\n",
      " 1420.3651652  1454.96394081 1088.84422977 1537.58769872 1195.47037575\n",
      " 1390.30155745 1046.55001055 1155.78122054 1209.98786307 1120.01946671\n",
      " 1109.35278419 1198.45908443 1391.84195222 1115.72820216 1648.83516986\n",
      " 1379.18938173 1330.71561721 1309.38240804 1430.49243283 1537.09802043\n",
      " 1506.8728758  1247.35502938 1188.30814184 1514.10067333 1151.00899279\n",
      " 2272.43954736 2390.3900998  2301.60966648 2155.87962858 2278.96125143\n",
      " 1739.13403315 1913.01159986 2013.01166545 2148.19760969 1318.19146508\n",
      " 1945.53310784 1977.23425058 1443.81010609 2171.4458626  2030.65718551\n",
      " 2032.00185949 1811.77125465 1886.95480859 2068.35847561 2235.58942919\n",
      " 1946.33107944 2503.94548833 2280.27647226 2840.06076101 2553.36118291\n",
      " 2816.22573848 2340.80246527 2258.00931369 2513.31301735 2371.480544\n",
      " 2159.39200023 2428.92876714 2595.08232473 2094.77009867 2515.46248676\n",
      " 2224.11073748 2645.78568323 2207.21916472 2333.51045369 2442.87140965\n",
      " 1827.20850009 2116.91765879 2141.51818208 2314.92776199 2060.7502904\n",
      " 1311.84879988 1245.73009604 1441.89925719 1006.64569398  798.45117262\n",
      " 1612.51494529  991.39351282  918.58516867  570.04035453 1239.19557983\n",
      " 1388.63515696 1132.13595761 1236.23077237 2310.49824038 1538.39449674]\n",
      "(100,)\n"
     ]
    },
    {
     "data": {
      "text/plain": "<Figure size 432x288 with 1 Axes>",
      "image/png": "[encoded data removed]"
     },
     "metadata": {
      "needs_background": "light"
     },
     "output_type": "display_data"
    }
   ],
   "source": [
    "spec_cen = lb.feature.spectral_centroid(rock_tracks[0])[0]\n",
    "frames = range(len(spec_cen))\n",
    "time = lb.frames_to_time(frames)\n",
    "\n",
    "def norm(data, axis = 0):\n",
    "    return sklearn.preprocessing.minmax_scale(data, axis = axis)\n",
    "\n",
    "lb.display.waveplot(rock_tracks[0], alpha = 0.5)\n",
    "pyplot.plot(time, norm(spec_cen), color = 'r')\n",
    "\n",
    "for i in range(0, 100, 1):\n",
    "    rock_spectral_centroid.append(np.mean(lb.feature.spectral_centroid(rock_tracks[i])))\n",
    "    metal_spectral_centroid.append(np.mean(lb.feature.spectral_centroid(metal_tracks[i])))\n",
    "    country_spectral_centroid.append(np.mean(lb.feature.spectral_centroid(country_tracks[i])))\n",
    "    classical_spectral_centroid.append(np.mean(lb.feature.spectral_centroid(classical_tracks[i])))\n",
    "    disco_spectral_centroid.append(np.mean(lb.feature.spectral_centroid(disco_tracks[i])))\n",
    "    hiphop_spectral_centroid.append(np.mean(lb.feature.spectral_centroid(hiphop_tracks[i])))\n",
    "    jazz_spectral_centroid.append(np.mean(lb.feature.spectral_centroid(jazz_tracks[i])))\n",
    "    reggae_spectral_centroid.append(np.mean(lb.feature.spectral_centroid(reggae_tracks[i])))\n",
    "    blues_spectral_centroid.append(np.mean(lb.feature.spectral_centroid(blues_tracks[i])))\n",
    "    pop_spectral_centroid.append(np.mean(lb.feature.spectral_centroid(pop_tracks[i])))\n",
    "\n",
    "rock_spectral_centroid = np.array(rock_spectral_centroid)\n",
    "metal_spectral_centroid = np.array(metal_spectral_centroid)\n",
    "country_spectral_centroid = np.array(country_spectral_centroid)\n",
    "classical_spectral_centroid = np.array(classical_spectral_centroid)\n",
    "disco_spectral_centroid = np.array(disco_spectral_centroid)\n",
    "hiphop_spectral_centroid = np.array(hiphop_spectral_centroid)\n",
    "jazz_spectral_centroid = np.array(jazz_spectral_centroid)\n",
    "reggae_spectral_centroid = np.array(reggae_spectral_centroid)\n",
    "blues_spectral_centroid = np.array(blues_spectral_centroid)\n",
    "pop_spectral_centroid = np.array(pop_spectral_centroid)\n",
    "\n",
    "print(\"Rock Spectral Centroid:\")\n",
    "print(rock_spectral_centroid)\n",
    "print(rock_spectral_centroid.shape)\n",
    "\n",
    "print(\"Blues Spectral Centroid:\")\n",
    "print(blues_spectral_centroid)\n",
    "print(blues_spectral_centroid.shape)"
   ],
   "metadata": {
    "collapsed": false,
    "pycharm": {
     "name": "#%%\n"
    }
   }
  },
  {
   "cell_type": "markdown",
   "source": [
    "### Extracting Spectral Rolloff\n",
    "Extracting the Spectral Rolloff.\n",
    "As lb.feature.spectral_rolloff() returns an array of spectral rolloff % per a frame, the mean will be calculated to give an overall value per a track."
   ],
   "metadata": {
    "collapsed": false
   }
  },
  {
   "cell_type": "code",
   "execution_count": 10,
   "outputs": [
    {
     "name": "stdout",
     "output_type": "stream",
     "text": [
      "Rock Spectral Rolloff:\n",
      "[4227.93535202 3271.92275187 3929.52645782 3042.49338385 2938.99078723\n",
      " 2869.7364754  3255.08588539 2675.78776419 3362.18567603 2367.1951471\n",
      " 4191.63866508 3416.75144558 3986.11564902 3825.59086563 3986.14895637\n",
      " 4500.09805277 5024.26417942 4528.65078034 4593.58346324 4701.48263033\n",
      " 4432.58405008 4245.91299531 4595.39871393 4847.9433843  4466.38268561\n",
      " 4735.36453424 4602.9261755  5445.8587363  4095.24718813 5173.47278993\n",
      " 6333.37634589 5302.98010169 4728.69962503 3431.42333418 5831.99149316\n",
      " 4270.51880166 5897.60607489 5047.11302295 5862.41455078 5446.93447741\n",
      " 6131.20071871 5677.17987556 5878.32297482 5326.58668748 3455.02991997\n",
      " 3242.9120482  5035.53039126 5962.03267746 3183.84145927 4495.80973118\n",
      " 3811.16045534 6732.67320956 4462.71055005 6920.30185071 5309.8580699\n",
      " 3618.66061394 6717.20194451 7660.02483324 5499.14375181 5643.69765988\n",
      " 6203.04467717 4685.84482852 6984.03546893 3491.67633411 4689.61688615\n",
      " 4730.13527996 4575.11453651 5213.02527054 5402.86052376 5364.44049313\n",
      " 5129.51541201 4571.10100058 4359.69923688 4917.43917443 4831.43959134\n",
      " 5092.40269495 3580.19062228 4993.94616218 4287.03092146 4479.26430403\n",
      " 5339.41001804 5123.41183974 5926.57700116 4690.04155489 5390.27034467\n",
      " 4508.47485182 4830.45702445 4818.97431482 4889.40271081 3380.22993402\n",
      " 5213.20846097 4754.17486133 4687.12716158 3748.50932606 5085.87445394\n",
      " 4253.55703261 4149.33832793 4031.40532102 3015.63100439 3246.90893045]\n",
      "(100,)\n",
      "Blues Spectral Rolloff:\n",
      "[3805.83960584 3550.53042525 3042.26855922 2184.7457992  3579.7576267\n",
      " 3481.50926488 2795.61096333 2954.83675999 3782.31628843 3943.47391151\n",
      " 2765.90080527 2880.78618946 2738.63873758 2710.26920044 2344.24638151\n",
      " 2929.95616798 3009.46914425 2134.99294201 3495.51500643 2235.26472547\n",
      " 3006.17171639 1830.33059246 2169.02472901 2521.74126079 2323.82897468\n",
      " 2243.35008519 2477.28427259 2811.69841439 2290.63819832 3759.87545996\n",
      " 3016.51364922 2898.78881326 2763.18625607 3245.47671431 3602.4232798\n",
      " 3404.19457385 2620.18946672 2339.30023972 3451.90735571 2311.4386397\n",
      " 5108.21536035 5403.44340243 5187.57845354 5011.56575143 5198.58653341\n",
      " 4551.15822352 4777.82308132 4848.83435597 4672.19714101 3044.86653268\n",
      " 4174.60195448 3943.44893099 3070.72136474 4237.31969847 4063.38037902\n",
      " 4023.56976644 3928.81867659 3828.28876115 4231.76569751 4389.44270229\n",
      " 3955.52284612 5077.38107916 4733.13294165 5711.82784857 5148.37570013\n",
      " 5613.63777462 4972.96253036 4754.59953007 5246.74063769 5005.2290277\n",
      " 4684.52918812 5064.92412948 5660.12651129 4482.42017565 5770.92341801\n",
      " 4700.23360463 5612.79676398 4658.35793621 4942.5945521  5267.69096215\n",
      " 3743.56318427 4195.66052784 4628.62279764 5036.45467028 4220.07481692\n",
      " 2636.84314276 2518.2190083  3082.80360671 2074.44017592 1454.4238168\n",
      " 3468.32788029 1943.40072596 1600.32667262  927.65971668 2517.26142193\n",
      " 2754.85109121 2064.97256109 2603.3442734  4829.31624764 3174.21563452]\n",
      "(100,)\n"
     ]
    }
   ],
   "source": [
    "for i in range(0, 100, 1):\n",
    "    rock_spectral_rolloff.append(np.mean(lb.feature.spectral_rolloff(rock_tracks[i])))\n",
    "    metal_spectral_rolloff.append(np.mean(lb.feature.spectral_rolloff(metal_tracks[i])))\n",
    "    country_spectral_rolloff.append(np.mean(lb.feature.spectral_rolloff(country_tracks[i])))\n",
    "    classical_spectral_rolloff.append(np.mean(lb.feature.spectral_rolloff(classical_tracks[i])))\n",
    "    disco_spectral_rolloff.append(np.mean(lb.feature.spectral_rolloff(disco_tracks[i])))\n",
    "    hiphop_spectral_rolloff.append(np.mean(lb.feature.spectral_rolloff(hiphop_tracks[i])))\n",
    "    jazz_spectral_rolloff.append(np.mean(lb.feature.spectral_rolloff(jazz_tracks[i])))\n",
    "    reggae_spectral_rolloff.append(np.mean(lb.feature.spectral_rolloff(reggae_tracks[i])))\n",
    "    blues_spectral_rolloff.append(np.mean(lb.feature.spectral_rolloff(blues_tracks[i])))\n",
    "    pop_spectral_rolloff.append(np.mean(lb.feature.spectral_rolloff(pop_tracks[i])))\n",
    "\n",
    "rock_spectral_rolloff = np.array(rock_spectral_rolloff)\n",
    "metal_spectral_rolloff = np.array(metal_spectral_rolloff)\n",
    "country_spectral_rolloff = np.array(country_spectral_rolloff)\n",
    "classical_spectral_rolloff = np.array(classical_spectral_rolloff)\n",
    "disco_spectral_rolloff = np.array(disco_spectral_rolloff)\n",
    "hiphop_spectral_rolloff = np.array(hiphop_spectral_rolloff)\n",
    "jazz_spectral_rolloff = np.array(jazz_spectral_rolloff)\n",
    "reggae_spectral_rolloff = np.array(reggae_spectral_rolloff)\n",
    "blues_spectral_rolloff = np.array(blues_spectral_rolloff)\n",
    "pop_spectral_rolloff = np.array(pop_spectral_rolloff)\n",
    "\n",
    "print(\"Rock Spectral Rolloff:\")\n",
    "print(rock_spectral_rolloff)\n",
    "print(rock_spectral_rolloff.shape)\n",
    "\n",
    "print(\"Blues Spectral Rolloff:\")\n",
    "print(blues_spectral_rolloff)\n",
    "print(blues_spectral_rolloff.shape)"
   ],
   "metadata": {
    "collapsed": false,
    "pycharm": {
     "name": "#%%\n"
    }
   }
  },
  {
   "cell_type": "markdown",
   "source": [
    "## Store Data\n",
    "Write extracted data to a CSV file."
   ],
   "metadata": {
    "collapsed": false
   }
  },
  {
   "cell_type": "code",
   "execution_count": 11,
   "outputs": [],
   "source": [
    "with open(\"extracted-features.csv\", mode = 'w', newline = '') as feature_file:\n",
    "    feature_writer = csv.writer(feature_file, delimiter = ',')\n",
    "    feature_writer.writerow([\"Genre\", \"TrackNum\", \"MFCC\", \"ZCR\", \"Spectral Centroid\", \"Spectral Rolloff\"])\n",
    "\n",
    "    for i in range(0, 1000, 1):\n",
    "        if i < 100:\n",
    "            track_num = i\n",
    "            feature_writer.writerow([\"Rock\", track_num, rock_mfcc[track_num], rock_zcr[track_num],\n",
    "                                    rock_spectral_centroid[track_num], rock_spectral_rolloff[track_num]])\n",
    "        elif i < 200:\n",
    "            track_num = i - 100\n",
    "            feature_writer.writerow([\"Metal\", track_num, metal_mfcc[track_num], metal_zcr[track_num],\n",
    "                                    metal_spectral_centroid[track_num], metal_spectral_rolloff[track_num]])\n",
    "        elif i < 300:\n",
    "            track_num = i - 200\n",
    "            feature_writer.writerow([\"Country\", track_num, country_mfcc[track_num], country_zcr[track_num],\n",
    "                                    country_spectral_centroid[track_num], country_spectral_rolloff[track_num]])\n",
    "        elif i < 400:\n",
    "            track_num = i - 300\n",
    "            feature_writer.writerow([\"Classical\", track_num, classical_mfcc[track_num], classical_zcr[track_num],\n",
    "                                    classical_spectral_centroid[track_num], classical_spectral_rolloff[track_num]])\n",
    "        elif i < 500:\n",
    "            track_num = i - 400\n",
    "            feature_writer.writerow([\"Disco\", track_num, disco_mfcc[track_num], disco_zcr[track_num],\n",
    "                                    disco_spectral_centroid[track_num], disco_spectral_rolloff[track_num]])\n",
    "        elif i < 600:\n",
    "            track_num = i - 500\n",
    "            feature_writer.writerow([\"HipHop\", track_num, hiphop_mfcc[track_num], hiphop_zcr[track_num],\n",
    "                                    hiphop_spectral_centroid[track_num], hiphop_spectral_rolloff[track_num]])\n",
    "        elif i < 700:\n",
    "            track_num = i - 600\n",
    "            feature_writer.writerow([\"Jazz\", track_num, jazz_mfcc[track_num], jazz_zcr[track_num],\n",
    "                                    jazz_spectral_centroid[track_num], jazz_spectral_rolloff[track_num]])\n",
    "        elif i < 800:\n",
    "            track_num = i - 700\n",
    "            feature_writer.writerow([\"Reggae\", track_num, reggae_mfcc[track_num], reggae_zcr[track_num],\n",
    "                                     reggae_spectral_centroid[track_num], reggae_spectral_rolloff[track_num]])\n",
    "        elif i < 900:\n",
    "            track_num = i - 800\n",
    "            feature_writer.writerow([\"Blues\", track_num, blues_mfcc[track_num], blues_zcr[track_num],\n",
    "                                    blues_spectral_centroid[track_num], blues_spectral_rolloff[track_num]])\n",
    "        elif i < 1000:\n",
    "            track_num = i - 900\n",
    "            feature_writer.writerow([\"Pop\", track_num, pop_mfcc[track_num], pop_zcr[track_num],\n",
    "                                    pop_spectral_centroid[track_num], pop_spectral_rolloff[track_num]])"
   ],
   "metadata": {
    "collapsed": false,
    "pycharm": {
     "name": "#%%\n"
    }
   }
  }
 ],
 "metadata": {
  "kernelspec": {
   "name": "python3",
   "language": "python",
   "display_name": "Python 3"
  },
  "language_info": {
   "codemirror_mode": {
    "name": "ipython",
    "version": 2
   },
   "file_extension": ".py",
   "mimetype": "text/x-python",
   "name": "python",
   "nbconvert_exporter": "python",
   "pygments_lexer": "ipython2",
   "version": "2.7.6"
  }
 },
 "nbformat": 4,
 "nbformat_minor": 0
}