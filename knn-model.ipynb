{
 "cells": [
  {
   "cell_type": "markdown",
   "source": [
    "# K-Nearest Neighbour Model"
   ],
   "metadata": {
    "collapsed": false
   }
  },
  {
   "cell_type": "markdown",
   "source": [
    "## Importing libraries"
   ],
   "metadata": {
    "collapsed": false
   }
  },
  {
   "cell_type": "code",
   "execution_count": 163,
   "outputs": [],
   "source": [
    "from sklearn.neighbors import KNeighborsClassifier\n",
    "from sklearn import metrics\n",
    "from sklearn.model_selection import train_test_split\n",
    "from sklearn.model_selection import cross_val_score\n",
    "import pandas as pd\n",
    "import numpy as np\n",
    "import matplotlib.pyplot as plt"
   ],
   "metadata": {
    "collapsed": false,
    "pycharm": {
     "name": "#%%\n"
    }
   }
  },
  {
   "cell_type": "markdown",
   "source": [
    "## Reading in CSV data\n",
    "Reading the dataset from a CSV into a DataFrame for use with the model."
   ],
   "metadata": {
    "collapsed": false,
    "pycharm": {
     "name": "#%% md\n"
    }
   }
  },
  {
   "cell_type": "code",
   "execution_count": 164,
   "outputs": [],
   "source": [
    "music_df = pd.read_csv(r'D:\\Uni\\Y3\\FYP\\Code\\Music Classification\\extracted-features.csv')\n",
    "\n",
    "# Read in CSV as a Pandas DataFrame\n",
    "# print(music_df)\n",
    "#Drop the TrackNum from the DataFrame (This is not important for classification)\n",
    "music_df.drop('TrackNum', 1, inplace = True)\n",
    "# Check the field has been dropped correctly\n",
    "# print(music_df)\n",
    "\n",
    "# This will contain the data\n",
    "data = music_df.iloc[:, 1:5].values\n",
    "# This will contain the labels corresponding to the data\n",
    "labels = music_df.iloc[:, 0].values"
   ],
   "metadata": {
    "collapsed": false,
    "pycharm": {
     "name": "#%%\n"
    }
   }
  },
  {
   "cell_type": "markdown",
   "source": [
    "## Produce KNN model"
   ],
   "metadata": {
    "collapsed": false,
    "pycharm": {
     "name": "#%% md\n"
    }
   }
  },
  {
   "cell_type": "code",
   "execution_count": 165,
   "outputs": [
    {
     "data": {
      "text/plain": "<Figure size 432x288 with 1 Axes>",
      "image/png": "[encoded data removed]"
     },
     "metadata": {
      "needs_background": "light"
     },
     "output_type": "display_data"
    },
    {
     "name": "stdout",
     "output_type": "stream",
     "text": [
      "K value: 1 Testing Accuracy: 0.284\n",
      "K value: 2 Testing Accuracy: 0.24\n",
      "K value: 3 Testing Accuracy: 0.256\n",
      "K value: 4 Testing Accuracy: 0.248\n",
      "K value: 5 Testing Accuracy: 0.256\n",
      "K value: 6 Testing Accuracy: 0.276\n",
      "K value: 7 Testing Accuracy: 0.272\n",
      "K value: 8 Testing Accuracy: 0.256\n",
      "K value: 9 Testing Accuracy: 0.284\n",
      "K value: 10 Testing Accuracy: 0.264\n",
      "K value: 11 Testing Accuracy: 0.264\n",
      "K value: 12 Testing Accuracy: 0.256\n",
      "K value: 13 Testing Accuracy: 0.264\n",
      "K value: 14 Testing Accuracy: 0.244\n",
      "K value: 15 Testing Accuracy: 0.244\n",
      "K value: 16 Testing Accuracy: 0.212\n",
      "K value: 17 Testing Accuracy: 0.212\n",
      "K value: 18 Testing Accuracy: 0.22\n",
      "K value: 19 Testing Accuracy: 0.216\n",
      "K value: 20 Testing Accuracy: 0.236\n",
      "K value: 21 Testing Accuracy: 0.256\n",
      "K value: 22 Testing Accuracy: 0.252\n",
      "K value: 23 Testing Accuracy: 0.252\n",
      "K value: 24 Testing Accuracy: 0.256\n",
      "K value: 25 Testing Accuracy: 0.244\n",
      "K value: 26 Testing Accuracy: 0.236\n",
      "K value: 27 Testing Accuracy: 0.236\n",
      "K value: 28 Testing Accuracy: 0.236\n",
      "K value: 29 Testing Accuracy: 0.228\n",
      "K value: 30 Testing Accuracy: 0.236\n",
      "K value: 31 Testing Accuracy: 0.228\n",
      "K value: 32 Testing Accuracy: 0.24\n",
      "K value: 33 Testing Accuracy: 0.252\n",
      "K value: 34 Testing Accuracy: 0.236\n",
      "K value: 35 Testing Accuracy: 0.252\n",
      "K value: 36 Testing Accuracy: 0.256\n",
      "K value: 37 Testing Accuracy: 0.24\n",
      "K value: 38 Testing Accuracy: 0.24\n",
      "K value: 39 Testing Accuracy: 0.236\n",
      "K value: 40 Testing Accuracy: 0.236\n",
      "K value: 41 Testing Accuracy: 0.236\n",
      "K value: 42 Testing Accuracy: 0.232\n",
      "K value: 43 Testing Accuracy: 0.224\n",
      "K value: 44 Testing Accuracy: 0.216\n",
      "K value: 45 Testing Accuracy: 0.212\n",
      "K value: 46 Testing Accuracy: 0.22\n",
      "K value: 47 Testing Accuracy: 0.224\n",
      "K value: 48 Testing Accuracy: 0.228\n",
      "K value: 49 Testing Accuracy: 0.216\n",
      "Best accuracy using k: 1 Accuracy: 0.284\n"
     ]
    }
   ],
   "source": [
    "data_train, data_test, labels_train, labels_test = train_test_split(data, labels, test_size = 0.25)\n",
    "\n",
    "accuracy_scores_list = []\n",
    "k_scores = []\n",
    "\n",
    "for k in range(1, 50):\n",
    "    knn_model = KNeighborsClassifier(n_neighbors = k)\n",
    "    knn_model.fit(data_train, labels_train)\n",
    "    y_pred = knn_model.predict(data_test)\n",
    "\n",
    "    accuracy_scores_list.append(metrics.accuracy_score(labels_test, y_pred))\n",
    "\n",
    "\n",
    "\n",
    "plt.plot(range(1, 50), accuracy_scores_list)\n",
    "plt.xlabel(\"K Value\")\n",
    "plt.ylabel(\"Testing Accuracy\")\n",
    "plt.show()\n",
    "\n",
    "for i in range(0, len(accuracy_scores_list)):\n",
    "    print(\"K value: \" + str(i + 1) + \" Testing Accuracy: \" + str(accuracy_scores_list[i]))\n",
    "\n",
    "best_accuracy = max(accuracy_scores_list)\n",
    "print(\"Best accuracy using k: \" + str(accuracy_scores_list.index(best_accuracy) + 1) + \" Accuracy: \" + str(best_accuracy))"
   ],
   "metadata": {
    "collapsed": false,
    "pycharm": {
     "name": "#%%\n"
    }
   }
  }
 ],
 "metadata": {
  "kernelspec": {
   "display_name": "Python 3",
   "language": "python",
   "name": "python3"
  },
  "language_info": {
   "codemirror_mode": {
    "name": "ipython",
    "version": 2
   },
   "file_extension": ".py",
   "mimetype": "text/x-python",
   "name": "python",
   "nbconvert_exporter": "python",
   "pygments_lexer": "ipython2",
   "version": "2.7.6"
  }
 },
 "nbformat": 4,
 "nbformat_minor": 0
}