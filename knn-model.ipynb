{
 "cells": [
  {
   "cell_type": "markdown",
   "metadata": {
    "collapsed": true,
    "pycharm": {
     "name": "#%% md\n"
    }
   },
   "source": [
    "# K-Nearest Neighbour Model"
   ]
  },
  {
   "cell_type": "markdown",
   "source": [
    "## Importing libraries"
   ],
   "metadata": {
    "collapsed": false
   }
  },
  {
   "cell_type": "code",
   "execution_count": 1,
   "outputs": [
    {
     "data": {
      "text/plain": "<Figure size 432x288 with 1 Axes>",
      "image/png": "[encoded data removed]"
     },
     "metadata": {
      "needs_background": "light"
     },
     "output_type": "display_data"
    },
    {
     "name": "stdout",
     "output_type": "stream",
     "text": [
      "K value: 1 Testing Accuracy: 0.285\n",
      "K value: 1 AUROC Accuracy: 0.6011846122877202\n",
      "K value: 2 Testing Accuracy: 0.22\n",
      "K value: 2 AUROC Accuracy: 0.5704370415181604\n",
      "K value: 3 Testing Accuracy: 0.25\n",
      "K value: 3 AUROC Accuracy: 0.5846456233915224\n",
      "K value: 4 Testing Accuracy: 0.245\n",
      "K value: 4 AUROC Accuracy: 0.5800552148072097\n",
      "K value: 5 Testing Accuracy: 0.235\n",
      "K value: 5 AUROC Accuracy: 0.5741305105643552\n",
      "K value: 6 Testing Accuracy: 0.235\n",
      "K value: 6 AUROC Accuracy: 0.574867668498139\n",
      "K value: 7 Testing Accuracy: 0.23\n",
      "K value: 7 AUROC Accuracy: 0.5725607612547866\n",
      "K value: 8 Testing Accuracy: 0.265\n",
      "K value: 8 AUROC Accuracy: 0.5939368501923591\n",
      "K value: 9 Testing Accuracy: 0.275\n",
      "K value: 9 AUROC Accuracy: 0.5972787108895147\n",
      "K value: 10 Testing Accuracy: 0.285\n",
      "K value: 10 AUROC Accuracy: 0.6035504364821682\n",
      "K value: 11 Testing Accuracy: 0.285\n",
      "K value: 11 AUROC Accuracy: 0.6049314821037892\n",
      "K value: 12 Testing Accuracy: 0.29\n",
      "K value: 12 AUROC Accuracy: 0.6078173031758748\n",
      "K value: 13 Testing Accuracy: 0.28\n",
      "K value: 13 AUROC Accuracy: 0.600111181428633\n",
      "K value: 14 Testing Accuracy: 0.29\n",
      "K value: 14 AUROC Accuracy: 0.604155662184041\n",
      "K value: 15 Testing Accuracy: 0.28\n",
      "K value: 15 AUROC Accuracy: 0.6004764233938472\n",
      "K value: 16 Testing Accuracy: 0.275\n",
      "K value: 16 AUROC Accuracy: 0.5995139279177468\n",
      "K value: 17 Testing Accuracy: 0.28\n",
      "K value: 17 AUROC Accuracy: 0.6033844168268376\n",
      "K value: 18 Testing Accuracy: 0.26\n",
      "K value: 18 AUROC Accuracy: 0.591422283946778\n",
      "K value: 19 Testing Accuracy: 0.26\n",
      "K value: 19 AUROC Accuracy: 0.5899867772718372\n",
      "K value: 20 Testing Accuracy: 0.25\n",
      "K value: 20 AUROC Accuracy: 0.5843264750103521\n",
      "K value: 21 Testing Accuracy: 0.255\n",
      "K value: 21 AUROC Accuracy: 0.587645431708226\n",
      "K value: 22 Testing Accuracy: 0.25\n",
      "K value: 22 AUROC Accuracy: 0.585925307993372\n",
      "K value: 23 Testing Accuracy: 0.25\n",
      "K value: 23 AUROC Accuracy: 0.5850739332756747\n",
      "K value: 24 Testing Accuracy: 0.255\n",
      "K value: 24 AUROC Accuracy: 0.5876152920003352\n"
     ]
    }
   ],
   "source": [
    "from sklearn.neighbors import KNeighborsClassifier\n",
    "from sklearn import metrics\n",
    "from sklearn.model_selection import train_test_split\n",
    "from sklearn.preprocessing import LabelBinarizer\n",
    "import pandas as pd\n",
    "import matplotlib.pyplot as plt\n",
    "\n",
    "#ADD MARKDOWN CELLS TO DESCRIBE THE FOLLOWING\n",
    "\n",
    "#Taken from https://medium.com/@plog397/auc-roc-curve-scoring-function-for-multi-class-classification-9822871a6659\n",
    "#By default, the sklearn implementation does not support multiclass input.\n",
    "#The function below converts into a binary input.\n",
    "def multiclass_auc_roc(y_test, y_pred):\n",
    "    label = LabelBinarizer()\n",
    "    label.fit(y_test)\n",
    "    y_test = label.transform(y_test)\n",
    "    y_pred = label.transform(y_pred)\n",
    "    return metrics.roc_auc_score(y_test, y_pred)\n",
    "\n",
    "music_df = pd.read_csv(r'D:\\Uni\\Y3\\FYP\\Code\\Music Classification\\extracted-features.csv')\n",
    "\n",
    "#Read in CSV as a Pandas DataFrame\n",
    "# print(music_df)\n",
    "#Drop the TrackNum from the DataFrame (This is not important for classification)\n",
    "music_df.drop('TrackNum', 1, inplace = True)\n",
    "#Check the field has been dropped correctly\n",
    "# print(music_df)\n",
    "\n",
    "#   This will contain the data\n",
    "data = music_df.iloc[:, 1:5].values\n",
    "#   This will contain the labels corresponding to the data\n",
    "labels = music_df.iloc[:, 0].values\n",
    "\n",
    "data_train, data_test, labels_train, labels_test = train_test_split(data, labels, test_size = 0.2)\n",
    "\n",
    "# print(x_train.shape)\n",
    "# print(x_test.shape)\n",
    "# print(y_train.shape)\n",
    "# print(y_test.shape)\n",
    "\n",
    "k_range = range(1, 25)\n",
    "accuracy_scores_list = []\n",
    "auroc_scores_list = []\n",
    "\n",
    "for k in k_range:\n",
    "    knn = KNeighborsClassifier(n_neighbors = k)\n",
    "    knn.fit(data_train, labels_train)\n",
    "    y_pred = knn.predict(data_test)\n",
    "\n",
    "    accuracy_scores_list.append(metrics.accuracy_score(labels_test, y_pred))\n",
    "    auroc_scores_list.append(multiclass_auc_roc(labels_test, y_pred))\n",
    "\n",
    "plt.plot(k_range, accuracy_scores_list)\n",
    "plt.plot(k_range, auroc_scores_list)\n",
    "plt.xlabel(\"K Value\")\n",
    "plt.ylabel(\"Testing Accuracy\")\n",
    "plt.show()\n",
    "\n",
    "for i in range(0, len(accuracy_scores_list)):\n",
    "    print(\"K value: \" + str(i + 1) + \" Testing Accuracy: \" + str(accuracy_scores_list[i]))\n",
    "    print(\"K value: \" + str(i + 1) + \" AUROC Accuracy: \" + str(auroc_scores_list[i]))"
   ],
   "metadata": {
    "collapsed": false,
    "pycharm": {
     "name": "#%%\n"
    }
   }
  }
 ],
 "metadata": {
  "kernelspec": {
   "display_name": "Python 3",
   "language": "python",
   "name": "python3"
  },
  "language_info": {
   "codemirror_mode": {
    "name": "ipython",
    "version": 2
   },
   "file_extension": ".py",
   "mimetype": "text/x-python",
   "name": "python",
   "nbconvert_exporter": "python",
   "pygments_lexer": "ipython2",
   "version": "2.7.6"
  }
 },
 "nbformat": 4,
 "nbformat_minor": 0
}