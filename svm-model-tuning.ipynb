{
 "cells": [
  {
   "cell_type": "markdown",
   "metadata": {
    "collapsed": true,
    "pycharm": {
     "name": "#%% md\n"
    }
   },
   "source": [
    "# Support Vector Machine Model"
   ]
  },
  {
   "cell_type": "markdown",
   "source": [
    "## Importing libraries"
   ],
   "metadata": {
    "collapsed": false
   }
  },
  {
   "cell_type": "code",
   "execution_count": 5,
   "outputs": [],
   "source": [
    "import pickle\n",
    "from sklearn.svm import SVC\n",
    "from sklearn.model_selection import train_test_split, GridSearchCV\n",
    "from sklearn.metrics import classification_report\n",
    "import pandas as pd"
   ],
   "metadata": {
    "collapsed": false,
    "pycharm": {
     "name": "#%%\n"
    }
   }
  },
  {
   "cell_type": "markdown",
   "source": [
    "## Reading in CSV data\n",
    "Reading the dataset from a CSV into a DataFrame for use with the model.\n",
    "Remove unnecessary data and split into data and labels."
   ],
   "metadata": {
    "collapsed": false
   }
  },
  {
   "cell_type": "code",
   "execution_count": 6,
   "outputs": [],
   "source": [
    "music_df = pd.read_csv(\"extracted-features.csv\")\n",
    "\n",
    "## This will contain the data\n",
    "data = music_df.iloc[:, 1:].values\n",
    "## This will contain the labels corresponding to the data\n",
    "labels = music_df.iloc[:, 0].values"
   ],
   "metadata": {
    "collapsed": false,
    "pycharm": {
     "name": "#%%\n"
    }
   }
  },
  {
   "cell_type": "markdown",
   "source": [
    "## Cross-validate a SVM to find the best hyper-parameters\n",
    "\n",
    "Use GridSearchCV to evaluate the optimal hyperparameters for the algorithm."
   ],
   "metadata": {
    "collapsed": false
   }
  },
  {
   "cell_type": "code",
   "execution_count": 7,
   "outputs": [
    {
     "name": "stdout",
     "output_type": "stream",
     "text": [
      "{'C': 1000, 'gamma': 'scale'}\n",
      "              precision    recall  f1-score   support\n",
      "\n",
      "       Blues       0.55      0.16      0.25        37\n",
      "   Classical       0.69      0.75      0.72        24\n",
      "     Country       0.12      0.17      0.14        24\n",
      "       Disco       0.32      0.20      0.24        30\n",
      "      HipHop       0.44      0.20      0.28        40\n",
      "        Jazz       0.12      0.24      0.16        29\n",
      "       Metal       0.63      0.65      0.64        26\n",
      "         Pop       0.59      0.71      0.65        28\n",
      "      Reggae       0.24      0.29      0.27        34\n",
      "        Rock       0.15      0.18      0.16        28\n",
      "\n",
      "    accuracy                           0.34       300\n",
      "   macro avg       0.38      0.36      0.35       300\n",
      "weighted avg       0.39      0.34      0.34       300\n",
      "\n",
      "ROC AUC: 0.7855036688641637\n"
     ]
    }
   ],
   "source": [
    "data_train, data_test, labels_train, labels_test = train_test_split(data, labels, test_size = 0.30)\n",
    "\n",
    "svm_model = SVC(probability = True, kernel = \"rbf\")\n",
    "\n",
    "param_grid = {\"C\": [0.1, 1, 10, 100, 1000],\n",
    "              \"gamma\": [\"scale\", \"auto\"]}\n",
    "\n",
    "scoring_metrics = {\"Accuracy\": \"accuracy\",\n",
    "                   \"AUC\": \"roc_auc_ovr\",\n",
    "                   \"F1\": \"f1_macro\"}\n",
    "\n",
    "## roc_auc_ovr sets the score to use roc_auc in one vs rest mode\n",
    "## StratifiedKFold is used by default for the cross validation\n",
    "svm_grid_search_cv = GridSearchCV(svm_model,\n",
    "                                  param_grid,\n",
    "                                  scoring = scoring_metrics,\n",
    "                                  refit = \"AUC\",\n",
    "                                  cv = 5)\n",
    "\n",
    "svm_grid_search_cv.fit(data_train, labels_train)\n",
    "\n",
    "best_params = svm_grid_search_cv.best_params_\n",
    "\n",
    "print(best_params)\n",
    "\n",
    "svm_grid_predict = svm_grid_search_cv.predict(data_test)\n",
    "\n",
    "print(classification_report(labels_test, svm_grid_predict))\n",
    "\n",
    "## Best score is using the metric defined in refit\n",
    "print(\"ROC AUC: \" + str(svm_grid_search_cv.best_score_))\n",
    "\n",
    "best_c_value = best_params[\"C\"]\n",
    "best_gamma = best_params[\"gamma\"]"
   ],
   "metadata": {
    "collapsed": false,
    "pycharm": {
     "name": "#%%\n"
    }
   }
  },
  {
   "cell_type": "markdown",
   "source": [
    "## Produce SVM model\n",
    "\n",
    "Produce a SVM model using the optimal hyperparameters and save to a Pickle file for use with Azure."
   ],
   "metadata": {
    "collapsed": false
   }
  },
  {
   "cell_type": "code",
   "execution_count": 8,
   "outputs": [],
   "source": [
    "## svm_model = SVC(probability = True,\n",
    "##                 class_weight = best_c_value,\n",
    "##                 kernel = \"rbf\",\n",
    "##                 gamma = best_gamma)\n",
    "##\n",
    "## svm_model.fit(data_train, labels_train)\n",
    "\n",
    "with open(\"models/svm.pkl\", mode = \"wb\") as model_file:\n",
    "    pickle.dump(svm_grid_search_cv, model_file)"
   ],
   "metadata": {
    "collapsed": false,
    "pycharm": {
     "name": "#%%\n"
    }
   }
  }
 ],
 "metadata": {
  "kernelspec": {
   "display_name": "Python 3",
   "language": "python",
   "name": "python3"
  },
  "language_info": {
   "codemirror_mode": {
    "name": "ipython",
    "version": 2
   },
   "file_extension": ".py",
   "mimetype": "text/x-python",
   "name": "python",
   "nbconvert_exporter": "python",
   "pygments_lexer": "ipython2",
   "version": "2.7.6"
  }
 },
 "nbformat": 4,
 "nbformat_minor": 0
}