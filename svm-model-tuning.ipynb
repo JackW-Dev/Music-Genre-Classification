{
 "cells": [
  {
   "cell_type": "markdown",
   "metadata": {
    "collapsed": true,
    "pycharm": {
     "name": "#%% md\n"
    }
   },
   "source": [
    "# Support Vector Machine Model"
   ]
  },
  {
   "cell_type": "markdown",
   "source": [
    "## Importing libraries"
   ],
   "metadata": {
    "collapsed": false
   }
  },
  {
   "cell_type": "code",
   "execution_count": 5,
   "outputs": [],
   "source": [
    "import pickle\n",
    "from sklearn.svm import SVC\n",
    "from sklearn.model_selection import train_test_split, GridSearchCV\n",
    "from sklearn.metrics import classification_report\n",
    "import pandas as pd"
   ],
   "metadata": {
    "collapsed": false,
    "pycharm": {
     "name": "#%%\n"
    }
   }
  },
  {
   "cell_type": "markdown",
   "source": [
    "## Reading in CSV data\n",
    "Reading the dataset from a CSV into a DataFrame for use with the model.\n",
    "Remove unnecessary data and split into data and labels."
   ],
   "metadata": {
    "collapsed": false
   }
  },
  {
   "cell_type": "code",
   "execution_count": 6,
   "outputs": [],
   "source": [
    "music_df = pd.read_csv(r'D:\\Uni\\Y3\\FYP\\Code\\Music Classification\\extracted-features.csv')\n",
    "\n",
    "## This will contain the data\n",
    "data = music_df.iloc[:, 1:].values\n",
    "## This will contain the labels corresponding to the data\n",
    "labels = music_df.iloc[:, 0].values"
   ],
   "metadata": {
    "collapsed": false,
    "pycharm": {
     "name": "#%%\n"
    }
   }
  },
  {
   "cell_type": "markdown",
   "source": [
    "## Cross-validate a SVM to find the best hyper-parameters\n",
    "\n",
    "Use GridSearchCV to evaluate the optimal hyperparameters for the algorithm."
   ],
   "metadata": {
    "collapsed": false
   }
  },
  {
   "cell_type": "code",
   "execution_count": 7,
   "outputs": [
    {
     "name": "stdout",
     "output_type": "stream",
     "text": [
      "{'C': 1000, 'gamma': 'scale'}\n",
      "              precision    recall  f1-score   support\n",
      "\n",
      "       Blues       0.55      0.17      0.26        36\n",
      "   Classical       0.61      0.88      0.72        25\n",
      "     Country       0.19      0.17      0.18        30\n",
      "       Disco       0.26      0.52      0.34        23\n",
      "      HipHop       0.21      0.19      0.20        32\n",
      "        Jazz       0.11      0.19      0.14        31\n",
      "       Metal       0.68      0.68      0.68        31\n",
      "         Pop       0.45      0.62      0.52        29\n",
      "      Reggae       0.16      0.09      0.12        32\n",
      "        Rock       0.20      0.03      0.06        31\n",
      "\n",
      "    accuracy                           0.33       300\n",
      "   macro avg       0.34      0.35      0.32       300\n",
      "weighted avg       0.34      0.33      0.31       300\n",
      "\n",
      "ROC AUC: 0.7978465217614759\n"
     ]
    }
   ],
   "source": [
    "data_train, data_test, labels_train, labels_test = train_test_split(data, labels, test_size = 0.30)\n",
    "\n",
    "svm_model = SVC(probability = True, kernel = \"rbf\")\n",
    "\n",
    "param_grid = {\"C\": [0.1, 1, 10, 100, 1000],\n",
    "              \"gamma\": [\"scale\", \"auto\"]}\n",
    "\n",
    "scoring_metrics = {\"Accuracy\": \"accuracy\",\n",
    "                   \"AUC\": \"roc_auc_ovr\",\n",
    "                   \"F1\": \"f1_macro\"}\n",
    "\n",
    "## roc_auc_ovr sets the score to use roc_auc in one vs rest mode\n",
    "## StratifiedKFold is used by default for the cross validation\n",
    "svm_grid_search_cv = GridSearchCV(svm_model,\n",
    "                                  param_grid,\n",
    "                                  scoring = scoring_metrics,\n",
    "                                  refit = \"AUC\",\n",
    "                                  cv = 5)\n",
    "\n",
    "svm_grid_search_cv.fit(data_train, labels_train)\n",
    "\n",
    "best_params = svm_grid_search_cv.best_params_\n",
    "\n",
    "print(best_params)\n",
    "\n",
    "svm_grid_predict = svm_grid_search_cv.predict(data_test)\n",
    "\n",
    "print(classification_report(labels_test, svm_grid_predict))\n",
    "\n",
    "## Best score is using the metric defined in refit\n",
    "print(\"ROC AUC: \" + str(svm_grid_search_cv.best_score_))\n",
    "\n",
    "best_c_value = best_params[\"C\"]\n",
    "best_gamma = best_params[\"gamma\"]"
   ],
   "metadata": {
    "collapsed": false,
    "pycharm": {
     "name": "#%%\n"
    }
   }
  },
  {
   "cell_type": "markdown",
   "source": [
    "## Produce SVM model\n",
    "\n",
    "Produce a SVM model using the optimal hyperparameters and save to a Pickle file for use with Azure."
   ],
   "metadata": {
    "collapsed": false
   }
  },
  {
   "cell_type": "code",
   "execution_count": 8,
   "outputs": [
    {
     "ename": "TypeError",
     "evalue": "object of type 'int' has no len()",
     "output_type": "error",
     "traceback": [
      "\u001B[1;31m---------------------------------------------------------------------------\u001B[0m",
      "\u001B[1;31mTypeError\u001B[0m                                 Traceback (most recent call last)",
      "\u001B[1;32m<ipython-input-8-24ffe19f738f>\u001B[0m in \u001B[0;36m<module>\u001B[1;34m\u001B[0m\n\u001B[0;32m      4\u001B[0m                 gamma = best_gamma)\n\u001B[0;32m      5\u001B[0m \u001B[1;33m\u001B[0m\u001B[0m\n\u001B[1;32m----> 6\u001B[1;33m \u001B[0msvm_model\u001B[0m\u001B[1;33m.\u001B[0m\u001B[0mfit\u001B[0m\u001B[1;33m(\u001B[0m\u001B[0mdata_train\u001B[0m\u001B[1;33m,\u001B[0m \u001B[0mlabels_train\u001B[0m\u001B[1;33m)\u001B[0m\u001B[1;33m\u001B[0m\u001B[1;33m\u001B[0m\u001B[0m\n\u001B[0m\u001B[0;32m      7\u001B[0m \u001B[1;33m\u001B[0m\u001B[0m\n\u001B[0;32m      8\u001B[0m \u001B[1;32mwith\u001B[0m \u001B[0mopen\u001B[0m\u001B[1;33m(\u001B[0m\u001B[1;34m\"models/svm.pkl\"\u001B[0m\u001B[1;33m,\u001B[0m \u001B[0mmode\u001B[0m \u001B[1;33m=\u001B[0m \u001B[1;34m\"wb\"\u001B[0m\u001B[1;33m)\u001B[0m \u001B[1;32mas\u001B[0m \u001B[0mmodel_file\u001B[0m\u001B[1;33m:\u001B[0m\u001B[1;33m\u001B[0m\u001B[1;33m\u001B[0m\u001B[0m\n",
      "\u001B[1;32m~\\anaconda3\\lib\\site-packages\\sklearn\\svm\\_base.py\u001B[0m in \u001B[0;36mfit\u001B[1;34m(self, X, y, sample_weight)\u001B[0m\n\u001B[0;32m    162\u001B[0m                                        accept_large_sparse=False)\n\u001B[0;32m    163\u001B[0m \u001B[1;33m\u001B[0m\u001B[0m\n\u001B[1;32m--> 164\u001B[1;33m         \u001B[0my\u001B[0m \u001B[1;33m=\u001B[0m \u001B[0mself\u001B[0m\u001B[1;33m.\u001B[0m\u001B[0m_validate_targets\u001B[0m\u001B[1;33m(\u001B[0m\u001B[0my\u001B[0m\u001B[1;33m)\u001B[0m\u001B[1;33m\u001B[0m\u001B[1;33m\u001B[0m\u001B[0m\n\u001B[0m\u001B[0;32m    165\u001B[0m \u001B[1;33m\u001B[0m\u001B[0m\n\u001B[0;32m    166\u001B[0m         sample_weight = np.asarray([]\n",
      "\u001B[1;32m~\\anaconda3\\lib\\site-packages\\sklearn\\svm\\_base.py\u001B[0m in \u001B[0;36m_validate_targets\u001B[1;34m(self, y)\u001B[0m\n\u001B[0;32m    544\u001B[0m         \u001B[0mcheck_classification_targets\u001B[0m\u001B[1;33m(\u001B[0m\u001B[0my\u001B[0m\u001B[1;33m)\u001B[0m\u001B[1;33m\u001B[0m\u001B[1;33m\u001B[0m\u001B[0m\n\u001B[0;32m    545\u001B[0m         \u001B[0mcls\u001B[0m\u001B[1;33m,\u001B[0m \u001B[0my\u001B[0m \u001B[1;33m=\u001B[0m \u001B[0mnp\u001B[0m\u001B[1;33m.\u001B[0m\u001B[0munique\u001B[0m\u001B[1;33m(\u001B[0m\u001B[0my_\u001B[0m\u001B[1;33m,\u001B[0m \u001B[0mreturn_inverse\u001B[0m\u001B[1;33m=\u001B[0m\u001B[1;32mTrue\u001B[0m\u001B[1;33m)\u001B[0m\u001B[1;33m\u001B[0m\u001B[1;33m\u001B[0m\u001B[0m\n\u001B[1;32m--> 546\u001B[1;33m         self.class_weight_ = compute_class_weight(self.class_weight,\n\u001B[0m\u001B[0;32m    547\u001B[0m                                                   classes=cls, y=y_)\n\u001B[0;32m    548\u001B[0m         \u001B[1;32mif\u001B[0m \u001B[0mlen\u001B[0m\u001B[1;33m(\u001B[0m\u001B[0mcls\u001B[0m\u001B[1;33m)\u001B[0m \u001B[1;33m<\u001B[0m \u001B[1;36m2\u001B[0m\u001B[1;33m:\u001B[0m\u001B[1;33m\u001B[0m\u001B[1;33m\u001B[0m\u001B[0m\n",
      "\u001B[1;32m~\\anaconda3\\lib\\site-packages\\sklearn\\utils\\validation.py\u001B[0m in \u001B[0;36minner_f\u001B[1;34m(*args, **kwargs)\u001B[0m\n\u001B[0;32m     70\u001B[0m                           FutureWarning)\n\u001B[0;32m     71\u001B[0m         \u001B[0mkwargs\u001B[0m\u001B[1;33m.\u001B[0m\u001B[0mupdate\u001B[0m\u001B[1;33m(\u001B[0m\u001B[1;33m{\u001B[0m\u001B[0mk\u001B[0m\u001B[1;33m:\u001B[0m \u001B[0marg\u001B[0m \u001B[1;32mfor\u001B[0m \u001B[0mk\u001B[0m\u001B[1;33m,\u001B[0m \u001B[0marg\u001B[0m \u001B[1;32min\u001B[0m \u001B[0mzip\u001B[0m\u001B[1;33m(\u001B[0m\u001B[0msig\u001B[0m\u001B[1;33m.\u001B[0m\u001B[0mparameters\u001B[0m\u001B[1;33m,\u001B[0m \u001B[0margs\u001B[0m\u001B[1;33m)\u001B[0m\u001B[1;33m}\u001B[0m\u001B[1;33m)\u001B[0m\u001B[1;33m\u001B[0m\u001B[1;33m\u001B[0m\u001B[0m\n\u001B[1;32m---> 72\u001B[1;33m         \u001B[1;32mreturn\u001B[0m \u001B[0mf\u001B[0m\u001B[1;33m(\u001B[0m\u001B[1;33m**\u001B[0m\u001B[0mkwargs\u001B[0m\u001B[1;33m)\u001B[0m\u001B[1;33m\u001B[0m\u001B[1;33m\u001B[0m\u001B[0m\n\u001B[0m\u001B[0;32m     73\u001B[0m     \u001B[1;32mreturn\u001B[0m \u001B[0minner_f\u001B[0m\u001B[1;33m\u001B[0m\u001B[1;33m\u001B[0m\u001B[0m\n\u001B[0;32m     74\u001B[0m \u001B[1;33m\u001B[0m\u001B[0m\n",
      "\u001B[1;32m~\\anaconda3\\lib\\site-packages\\sklearn\\utils\\class_weight.py\u001B[0m in \u001B[0;36mcompute_class_weight\u001B[1;34m(class_weight, classes, y)\u001B[0m\n\u001B[0;32m     44\u001B[0m         raise ValueError(\"classes should include all valid labels that can \"\n\u001B[0;32m     45\u001B[0m                          \"be in y\")\n\u001B[1;32m---> 46\u001B[1;33m     \u001B[1;32mif\u001B[0m \u001B[0mclass_weight\u001B[0m \u001B[1;32mis\u001B[0m \u001B[1;32mNone\u001B[0m \u001B[1;32mor\u001B[0m \u001B[0mlen\u001B[0m\u001B[1;33m(\u001B[0m\u001B[0mclass_weight\u001B[0m\u001B[1;33m)\u001B[0m \u001B[1;33m==\u001B[0m \u001B[1;36m0\u001B[0m\u001B[1;33m:\u001B[0m\u001B[1;33m\u001B[0m\u001B[1;33m\u001B[0m\u001B[0m\n\u001B[0m\u001B[0;32m     47\u001B[0m         \u001B[1;31m# uniform class weights\u001B[0m\u001B[1;33m\u001B[0m\u001B[1;33m\u001B[0m\u001B[1;33m\u001B[0m\u001B[0m\n\u001B[0;32m     48\u001B[0m         \u001B[0mweight\u001B[0m \u001B[1;33m=\u001B[0m \u001B[0mnp\u001B[0m\u001B[1;33m.\u001B[0m\u001B[0mones\u001B[0m\u001B[1;33m(\u001B[0m\u001B[0mclasses\u001B[0m\u001B[1;33m.\u001B[0m\u001B[0mshape\u001B[0m\u001B[1;33m[\u001B[0m\u001B[1;36m0\u001B[0m\u001B[1;33m]\u001B[0m\u001B[1;33m,\u001B[0m \u001B[0mdtype\u001B[0m\u001B[1;33m=\u001B[0m\u001B[0mnp\u001B[0m\u001B[1;33m.\u001B[0m\u001B[0mfloat64\u001B[0m\u001B[1;33m,\u001B[0m \u001B[0morder\u001B[0m\u001B[1;33m=\u001B[0m\u001B[1;34m'C'\u001B[0m\u001B[1;33m)\u001B[0m\u001B[1;33m\u001B[0m\u001B[1;33m\u001B[0m\u001B[0m\n",
      "\u001B[1;31mTypeError\u001B[0m: object of type 'int' has no len()"
     ]
    }
   ],
   "source": [
    "svm_model = SVC(probability = True,\n",
    "                class_weight = best_c_value,\n",
    "                kernel = \"rbf\",\n",
    "                gamma = best_gamma)\n",
    "\n",
    "svm_model.fit(data_train, labels_train)\n",
    "\n",
    "with open(\"models/svm.pkl\", mode = \"wb\") as model_file:\n",
    "    pickle.dump(svm_model, model_file)"
   ],
   "metadata": {
    "collapsed": false,
    "pycharm": {
     "name": "#%%\n"
    }
   }
  }
 ],
 "metadata": {
  "kernelspec": {
   "display_name": "Python 3",
   "language": "python",
   "name": "python3"
  },
  "language_info": {
   "codemirror_mode": {
    "name": "ipython",
    "version": 2
   },
   "file_extension": ".py",
   "mimetype": "text/x-python",
   "name": "python",
   "nbconvert_exporter": "python",
   "pygments_lexer": "ipython2",
   "version": "2.7.6"
  }
 },
 "nbformat": 4,
 "nbformat_minor": 0
}