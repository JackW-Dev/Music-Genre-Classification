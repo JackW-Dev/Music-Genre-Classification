{
 "cells": [
  {
   "cell_type": "markdown",
   "metadata": {
    "collapsed": true,
    "pycharm": {
     "name": "#%% md\n"
    }
   },
   "source": [
    "# Local system for testing models"
   ]
  },
  {
   "cell_type": "markdown",
   "source": [
    "## Importing libraries"
   ],
   "metadata": {
    "collapsed": false
   }
  },
  {
   "cell_type": "code",
   "execution_count": null,
   "outputs": [],
   "source": [
    "import json\n",
    "import pickle\n",
    "import numpy as np\n",
    "import pandas as pd"
   ],
   "metadata": {
    "collapsed": false,
    "pycharm": {
     "name": "#%%\n"
    }
   }
  },
  {
   "cell_type": "markdown",
   "source": [
    "## Load pre-trained models\n",
    "\n",
    "Load the pre-tuned and trained models from their respective Pickle files"
   ],
   "metadata": {
    "collapsed": false,
    "pycharm": {
     "name": "#%% md\n"
    }
   }
  },
  {
   "cell_type": "code",
   "execution_count": null,
   "outputs": [],
   "source": [
    "with open(\"models/knn.pkl\", mode = \"rb\") as knn_file:\n",
    "    knn = pickle.load(knn_file)\n",
    "    print(\"KNN Loaded\")\n",
    "\n",
    "with open(\"models/svm.pkl\", mode = \"rb\") as svm_file:\n",
    "    svm = pickle.load(svm_file)\n",
    "    print(\"SVM Loaded\")"
   ],
   "metadata": {
    "collapsed": false,
    "pycharm": {
     "name": "#%%\n"
    }
   }
  },
  {
   "cell_type": "markdown",
   "source": [
    "## Prompt user to provide data for testing\n",
    "\n",
    "Prompt the user to input values for Genre, MFCC, ZCR, Spectral Centroid and Spectral Rolloff"
   ],
   "metadata": {
    "collapsed": false
   }
  },
  {
   "cell_type": "code",
   "execution_count": null,
   "outputs": [],
   "source": [
    "print(\"Please provide the following details for the track to test with.\")\n",
    "genre = input(\"Genre: \")\n",
    "mfcc = input(\"Mel-Frequency Cepstral Coefficient: \")\n",
    "zcr = input(\"Zero Crossing Rate: \")\n",
    "spectral_centroid = input(\"Spectral Centroid: \")\n",
    "spectral_rolloff = input(\"Spectral Rolloff: \")"
   ],
   "metadata": {
    "collapsed": false,
    "pycharm": {
     "name": "#%%\n"
    }
   }
  },
  {
   "cell_type": "markdown",
   "source": [
    "## Convert details to a CSV object for use with the model\n",
    "\n",
    "Convert the input data to a CSV structure for use with the models (Should be a 2D array)"
   ],
   "metadata": {
    "collapsed": false
   }
  },
  {
   "cell_type": "code",
   "execution_count": null,
   "outputs": [],
   "source": [
    "model_input = np.array([[mfcc, zcr, spectral_centroid, spectral_rolloff]])"
   ],
   "metadata": {
    "collapsed": false,
    "pycharm": {
     "name": "#%%\n"
    }
   }
  },
  {
   "cell_type": "markdown",
   "source": [
    "## Store and reload data\n",
    "\n",
    "The following code is a test to see how a JSON file can be converted into the correct format for use with the model\n",
    "This has been produced to aid the developer with producing a working scoring script"
   ],
   "metadata": {
    "collapsed": false
   }
  },
  {
   "cell_type": "code",
   "execution_count": null,
   "outputs": [],
   "source": [
    "# Create a Numpy array that holds all of the items data\n",
    "test_to_json = np.array([[genre, mfcc, zcr, spectral_centroid, spectral_rolloff]])\n",
    "\n",
    "# Cast to a Pandas DataFrame and then convert that DataFrame to JSON\n",
    "df = pd.DataFrame(test_to_json, columns=[\"genre\", \"mfcc\", \"zcr\", \"spectral_centroid\", \"spectral_rolloff\"])\n",
    "print(\"DataFrame:\")\n",
    "print(df)\n",
    "df_json = df.to_json(orient=\"records\")\n",
    "print(\"JSON from DataFrame:\")\n",
    "print(df_json)\n",
    "\n",
    "# Save the produced JSON to a file\n",
    "with open(\"local_data.json\", mode = \"w\") as json_file:\n",
    "    json.dump(df_json, json_file)\n",
    "\n",
    "# Read back the produced JSON from the file\n",
    "with open(\"local_data.json\", mode = \"r\") as json_file:\n",
    "    loaded_json = json.load(json_file)\n",
    "    print(\"JSON loaded from file:\")\n",
    "    print(loaded_json)\n",
    "\n",
    "# Convert the JSON to a dictionary and then use the .from_dict method to parse into a DataFrame\n",
    "json_dict = json.loads(loaded_json)\n",
    "df_json_2 = pd.DataFrame(json_dict)\n",
    "print(\"DataFrame produced from loaded JSON:\")\n",
    "print(df_json_2)\n",
    "\n",
    "# Extract relevant data from the DataFrame for use with the model\n",
    "loaded_data = df_json_2.iloc[:, 1:].values\n",
    "loaded_labels = df_json_2.iloc[:, 0].values\n",
    "print(\"Data extracted from DataFrame:\")\n",
    "print(loaded_data)\n",
    "print(loaded_labels)"
   ],
   "metadata": {
    "collapsed": false,
    "pycharm": {
     "name": "#%%\n"
    }
   }
  },
  {
   "cell_type": "markdown",
   "source": [
    "## Input JSON and convert for use with model\n",
    "\n",
    "Accept a JSON input and convert it into the correct format for use with the model"
   ],
   "metadata": {
    "collapsed": false,
    "pycharm": {
     "name": "#%% md\n"
    }
   }
  },
  {
   "cell_type": "code",
   "execution_count": null,
   "outputs": [],
   "source": [
    "print(\"Please provide the following details for the track to test with.\")\n",
    "json_data = input(\"JSON data: \")\n",
    "print(\"Input JSON:\")\n",
    "print(json_data)\n",
    "\n",
    "json_dict_2 = json.loads(json_data)\n",
    "print(\"Input JSON dict:\")\n",
    "print(json_dict_2)\n",
    "\n",
    "json_df = pd.DataFrame(json_dict_2)\n",
    "print(\"JSON from input:\")\n",
    "print(json_df)\n",
    "\n",
    "loaded_json_data = json_df.iloc[:, 1:].values\n",
    "loaded_json_labels = json_df.iloc[:, 0].values"
   ],
   "metadata": {
    "collapsed": false,
    "pycharm": {
     "name": "#%%\n"
    }
   }
  },
  {
   "cell_type": "markdown",
   "source": [
    "## Predict the genre of the track using the provided input data"
   ],
   "metadata": {
    "collapsed": false
   }
  },
  {
   "cell_type": "code",
   "execution_count": null,
   "outputs": [],
   "source": [
    "# Using normal input data\n",
    "\n",
    "knn_pred = knn.predict(model_input)\n",
    "svm_pred = svm.predict(model_input)\n",
    "print(knn_pred)\n",
    "print(svm_pred)\n",
    "\n",
    "# Using data that was stored and reloaded from file\n",
    "knn_pred_csv = knn.predict(loaded_data)\n",
    "svm_pred_csv = svm.predict(loaded_data)\n",
    "print(knn_pred_csv)\n",
    "print(svm_pred_csv)\n",
    "\n",
    "# Using data that was input in JSON form\n",
    "knn_pred_json = knn.predict(loaded_json_data)\n",
    "svm_pred_json = svm.predict(loaded_json_data)\n",
    "print(knn_pred_json)\n",
    "print(svm_pred_json)"
   ],
   "metadata": {
    "collapsed": false,
    "pycharm": {
     "name": "#%%\n"
    }
   }
  }
 ],
 "metadata": {
  "kernelspec": {
   "display_name": "Python 3",
   "language": "python",
   "name": "python3"
  },
  "language_info": {
   "codemirror_mode": {
    "name": "ipython",
    "version": 2
   },
   "file_extension": ".py",
   "mimetype": "text/x-python",
   "name": "python",
   "nbconvert_exporter": "python",
   "pygments_lexer": "ipython2",
   "version": "2.7.6"
  }
 },
 "nbformat": 4,
 "nbformat_minor": 0
}