{
 "cells": [
  {
   "cell_type": "markdown",
   "metadata": {
    "collapsed": true,
    "pycharm": {
     "name": "#%% md\n"
    }
   },
   "source": [
    "# Creating and Tuning Models"
   ]
  },
  {
   "cell_type": "markdown",
   "source": [
    "## Importing libraries"
   ],
   "metadata": {
    "collapsed": false
   }
  },
  {
   "cell_type": "code",
   "execution_count": 1,
   "outputs": [],
   "source": [
    "import csv\n",
    "import pickle\n",
    "from sklearn.neighbors import KNeighborsClassifier\n",
    "from sklearn.svm import SVC\n",
    "from sklearn.model_selection import train_test_split, GridSearchCV\n",
    "from sklearn.metrics import classification_report, plot_confusion_matrix\n",
    "import pandas as pd\n",
    "from matplotlib import pyplot as plt"
   ],
   "metadata": {
    "collapsed": false,
    "pycharm": {
     "name": "#%%\n"
    }
   }
  },
  {
   "cell_type": "markdown",
   "source": [
    "## Reading in CSV data\n",
    "Reading the dataset from a CSV into a DataFrame for use with the model.\n",
    "Remove unnecessary data and split into data and labels."
   ],
   "metadata": {
    "collapsed": false
   }
  },
  {
   "cell_type": "code",
   "execution_count": 2,
   "outputs": [],
   "source": [
    "music_df = pd.read_csv(\"extracted-features.csv\")\n",
    "\n",
    "# This will contain the data\n",
    "data = music_df.iloc[:, 1:].values\n",
    "# This will contain the labels corresponding to the data\n",
    "labels = music_df.iloc[:, 0].values\n",
    "\n",
    "## Split the data into training and testing sets\n",
    "data_train, data_test, labels_train, labels_test = train_test_split(data, labels, test_size=0.30)\n",
    "\n",
    "# Combine testing labels and data and store as a CSV to be used later\n",
    "testing_data = []\n",
    "for i in range(0, len(labels_test), 1):\n",
    "    testing_data.append([labels_test[i], data_test[i][0], data_test[i][1], data_test[i][2], data_test[i][3]])\n",
    "\n",
    "# print(testing_data)\n",
    "\n",
    "with open(\"testing_data.csv\", mode='w', newline='') as test_data_file:\n",
    "    test_data_writer = csv.writer(test_data_file, delimiter=',')\n",
    "    test_data_writer.writerow([\"Genre\", \"MFCC\", \"ZCR\", \"Spectral Centroid\", \"Spectral Rolloff\"])\n",
    "\n",
    "    for i in range(0, len(testing_data), 1):\n",
    "        test_data_writer.writerow(testing_data[i])"
   ],
   "metadata": {
    "collapsed": false,
    "pycharm": {
     "name": "#%%\n"
    }
   }
  },
  {
   "cell_type": "markdown",
   "source": [
    "## Cross-validate KNN to find the best hyper-parameters\n",
    "\n",
    "Use GridSearchCV to evaluate the optimal hyperparameters for the algorithm."
   ],
   "metadata": {
    "collapsed": false
   }
  },
  {
   "cell_type": "code",
   "execution_count": 3,
   "outputs": [
    {
     "name": "stdout",
     "output_type": "stream",
     "text": [
      "{'metric': 'manhattan', 'n_neighbors': 23, 'weights': 'distance'}\n",
      "              precision    recall  f1-score   support\n",
      "\n",
      "       Blues       0.31      0.29      0.30        31\n",
      "   Classical       0.75      0.78      0.76        27\n",
      "     Country       0.27      0.32      0.30        28\n",
      "       Disco       0.14      0.21      0.17        28\n",
      "      HipHop       0.13      0.21      0.16        29\n",
      "        Jazz       0.23      0.26      0.24        27\n",
      "       Metal       0.37      0.68      0.48        19\n",
      "         Pop       0.39      0.32      0.35        34\n",
      "      Reggae       0.33      0.11      0.16        38\n",
      "        Rock       0.25      0.10      0.15        39\n",
      "\n",
      "    accuracy                           0.30       300\n",
      "   macro avg       0.32      0.33      0.31       300\n",
      "weighted avg       0.31      0.30      0.29       300\n",
      "\n",
      "ROC AUC: 0.7442363003699111\n"
     ]
    },
    {
     "data": {
      "text/plain": "<Figure size 432x288 with 2 Axes>",
      "image/png": "[encoded data removed]"
     },
     "metadata": {
      "needs_background": "light"
     },
     "output_type": "display_data"
    }
   ],
   "source": [
    "knn_model = KNeighborsClassifier()\n",
    "\n",
    "param_grid = {\"n_neighbors\": range(1, 25),\n",
    "              \"weights\": [\"uniform\", \"distance\"],\n",
    "              \"metric\": [\"euclidean\", \"manhattan\", \"chebyshev\", \"minkowski\"]}\n",
    "\n",
    "scoring_metrics = {\"Accuracy\": \"accuracy\",\n",
    "                   \"AUC\": \"roc_auc_ovr\",\n",
    "                   \"F1\": \"f1_macro\"}\n",
    "\n",
    "# roc_auc_ovr sets the score to use roc_auc in one vs rest mode\n",
    "# StratifiedKFold is used by default for the cross validation\n",
    "knn_grid_search_cv = GridSearchCV(knn_model,\n",
    "                                  param_grid,\n",
    "                                  scoring=scoring_metrics,\n",
    "                                  refit=\"AUC\",\n",
    "                                  cv=5)\n",
    "\n",
    "knn_grid_search_cv.fit(data_train, labels_train)\n",
    "\n",
    "best_params = knn_grid_search_cv.best_params_\n",
    "\n",
    "print(best_params)\n",
    "\n",
    "knn_grid_predict = knn_grid_search_cv.predict(data_test)\n",
    "\n",
    "print(classification_report(labels_test, knn_grid_predict))\n",
    "\n",
    "plot_confusion_matrix(estimator=knn_grid_search_cv, X=data_test, y_true=labels_test, xticks_rotation=\"vertical\")\n",
    "plt.show()\n",
    "\n",
    "# Best score is using the metric defined in refit\n",
    "print(\"ROC AUC: \" + str(knn_grid_search_cv.best_score_))\n",
    "\n",
    "best_k_value = best_params[\"n_neighbors\"]\n",
    "best_weighting = best_params[\"weights\"]\n",
    "best_distance_metric = best_params[\"metric\"]"
   ],
   "metadata": {
    "collapsed": false,
    "pycharm": {
     "name": "#%%\n"
    }
   }
  },
  {
   "cell_type": "markdown",
   "source": [
    "## Cross-validate SVM to find the best hyper-parameters\n",
    "\n",
    "Use GridSearchCV to evaluate the optimal hyperparameters for the algorithm."
   ],
   "metadata": {
    "collapsed": false
   }
  },
  {
   "cell_type": "code",
   "execution_count": 4,
   "outputs": [
    {
     "name": "stdout",
     "output_type": "stream",
     "text": [
      "{'C': 1000, 'gamma': 'scale'}\n",
      "              precision    recall  f1-score   support\n",
      "\n",
      "       Blues       0.36      0.16      0.22        31\n",
      "   Classical       0.64      0.85      0.73        27\n",
      "     Country       0.18      0.14      0.16        28\n",
      "       Disco       0.19      0.46      0.27        28\n",
      "      HipHop       0.34      0.45      0.39        29\n",
      "        Jazz       0.24      0.37      0.29        27\n",
      "       Metal       0.39      0.63      0.48        19\n",
      "         Pop       0.50      0.50      0.50        34\n",
      "      Reggae       0.38      0.16      0.22        38\n",
      "        Rock       0.00      0.00      0.00        39\n",
      "\n",
      "    accuracy                           0.34       300\n",
      "   macro avg       0.32      0.37      0.33       300\n",
      "weighted avg       0.31      0.34      0.31       300\n",
      "\n",
      "ROC AUC: 0.7850868997408595\n"
     ]
    },
    {
     "name": "stderr",
     "output_type": "stream",
     "text": [
      "c:\\users\\jack\\appdata\\local\\programs\\python\\python39\\lib\\site-packages\\sklearn\\metrics\\_classification.py:1245: UndefinedMetricWarning: Precision and F-score are ill-defined and being set to 0.0 in labels with no predicted samples. Use `zero_division` parameter to control this behavior.\n",
      "  _warn_prf(average, modifier, msg_start, len(result))\n",
      "c:\\users\\jack\\appdata\\local\\programs\\python\\python39\\lib\\site-packages\\sklearn\\metrics\\_classification.py:1245: UndefinedMetricWarning: Precision and F-score are ill-defined and being set to 0.0 in labels with no predicted samples. Use `zero_division` parameter to control this behavior.\n",
      "  _warn_prf(average, modifier, msg_start, len(result))\n",
      "c:\\users\\jack\\appdata\\local\\programs\\python\\python39\\lib\\site-packages\\sklearn\\metrics\\_classification.py:1245: UndefinedMetricWarning: Precision and F-score are ill-defined and being set to 0.0 in labels with no predicted samples. Use `zero_division` parameter to control this behavior.\n",
      "  _warn_prf(average, modifier, msg_start, len(result))\n"
     ]
    },
    {
     "data": {
      "text/plain": "<Figure size 432x288 with 2 Axes>",
      "image/png": "[encoded data removed]"
     },
     "metadata": {
      "needs_background": "light"
     },
     "output_type": "display_data"
    }
   ],
   "source": [
    "svm_model = SVC(probability=True, kernel=\"rbf\")\n",
    "\n",
    "param_grid = {\"C\": [0.1, 1, 10, 100, 1000],\n",
    "              \"gamma\": [\"scale\", \"auto\"]}\n",
    "\n",
    "scoring_metrics = {\"Accuracy\": \"accuracy\",\n",
    "                   \"AUC\": \"roc_auc_ovr\",\n",
    "                   \"F1\": \"f1_macro\"}\n",
    "\n",
    "# roc_auc_ovr sets the score to use roc_auc in one vs rest mode\n",
    "# StratifiedKFold is used by default for the cross validation\n",
    "svm_grid_search_cv = GridSearchCV(svm_model,\n",
    "                                  param_grid,\n",
    "                                  scoring=scoring_metrics,\n",
    "                                  refit=\"AUC\",\n",
    "                                  cv=5)\n",
    "\n",
    "svm_grid_search_cv.fit(data_train, labels_train)\n",
    "\n",
    "best_params = svm_grid_search_cv.best_params_\n",
    "\n",
    "print(best_params)\n",
    "\n",
    "svm_grid_predict = svm_grid_search_cv.predict(data_test)\n",
    "\n",
    "print(classification_report(labels_test, svm_grid_predict))\n",
    "\n",
    "plot_confusion_matrix(estimator=svm_grid_search_cv, X=data_test, y_true=labels_test, xticks_rotation=\"vertical\")\n",
    "plt.show()\n",
    "\n",
    "# Best score is using the metric defined in refit\n",
    "print(\"ROC AUC: \" + str(svm_grid_search_cv.best_score_))\n",
    "\n",
    "best_c_value = best_params[\"C\"]\n",
    "best_gamma = best_params[\"gamma\"]"
   ],
   "metadata": {
    "collapsed": false,
    "pycharm": {
     "name": "#%%\n"
    }
   }
  },
  {
   "cell_type": "markdown",
   "source": [
    "## Save models\n",
    "\n",
    "Save the tuned KNN and SVM models using the optimal hyperparameters and save to a Pickle file for use with Azure."
   ],
   "metadata": {
    "collapsed": false
   }
  },
  {
   "cell_type": "code",
   "execution_count": 5,
   "outputs": [],
   "source": [
    "with open(\"models/knn.pkl\", mode=\"wb\") as model_file:\n",
    "    pickle.dump(knn_grid_search_cv, model_file)\n",
    "\n",
    "with open(\"models/svm.pkl\", mode=\"wb\") as model_file:\n",
    "    pickle.dump(svm_grid_search_cv, model_file)"
   ],
   "metadata": {
    "collapsed": false,
    "pycharm": {
     "name": "#%%\n"
    }
   }
  }
 ],
 "metadata": {
  "kernelspec": {
   "display_name": "Python 3",
   "language": "python",
   "name": "python3"
  },
  "language_info": {
   "codemirror_mode": {
    "name": "ipython",
    "version": 2
   },
   "file_extension": ".py",
   "mimetype": "text/x-python",
   "name": "python",
   "nbconvert_exporter": "python",
   "pygments_lexer": "ipython2",
   "version": "2.7.6"
  }
 },
 "nbformat": 4,
 "nbformat_minor": 0
}