{
 "cells": [
  {
   "cell_type": "markdown",
   "metadata": {
    "collapsed": true,
    "pycharm": {
     "name": "#%% md\n"
    }
   },
   "source": [
    "# Creating and Tuning Models\n",
    "\n",
    "This notebook will create, tune, and store a KNN and SVM model.<br>\n",
    "For this, the data extracted utilising the feature extraction notebook will be used for training and testing.<br>\n",
    "The testing split of this data will be stored to a CSV for later use with the webservice too.<br>"
   ]
  },
  {
   "cell_type": "markdown",
   "source": [
    "## Importing libraries\n",
    "\n",
    "All utilised libraries are imported at the beginning of the notebook to avoid out of scope errors.<br>"
   ],
   "metadata": {
    "collapsed": false
   }
  },
  {
   "cell_type": "code",
   "execution_count": 1,
   "outputs": [],
   "source": [
    "import csv\n",
    "import pickle\n",
    "from sklearn.neighbors import KNeighborsClassifier\n",
    "from sklearn.svm import SVC\n",
    "from sklearn.model_selection import train_test_split, GridSearchCV\n",
    "from sklearn.metrics import classification_report, plot_confusion_matrix\n",
    "import pandas as pd\n",
    "from matplotlib import pyplot as plt"
   ],
   "metadata": {
    "collapsed": false,
    "pycharm": {
     "name": "#%%\n"
    }
   }
  },
  {
   "cell_type": "markdown",
   "source": [
    "## Reading in CSV data\n",
    "\n",
    "Reading the dataset from a CSV into a DataFrame for use with the model.<br>\n",
    "Split into data and labels and carry out the train test split.<br>\n",
    "The testing portion of the split will also be stored to CSV for later use with the webservice.<br>"
   ],
   "metadata": {
    "collapsed": false
   }
  },
  {
   "cell_type": "code",
   "execution_count": 2,
   "outputs": [],
   "source": [
    "music_df = pd.read_csv(\"extracted-features.csv\")\n",
    "\n",
    "# This will contain the data\n",
    "data = music_df.iloc[:, 1:].values\n",
    "\n",
    "# This will contain the labels corresponding to the data\n",
    "labels = music_df.iloc[:, 0].values\n",
    "\n",
    "# Split the data into training and testing sets\n",
    "data_train, data_test, labels_train, labels_test = train_test_split(data, labels, test_size=0.30)\n",
    "\n",
    "# Combine testing labels and data and store as a CSV to be used later\n",
    "testing_data = []\n",
    "for i in range(0, len(labels_test), 1):\n",
    "    testing_data.append([labels_test[i], data_test[i][0], data_test[i][1], data_test[i][2], data_test[i][3]])\n",
    "\n",
    "with open(\"testing_data.csv\", mode='w', newline='') as test_data_file:\n",
    "    test_data_writer = csv.writer(test_data_file, delimiter=',')\n",
    "    test_data_writer.writerow([\"Genre\", \"MFCC\", \"ZCR\", \"Spectral Centroid\", \"Spectral Rolloff\"])\n",
    "\n",
    "    for i in range(0, len(testing_data), 1):\n",
    "        test_data_writer.writerow(testing_data[i])"
   ],
   "metadata": {
    "collapsed": false,
    "pycharm": {
     "name": "#%%\n"
    }
   }
  },
  {
   "cell_type": "markdown",
   "source": [
    "## Cross-validate KNN to find the best hyper-parameters\n",
    "\n",
    "Use GridSearchCV to evaluate the optimal hyperparameters for the algorithm.<br>\n",
    "Gridsearch utilises StratifiedKFold by default for cross validation.<br>\n",
    "AUROC will be utilised as the metric for determining the best parameters for the model.<br>"
   ],
   "metadata": {
    "collapsed": false
   }
  },
  {
   "cell_type": "code",
   "execution_count": 3,
   "outputs": [
    {
     "name": "stdout",
     "output_type": "stream",
     "text": [
      "{'metric': 'manhattan', 'n_neighbors': 24, 'weights': 'distance'}\n",
      "              precision    recall  f1-score   support\n",
      "\n",
      "       Blues       0.32      0.33      0.33        27\n",
      "   Classical       0.75      0.58      0.65        31\n",
      "     Country       0.19      0.27      0.23        22\n",
      "       Disco       0.14      0.15      0.14        34\n",
      "      HipHop       0.21      0.19      0.20        32\n",
      "        Jazz       0.28      0.35      0.31        26\n",
      "       Metal       0.38      0.51      0.44        37\n",
      "         Pop       0.45      0.46      0.46        28\n",
      "      Reggae       0.37      0.21      0.27        33\n",
      "        Rock       0.25      0.20      0.22        30\n",
      "\n",
      "    accuracy                           0.33       300\n",
      "   macro avg       0.34      0.33      0.32       300\n",
      "weighted avg       0.34      0.33      0.33       300\n",
      "\n"
     ]
    },
    {
     "data": {
      "text/plain": "<Figure size 432x288 with 2 Axes>",
      "image/png": "[encoded data removed]"
     },
     "metadata": {
      "needs_background": "light"
     },
     "output_type": "display_data"
    },
    {
     "name": "stdout",
     "output_type": "stream",
     "text": [
      "ROC AUC: 0.7246757200565888\n"
     ]
    }
   ],
   "source": [
    "knn_model = KNeighborsClassifier()\n",
    "\n",
    "param_grid = {\"n_neighbors\": range(1, 25),\n",
    "              \"weights\": [\"uniform\", \"distance\"],\n",
    "              \"metric\": [\"euclidean\", \"manhattan\", \"chebyshev\", \"minkowski\"]}\n",
    "\n",
    "# roc_auc_ovr sets the score to use roc_auc in one vs rest mode\n",
    "scoring_metrics = {\"Accuracy\": \"accuracy\",\n",
    "                   \"AUC\": \"roc_auc_ovr\",\n",
    "                   \"F1\": \"f1_macro\"}\n",
    "\n",
    "knn_grid_search_cv = GridSearchCV(knn_model,\n",
    "                                  param_grid,\n",
    "                                  scoring=scoring_metrics,\n",
    "                                  refit=\"AUC\",\n",
    "                                  cv=5)\n",
    "\n",
    "knn_grid_search_cv.fit(data_train, labels_train)\n",
    "\n",
    "print(knn_grid_search_cv.best_params_)\n",
    "\n",
    "knn_grid_predict = knn_grid_search_cv.predict(data_test)\n",
    "\n",
    "print(classification_report(labels_test, knn_grid_predict))\n",
    "\n",
    "plot_confusion_matrix(estimator=knn_grid_search_cv,\n",
    "                      X=data_test, y_true=labels_test,\n",
    "                      xticks_rotation=\"vertical\")\n",
    "\n",
    "plt.show()\n",
    "\n",
    "print(\"ROC AUC: \" + str(knn_grid_search_cv.best_score_))"
   ],
   "metadata": {
    "collapsed": false,
    "pycharm": {
     "name": "#%%\n"
    }
   }
  },
  {
   "cell_type": "markdown",
   "source": [
    "## Cross-validate SVM to find the best hyper-parameters\n",
    "\n",
    "Use GridSearchCV to evaluate the optimal hyperparameters for the algorithm.<br>\n",
    "Gridsearch utilises StratifiedKFold by default for cross validation.<br>\n",
    "AUROC will be utilised as the metric for determining the best parameters for the model.<br>"
   ],
   "metadata": {
    "collapsed": false
   }
  },
  {
   "cell_type": "code",
   "execution_count": 4,
   "outputs": [
    {
     "name": "stdout",
     "output_type": "stream",
     "text": [
      "{'C': 1000, 'gamma': 'scale'}\n",
      "              precision    recall  f1-score   support\n",
      "\n",
      "       Blues       0.45      0.19      0.26        27\n",
      "   Classical       0.71      0.77      0.74        31\n",
      "     Country       0.19      0.32      0.24        22\n",
      "       Disco       0.18      0.09      0.12        34\n",
      "      HipHop       0.34      0.41      0.37        32\n",
      "        Jazz       0.19      0.35      0.25        26\n",
      "       Metal       0.62      0.68      0.65        37\n",
      "         Pop       0.51      0.68      0.58        28\n",
      "      Reggae       0.47      0.21      0.29        33\n",
      "        Rock       0.29      0.23      0.26        30\n",
      "\n",
      "    accuracy                           0.40       300\n",
      "   macro avg       0.40      0.39      0.38       300\n",
      "weighted avg       0.41      0.40      0.38       300\n",
      "\n"
     ]
    },
    {
     "data": {
      "text/plain": "<Figure size 432x288 with 2 Axes>",
      "image/png": "[encoded data removed]"
     },
     "metadata": {
      "needs_background": "light"
     },
     "output_type": "display_data"
    },
    {
     "name": "stdout",
     "output_type": "stream",
     "text": [
      "ROC AUC: 0.775635026182452\n"
     ]
    }
   ],
   "source": [
    "svm_model = SVC(probability=True, kernel=\"rbf\")\n",
    "\n",
    "param_grid = {\"C\": [0.1, 1, 10, 100, 1000],\n",
    "              \"gamma\": [\"scale\", \"auto\"]}\n",
    "\n",
    "# roc_auc_ovr sets the score to use roc_auc in one vs rest mode\n",
    "scoring_metrics = {\"Accuracy\": \"accuracy\",\n",
    "                   \"AUC\": \"roc_auc_ovr\",\n",
    "                   \"F1\": \"f1_macro\"}\n",
    "\n",
    "svm_grid_search_cv = GridSearchCV(svm_model,\n",
    "                                  param_grid,\n",
    "                                  scoring=scoring_metrics,\n",
    "                                  refit=\"AUC\",\n",
    "                                  cv=5)\n",
    "\n",
    "svm_grid_search_cv.fit(data_train, labels_train)\n",
    "\n",
    "print(svm_grid_search_cv.best_params_)\n",
    "\n",
    "svm_grid_predict = svm_grid_search_cv.predict(data_test)\n",
    "\n",
    "print(classification_report(labels_test, svm_grid_predict))\n",
    "\n",
    "plot_confusion_matrix(estimator=svm_grid_search_cv,\n",
    "                      X=data_test, y_true=labels_test,\n",
    "                      xticks_rotation=\"vertical\")\n",
    "\n",
    "plt.show()\n",
    "\n",
    "print(\"ROC AUC: \" + str(svm_grid_search_cv.best_score_))"
   ],
   "metadata": {
    "collapsed": false,
    "pycharm": {
     "name": "#%%\n"
    }
   }
  },
  {
   "cell_type": "markdown",
   "source": [
    "## Save models\n",
    "\n",
    "Save the tuned KNN and SVM models to a file.<br>\n",
    "Each model will be serialized to a binary representation using the Pickle library.<br>\n",
    "Each model is saved in a pre-trained, pre-tuned state.<br>"
   ],
   "metadata": {
    "collapsed": false
   }
  },
  {
   "cell_type": "code",
   "execution_count": 5,
   "outputs": [],
   "source": [
    "with open(\"models/knn.pkl\", mode=\"wb\") as model_file:\n",
    "    pickle.dump(knn_grid_search_cv, model_file)\n",
    "\n",
    "with open(\"models/svm.pkl\", mode=\"wb\") as model_file:\n",
    "    pickle.dump(svm_grid_search_cv, model_file)"
   ],
   "metadata": {
    "collapsed": false,
    "pycharm": {
     "name": "#%%\n"
    }
   }
  }
 ],
 "metadata": {
  "kernelspec": {
   "display_name": "Python 3",
   "language": "python",
   "name": "python3"
  },
  "language_info": {
   "codemirror_mode": {
    "name": "ipython",
    "version": 2
   },
   "file_extension": ".py",
   "mimetype": "text/x-python",
   "name": "python",
   "nbconvert_exporter": "python",
   "pygments_lexer": "ipython2",
   "version": "2.7.6"
  }
 },
 "nbformat": 4,
 "nbformat_minor": 0
}