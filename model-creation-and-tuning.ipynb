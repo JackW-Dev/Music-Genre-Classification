{
 "cells": [
  {
   "cell_type": "markdown",
   "metadata": {
    "collapsed": true,
    "pycharm": {
     "name": "#%% md\n"
    }
   },
   "source": [
    "# Creating and Tuning Models"
   ]
  },
  {
   "cell_type": "markdown",
   "source": [
    "## Importing libraries"
   ],
   "metadata": {
    "collapsed": false
   }
  },
  {
   "cell_type": "code",
   "execution_count": null,
   "outputs": [],
   "source": [
    "import csv\n",
    "import pickle\n",
    "from sklearn.neighbors import KNeighborsClassifier\n",
    "from sklearn.svm import SVC\n",
    "from sklearn.model_selection import train_test_split, GridSearchCV\n",
    "from sklearn.metrics import classification_report, plot_confusion_matrix\n",
    "import pandas as pd\n",
    "from matplotlib import pyplot as plt"
   ],
   "metadata": {
    "collapsed": false,
    "pycharm": {
     "name": "#%%\n"
    }
   }
  },
  {
   "cell_type": "markdown",
   "source": [
    "## Reading in CSV data\n",
    "Reading the dataset from a CSV into a DataFrame for use with the model.\n",
    "Remove unnecessary data and split into data and labels."
   ],
   "metadata": {
    "collapsed": false
   }
  },
  {
   "cell_type": "code",
   "execution_count": null,
   "outputs": [],
   "source": [
    "music_df = pd.read_csv(\"extracted-features.csv\")\n",
    "\n",
    "## This will contain the data\n",
    "data = music_df.iloc[:, 1:].values\n",
    "## This will contain the labels corresponding to the data\n",
    "labels = music_df.iloc[:, 0].values\n",
    "\n",
    "## Split the data into training and testing sets\n",
    "data_train, data_test, labels_train, labels_test = train_test_split(data, labels, test_size = 0.30)\n",
    "\n",
    "with open(\"test_data_split.csv\", \"w\") as test_file:\n",
    "    test_writer = csv.writer(test_file, delimiter = ',')\n",
    "    test_writer.writerow([\"Genre\", \"MFCC\", \"ZCR\", \"Spectral Centroid\", \"Spectral Rolloff\"])\n",
    "\n",
    "    for i in range(0, len(data_test), 1):\n",
    "        track_num = i\n",
    "        test_writer.writerow([data_test[0], data_test[1], data_test[2], data_test[3], data_test[4]])"
   ],
   "metadata": {
    "collapsed": false,
    "pycharm": {
     "name": "#%%\n"
    }
   }
  },
  {
   "cell_type": "markdown",
   "source": [
    "## Cross-validate KNN to find the best hyper-parameters\n",
    "\n",
    "Use GridSearchCV to evaluate the optimal hyperparameters for the algorithm."
   ],
   "metadata": {
    "collapsed": false
   }
  },
  {
   "cell_type": "code",
   "execution_count": null,
   "outputs": [],
   "source": [
    "knn_model = KNeighborsClassifier()\n",
    "\n",
    "param_grid = {\"n_neighbors\": range(1, 25),\n",
    "              \"weights\": [\"uniform\", \"distance\"],\n",
    "              \"metric\": [\"euclidean\", \"manhattan\", \"chebyshev\", \"minkowski\"]}\n",
    "\n",
    "scoring_metrics = {\"Accuracy\": \"accuracy\",\n",
    "                   \"AUC\": \"roc_auc_ovr\",\n",
    "                   \"F1\": \"f1_macro\"}\n",
    "\n",
    "## roc_auc_ovr sets the score to use roc_auc in one vs rest mode\n",
    "## StratifiedKFold is used by default for the cross validation\n",
    "knn_grid_search_cv = GridSearchCV(knn_model,\n",
    "                                  param_grid,\n",
    "                                  scoring = scoring_metrics,\n",
    "                                  refit = \"AUC\",\n",
    "                                  cv = 5)\n",
    "\n",
    "knn_grid_search_cv.fit(data_train, labels_train)\n",
    "\n",
    "best_params = knn_grid_search_cv.best_params_\n",
    "\n",
    "print(best_params)\n",
    "\n",
    "knn_grid_predict = knn_grid_search_cv.predict(data_test)\n",
    "\n",
    "print(classification_report(labels_test, knn_grid_predict))\n",
    "\n",
    "plot_confusion_matrix(estimator=knn_grid_search_cv, X=data_test, y_true=labels_test, xticks_rotation=\"vertical\")\n",
    "plt.show()\n",
    "\n",
    "## Best score is using the metric defined in refit\n",
    "print(\"ROC AUC: \" + str(knn_grid_search_cv.best_score_))\n",
    "\n",
    "best_k_value = best_params[\"n_neighbors\"]\n",
    "best_weighting = best_params[\"weights\"]\n",
    "best_distance_metric = best_params[\"metric\"]"
   ],
   "metadata": {
    "collapsed": false,
    "pycharm": {
     "name": "#%%\n"
    }
   }
  },
  {
   "cell_type": "markdown",
   "source": [
    "## Cross-validate SVM to find the best hyper-parameters\n",
    "\n",
    "Use GridSearchCV to evaluate the optimal hyperparameters for the algorithm."
   ],
   "metadata": {
    "collapsed": false
   }
  },
  {
   "cell_type": "code",
   "execution_count": null,
   "outputs": [],
   "source": [
    "svm_model = SVC(probability = True, kernel = \"rbf\")\n",
    "\n",
    "param_grid = {\"C\": [0.1, 1, 10, 100, 1000],\n",
    "              \"gamma\": [\"scale\", \"auto\"]}\n",
    "\n",
    "scoring_metrics = {\"Accuracy\": \"accuracy\",\n",
    "                   \"AUC\": \"roc_auc_ovr\",\n",
    "                   \"F1\": \"f1_macro\"}\n",
    "\n",
    "## roc_auc_ovr sets the score to use roc_auc in one vs rest mode\n",
    "## StratifiedKFold is used by default for the cross validation\n",
    "svm_grid_search_cv = GridSearchCV(svm_model,\n",
    "                                  param_grid,\n",
    "                                  scoring = scoring_metrics,\n",
    "                                  refit = \"AUC\",\n",
    "                                  cv = 5)\n",
    "\n",
    "svm_grid_search_cv.fit(data_train, labels_train)\n",
    "\n",
    "best_params = svm_grid_search_cv.best_params_\n",
    "\n",
    "print(best_params)\n",
    "\n",
    "svm_grid_predict = svm_grid_search_cv.predict(data_test)\n",
    "\n",
    "print(classification_report(labels_test, svm_grid_predict))\n",
    "\n",
    "plot_confusion_matrix(estimator=svm_grid_search_cv, X=data_test, y_true=labels_test, xticks_rotation=\"vertical\")\n",
    "plt.show()\n",
    "\n",
    "## Best score is using the metric defined in refit\n",
    "print(\"ROC AUC: \" + str(svm_grid_search_cv.best_score_))\n",
    "\n",
    "best_c_value = best_params[\"C\"]\n",
    "best_gamma = best_params[\"gamma\"]"
   ],
   "metadata": {
    "collapsed": false,
    "pycharm": {
     "name": "#%%\n"
    }
   }
  },
  {
   "cell_type": "markdown",
   "source": [
    "## Save models\n",
    "\n",
    "Save the tuned KNN and SVM models using the optimal hyperparameters and save to a Pickle file for use with Azure."
   ],
   "metadata": {
    "collapsed": false
   }
  },
  {
   "cell_type": "code",
   "execution_count": null,
   "outputs": [],
   "source": [
    "with open(\"models/knn.pkl\", mode = \"wb\") as model_file:\n",
    "    pickle.dump(knn_grid_search_cv, model_file)\n",
    "\n",
    "with open(\"models/svm.pkl\", mode = \"wb\") as model_file:\n",
    "    pickle.dump(svm_grid_search_cv, model_file)"
   ],
   "metadata": {
    "collapsed": false,
    "pycharm": {
     "name": "#%%\n"
    }
   }
  }
 ],
 "metadata": {
  "kernelspec": {
   "display_name": "Python 3",
   "language": "python",
   "name": "python3"
  },
  "language_info": {
   "codemirror_mode": {
    "name": "ipython",
    "version": 2
   },
   "file_extension": ".py",
   "mimetype": "text/x-python",
   "name": "python",
   "nbconvert_exporter": "python",
   "pygments_lexer": "ipython2",
   "version": "2.7.6"
  }
 },
 "nbformat": 4,
 "nbformat_minor": 0
}