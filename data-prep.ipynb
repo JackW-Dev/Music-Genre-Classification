{
 "cells": [
  {
   "cell_type": "markdown",
   "source": [
    "# Data preparation"
   ],
   "metadata": {
    "collapsed": false
   }
  },
  {
   "cell_type": "markdown",
   "source": [
    "## Importing libraries"
   ],
   "metadata": {
    "collapsed": false
   }
  },
  {
   "cell_type": "code",
   "execution_count": 21,
   "outputs": [],
   "source": [
    "import numpy as np\n",
    "import librosa as lb\n",
    "import glob"
   ],
   "metadata": {
    "collapsed": false,
    "pycharm": {
     "name": "#%%\n"
    }
   }
  },
  {
   "cell_type": "markdown",
   "source": [
    "## Function Definitions\n",
    "All developer created functions are defined prior to the rest of the code to ensure accessibility"
   ],
   "metadata": {
    "collapsed": false
   }
  },
  {
   "cell_type": "code",
   "execution_count": 22,
   "outputs": [],
   "source": [
    "def extract_time_series(file_path):\n",
    "    time_series_array = []\n",
    "    for file_name in glob.glob(file_path + r'\\*.wav'):\n",
    "        (time_series_data, sample_rate) = lb.load(file_name)\n",
    "    #   print(len(data)/sample_rate) -- Check tracks ingested correctly (result should be 30 seconds)\n",
    "        time_series_data = np.array(time_series_data)\n",
    "        time_series_array.append(time_series_data)\n",
    "    return time_series_array"
   ],
   "metadata": {
    "collapsed": false,
    "pycharm": {
     "name": "#%%\n"
    }
   }
  },
  {
   "cell_type": "markdown",
   "source": [
    "## Reading .wav files\n",
    "File paths for the corresponding directories for each genre."
   ],
   "metadata": {
    "collapsed": false
   }
  },
  {
   "cell_type": "code",
   "execution_count": 23,
   "outputs": [],
   "source": [
    "rock_file_path = r'D:\\Uni\\Y3\\FYP\\Dataset\\GTZAN\\rock'\n",
    "metal_file_path = r'D:\\Uni\\Y3\\FYP\\Dataset\\GTZAN\\metal'\n",
    "country_file_path = r'D:\\Uni\\Y3\\FYP\\Dataset\\GTZAN\\country'\n",
    "classical_file_path = r'D:\\Uni\\Y3\\FYP\\Dataset\\GTZAN\\classical'\n",
    "disco_file_path = r'D:\\Uni\\Y3\\FYP\\Dataset\\GTZAN\\disco'\n",
    "hiphop_file_path = r'D:\\Uni\\Y3\\FYP\\Dataset\\GTZAN\\hiphop'\n",
    "jazz_file_path = r'D:\\Uni\\Y3\\FYP\\Dataset\\GTZAN\\jazz'\n",
    "reggae_file_path = r'D:\\Uni\\Y3\\FYP\\Dataset\\GTZAN\\reggae'\n",
    "blues_file_path = r'D:\\Uni\\Y3\\FYP\\Dataset\\GTZAN\\blues'\n",
    "pop_file_path = r'D:\\Uni\\Y3\\FYP\\Dataset\\GTZAN\\pop'"
   ],
   "metadata": {
    "collapsed": false,
    "pycharm": {
     "name": "#%%\n"
    }
   }
  },
  {
   "cell_type": "markdown",
   "source": [
    "Load .wav files using Librosa load and extract the time series data into an array for each track in each genre."
   ],
   "metadata": {
    "collapsed": false
   }
  },
  {
   "cell_type": "code",
   "execution_count": 24,
   "outputs": [
    {
     "name": "stdout",
     "output_type": "stream",
     "text": [
      "Rock tracks:\n",
      "[-0.03344727 -0.05490112 -0.05435181 ... -0.08416748  0.02886963\n",
      "  0.1296997 ]\n",
      "Metal tracks:\n",
      "[-0.12237549 -0.04919434  0.04440308 ... -0.17837524 -0.08401489\n",
      " -0.0284729 ]\n",
      "Country tracks:\n",
      "[-0.13415527 -0.19485474 -0.04257202 ...  0.2260437   0.15042114\n",
      "  0.04238892]\n",
      "Classical tracks:\n",
      "[-0.02008057 -0.01748657  0.00418091 ...  0.01934814  0.027771\n",
      "  0.03131104]\n",
      "Disco tracks:\n",
      "[-0.23202515 -0.23168945 -0.1979065  ... -0.17419434 -0.14257812\n",
      " -0.10617065]\n",
      "HipHop tracks:\n",
      "[-0.16915894 -0.021698    0.01956177 ...  0.07662964  0.03872681\n",
      " -0.02105713]\n",
      "Jazz tracks:\n",
      "[-0.00924683 -0.01177979 -0.01370239 ...  0.0071106   0.00561523\n",
      "  0.00561523]\n",
      "Reggae tracks:\n",
      "[ 0.01037598  0.00775146  0.03887939 ... -0.06652832 -0.05062866\n",
      " -0.03564453]\n",
      "Blues tracks:\n",
      "[0.00732421875 0.0166015625 0.00762939453125 ... -0.05560302734375\n",
      " -0.061065673828125 -0.064178466796875]\n",
      "Pop tracks:\n",
      "[-0.088714599609375 -0.095245361328125 -0.102752685546875 ...\n",
      " 0.0401611328125 0.038604736328125 0.026397705078125]\n"
     ]
    }
   ],
   "source": [
    "print(\"Rock tracks:\")\n",
    "rock_tracks =  np.array(extract_time_series(rock_file_path), dtype = object)\n",
    "print(rock_tracks[0])\n",
    "\n",
    "print(\"Metal tracks:\")\n",
    "metal_tracks =  np.array(extract_time_series(metal_file_path), dtype = object)\n",
    "print(metal_tracks[0])\n",
    "\n",
    "print(\"Country tracks:\")\n",
    "country_tracks =  np.array(extract_time_series(country_file_path), dtype = object)\n",
    "print(country_tracks[0])\n",
    "\n",
    "print(\"Classical tracks:\")\n",
    "classical_tracks =  np.array(extract_time_series(classical_file_path), dtype = object)\n",
    "print(classical_tracks[0])\n",
    "\n",
    "print(\"Disco tracks:\")\n",
    "disco_tracks =  np.array(extract_time_series(disco_file_path), dtype = object)\n",
    "print(disco_tracks[0])\n",
    "\n",
    "print(\"HipHop tracks:\")\n",
    "hiphop_tracks =  np.array(extract_time_series(hiphop_file_path), dtype = object)\n",
    "print(hiphop_tracks[0])\n",
    "\n",
    "print(\"Jazz tracks:\")\n",
    "jazz_tracks =  np.array(extract_time_series(jazz_file_path), dtype = object)\n",
    "print(jazz_tracks[0])\n",
    "\n",
    "print(\"Reggae tracks:\")\n",
    "reggae_tracks =  np.array(extract_time_series(reggae_file_path), dtype = object)\n",
    "print(reggae_tracks[0])\n",
    "\n",
    "print(\"Blues tracks:\")\n",
    "blues_tracks =  np.array(extract_time_series(blues_file_path), dtype = object)\n",
    "print(blues_tracks[0])\n",
    "\n",
    "print(\"Pop tracks:\")\n",
    "pop_tracks =  np.array(extract_time_series(pop_file_path), dtype = object)\n",
    "print(pop_tracks[0])"
   ],
   "metadata": {
    "collapsed": false,
    "pycharm": {
     "name": "#%%\n"
    }
   }
  }
 ],
 "metadata": {
  "kernelspec": {
   "name": "python3",
   "language": "python",
   "display_name": "Python 3"
  },
  "language_info": {
   "codemirror_mode": {
    "name": "ipython",
    "version": 2
   },
   "file_extension": ".py",
   "mimetype": "text/x-python",
   "name": "python",
   "nbconvert_exporter": "python",
   "pygments_lexer": "ipython2",
   "version": "2.7.6"
  }
 },
 "nbformat": 4,
 "nbformat_minor": 0
}