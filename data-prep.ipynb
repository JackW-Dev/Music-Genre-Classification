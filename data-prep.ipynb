{
 "cells": [
  {
   "cell_type": "markdown",
   "source": [
    "# Data preparation"
   ],
   "metadata": {
    "collapsed": false
   }
  },
  {
   "cell_type": "markdown",
   "source": [
    "## Importing libraries"
   ],
   "metadata": {
    "collapsed": false
   }
  },
  {
   "cell_type": "code",
   "execution_count": 25,
   "outputs": [],
   "source": [
    "import numpy as np\n",
    "import librosa as lb\n",
    "import glob"
   ],
   "metadata": {
    "collapsed": false,
    "pycharm": {
     "name": "#%%\n"
    }
   }
  },
  {
   "cell_type": "markdown",
   "source": [
    "## Function Definitions\n",
    "All developer created functions are defined prior to the rest of the code to ensure accessibility"
   ],
   "metadata": {
    "collapsed": false
   }
  },
  {
   "cell_type": "code",
   "execution_count": 26,
   "outputs": [],
   "source": [
    "def extract_time_series(file_path):\n",
    "    time_series_array = []\n",
    "    for file_name in glob.glob(file_path + r'\\*.wav'):\n",
    "        (time_series_data, sample_rate) = lb.load(file_name)\n",
    "    #   print(len(data)/sample_rate) -- Check tracks ingested correctly (result should be 30 seconds)\n",
    "        time_series_data = np.array(time_series_data)\n",
    "        time_series_array.append(time_series_data)\n",
    "    return time_series_array"
   ],
   "metadata": {
    "collapsed": false,
    "pycharm": {
     "name": "#%%\n"
    }
   }
  },
  {
   "cell_type": "markdown",
   "source": [
    "## Declare and Initialise Variables\n",
    "Variables will be declared and initialised prior to use"
   ],
   "metadata": {
    "collapsed": false
   }
  },
  {
   "cell_type": "code",
   "execution_count": 27,
   "outputs": [],
   "source": [
    "rock_mfcc = []\n",
    "metal_mfcc = []\n",
    "country_mfcc = []\n",
    "classical_mfcc = []\n",
    "disco_mfcc = []\n",
    "hiphop_mfcc = []\n",
    "jazz_mfcc = []\n",
    "reggae_mfcc = []\n",
    "blues_mfcc = []\n",
    "pop_mfcc = []"
   ],
   "metadata": {
    "collapsed": false,
    "pycharm": {
     "name": "#%%\n"
    }
   }
  },
  {
   "cell_type": "markdown",
   "source": [
    "## Reading .wav files\n",
    "File paths for the corresponding directories for each genre."
   ],
   "metadata": {
    "collapsed": false
   }
  },
  {
   "cell_type": "code",
   "execution_count": 28,
   "outputs": [],
   "source": [
    "rock_file_path = r'D:\\Uni\\Y3\\FYP\\Dataset\\GTZAN\\rock'\n",
    "metal_file_path = r'D:\\Uni\\Y3\\FYP\\Dataset\\GTZAN\\metal'\n",
    "country_file_path = r'D:\\Uni\\Y3\\FYP\\Dataset\\GTZAN\\country'\n",
    "classical_file_path = r'D:\\Uni\\Y3\\FYP\\Dataset\\GTZAN\\classical'\n",
    "disco_file_path = r'D:\\Uni\\Y3\\FYP\\Dataset\\GTZAN\\disco'\n",
    "hiphop_file_path = r'D:\\Uni\\Y3\\FYP\\Dataset\\GTZAN\\hiphop'\n",
    "jazz_file_path = r'D:\\Uni\\Y3\\FYP\\Dataset\\GTZAN\\jazz'\n",
    "reggae_file_path = r'D:\\Uni\\Y3\\FYP\\Dataset\\GTZAN\\reggae'\n",
    "blues_file_path = r'D:\\Uni\\Y3\\FYP\\Dataset\\GTZAN\\blues'\n",
    "pop_file_path = r'D:\\Uni\\Y3\\FYP\\Dataset\\GTZAN\\pop'"
   ],
   "metadata": {
    "collapsed": false,
    "pycharm": {
     "name": "#%%\n"
    }
   }
  },
  {
   "cell_type": "markdown",
   "source": [
    "Load .wav files using Librosa load and extract the time series data into an array for each track in each genre."
   ],
   "metadata": {
    "collapsed": false
   }
  },
  {
   "cell_type": "code",
   "execution_count": 29,
   "outputs": [
    {
     "name": "stdout",
     "output_type": "stream",
     "text": [
      "Rock tracks:\n",
      "[-0.03344727 -0.05490112 -0.05435181 ... -0.08416748  0.02886963\n",
      "  0.1296997 ]\n",
      "Metal tracks:\n",
      "[-0.12237549 -0.04919434  0.04440308 ... -0.17837524 -0.08401489\n",
      " -0.0284729 ]\n",
      "Country tracks:\n",
      "[-0.13415527 -0.19485474 -0.04257202 ...  0.2260437   0.15042114\n",
      "  0.04238892]\n",
      "Classical tracks:\n",
      "[-0.02008057 -0.01748657  0.00418091 ...  0.01934814  0.027771\n",
      "  0.03131104]\n",
      "Disco tracks:\n",
      "[-0.23202515 -0.23168945 -0.1979065  ... -0.17419434 -0.14257812\n",
      " -0.10617065]\n",
      "HipHop tracks:\n",
      "[-0.16915894 -0.021698    0.01956177 ...  0.07662964  0.03872681\n",
      " -0.02105713]\n",
      "Jazz tracks:\n",
      "[-0.00924683 -0.01177979 -0.01370239 ...  0.0071106   0.00561523\n",
      "  0.00561523]\n",
      "Reggae tracks:\n",
      "[ 0.01037598  0.00775146  0.03887939 ... -0.06652832 -0.05062866\n",
      " -0.03564453]\n",
      "Blues tracks:\n",
      "[ 0.00732422  0.01660156  0.00762939 ... -0.05560303 -0.06106567\n",
      " -0.06417847]\n",
      "Pop tracks:\n",
      "[-0.0887146  -0.09524536 -0.10275269 ...  0.04016113  0.03860474\n",
      "  0.02639771]\n"
     ]
    }
   ],
   "source": [
    "print(\"Rock tracks:\")\n",
    "rock_tracks =  np.array(extract_time_series(rock_file_path), dtype = object)\n",
    "print(rock_tracks[0])\n",
    "\n",
    "print(\"Metal tracks:\")\n",
    "metal_tracks =  np.array(extract_time_series(metal_file_path), dtype = object)\n",
    "print(metal_tracks[0])\n",
    "\n",
    "print(\"Country tracks:\")\n",
    "country_tracks =  np.array(extract_time_series(country_file_path), dtype = object)\n",
    "print(country_tracks[0])\n",
    "\n",
    "print(\"Classical tracks:\")\n",
    "classical_tracks =  np.array(extract_time_series(classical_file_path), dtype = object)\n",
    "print(classical_tracks[0])\n",
    "\n",
    "print(\"Disco tracks:\")\n",
    "disco_tracks =  np.array(extract_time_series(disco_file_path), dtype = object)\n",
    "print(disco_tracks[0])\n",
    "\n",
    "print(\"HipHop tracks:\")\n",
    "hiphop_tracks =  np.array(extract_time_series(hiphop_file_path), dtype = object)\n",
    "print(hiphop_tracks[0])\n",
    "\n",
    "print(\"Jazz tracks:\")\n",
    "jazz_tracks =  np.array(extract_time_series(jazz_file_path), dtype = object)\n",
    "print(jazz_tracks[0])\n",
    "\n",
    "print(\"Reggae tracks:\")\n",
    "reggae_tracks =  np.array(extract_time_series(reggae_file_path), dtype = object)\n",
    "print(reggae_tracks[0])\n",
    "\n",
    "# The following genres caused parameter errors when using dtype = object. dtype = float appears to fix this.\n",
    "\n",
    "print(\"Blues tracks:\")\n",
    "blues_tracks =  np.array(extract_time_series(blues_file_path), dtype = float)\n",
    "print(blues_tracks[0])\n",
    "\n",
    "print(\"Pop tracks:\")\n",
    "pop_tracks =  np.array(extract_time_series(pop_file_path), dtype = float)\n",
    "print(pop_tracks[0])"
   ],
   "metadata": {
    "collapsed": false,
    "pycharm": {
     "name": "#%%\n"
    }
   }
  },
  {
   "cell_type": "markdown",
   "source": [
    "## Feature extraction\n",
    "Using Librosa feature extraction, extract the MFCC, Spectral Centroid, Spectral Rolloff and Zero Crossing Rate for each track in each genre."
   ],
   "metadata": {
    "collapsed": false
   }
  },
  {
   "cell_type": "markdown",
   "source": [
    "### Extracting MFCC\n",
    "Extracting the Mel-frequency Cepstral Coefficients.\n",
    "The mean of 15 MFCC values calculated per track will be used as the MFCC for that track."
   ],
   "metadata": {
    "collapsed": false
   }
  },
  {
   "cell_type": "code",
   "execution_count": 30,
   "outputs": [
    {
     "name": "stdout",
     "output_type": "stream",
     "text": [
      "Rock MFCC:\n",
      "[  0.15879637   4.1834054    2.869029     4.7409253    6.076051\n",
      "   3.8183763    0.12723924   2.9310734    7.615611     1.282198\n",
      "   2.7413862    1.940638    -2.349305     3.178289    -6.471764\n",
      "  -5.421212     5.6245656    3.7811782    4.461006    -1.1303377\n",
      "   1.5475222    1.0081342    0.16354166  -0.81965816  -0.17370315\n",
      "   1.9661672    4.0621195   -0.18630114   3.8582406    6.2119412\n",
      "   0.39667645  -2.3142228    7.312733     0.2919577    7.242213\n",
      "   6.501367     8.247836     1.7985431    5.99482      3.7337265\n",
      "   3.2010226    5.1306033    2.5633225    2.576268     2.7038848\n",
      "  -4.5242434    0.44042298   2.272755     0.27338907   1.0270493\n",
      "   4.7724185    5.0635996   -4.774525     7.0451703   -7.535779\n",
      "   2.2616208    7.384728     3.4679127   -1.4229873   -3.1948285\n",
      "   2.1342852   -2.0885043   -5.1572556   -5.384867    -2.0934834\n",
      "   2.2510405  -10.624068     0.03572607   0.5802954   -7.571326\n",
      "  -7.5532823    6.397498     5.8087955    6.153874     5.5638986\n",
      "   3.125104     3.700396     3.833048     3.416547     1.5890063\n",
      "   0.76099956  -3.6383061   -0.35216364   2.1053085    1.3822377\n",
      "  -7.820229    -5.6633162    4.408034    -4.139223    -0.17454785\n",
      "  -0.71085757   1.324751    -1.4806507   -0.8264385   -1.1303297\n",
      "  -1.1712912   -1.3158785   -2.068314    -2.0308032   -3.85579   ]\n",
      "Blues MFCC:\n",
      "[  2.74593435  -0.12345724   2.22987112   0.49034704  -9.47848445\n",
      "  -8.04163454  -7.95016182  -5.07495661   3.00972818  -6.37171919\n",
      "  -4.16200632  -8.0560237   -2.05526604  -0.97641578  -4.41525768\n",
      "  -3.74477776  -2.6214058   -1.11887636  -3.46572259  -2.889885\n",
      "  -2.90513159  -1.13050391  -0.04859331  -3.22622315  -2.93561631\n",
      "  -1.07286619  -4.53308694  -4.23832523  -3.42331347  -8.12586926\n",
      "  -7.17013647  -9.04353271 -10.97930407  -9.92838481  -7.91097208\n",
      "  -5.9250524   -9.03418382 -13.55157046  -6.80862481 -14.83192517\n",
      "   3.11546348   3.57650922   2.0513928    2.93915723   4.03805638\n",
      "   2.59068497   0.48883294  -0.31378245   3.00455234  -4.25006587\n",
      "   6.17134809   6.39196529  -0.79221137   4.21461555   7.53464473\n",
      "   4.0438474    2.13577907   4.86338451   2.6793247    4.68836562\n",
      "   6.86170159   3.55106892  -3.87673733  -5.08997688  -1.63610808\n",
      "  -5.12675304  -0.10098497  -0.76673342  -2.0156954   -6.1564934\n",
      "  -3.23491737  -0.11510048  -4.9849331    6.89839212   5.47493414\n",
      "   5.78504029   6.27165986   6.62422595   7.25534416   8.30025072\n",
      "   4.56446616   3.86705087   4.7900939    8.4313479    6.45083439\n",
      "   1.24171337   0.3068956    1.0730125    1.66436679  -7.4320238\n",
      "   2.27178003  -0.20349731  -4.43590491  -4.3070606    0.51051612\n",
      "   4.29851687 -11.36668309   4.20876689   2.83829249  -3.37803544]\n"
     ]
    }
   ],
   "source": [
    "for i in range(0, 100, 1):\n",
    "    rock_mfcc.append(np.mean(lb.feature.mfcc(rock_tracks[i].flatten(), n_mfcc = 15)))\n",
    "    metal_mfcc.append(np.mean(lb.feature.mfcc(metal_tracks[i].flatten(), n_mfcc = 15)))\n",
    "    country_mfcc.append(np.mean(lb.feature.mfcc(country_tracks[i].flatten(), n_mfcc = 15)))\n",
    "    classical_mfcc.append(np.mean(lb.feature.mfcc(classical_tracks[i].flatten(), n_mfcc = 15)))\n",
    "    disco_mfcc.append(np.mean(lb.feature.mfcc(disco_tracks[i].flatten(), n_mfcc = 15)))\n",
    "    hiphop_mfcc.append(np.mean(lb.feature.mfcc(hiphop_tracks[i].flatten(), n_mfcc = 15)))\n",
    "    jazz_mfcc.append(np.mean(lb.feature.mfcc(jazz_tracks[i].flatten(), n_mfcc = 15)))\n",
    "    reggae_mfcc.append(np.mean(lb.feature.mfcc(reggae_tracks[i].flatten(), n_mfcc = 15)))\n",
    "    blues_mfcc.append(np.mean(lb.feature.mfcc(blues_tracks[i].flatten(), n_mfcc = 15)))\n",
    "    pop_mfcc.append(np.mean(lb.feature.mfcc(pop_tracks[i].flatten(), n_mfcc = 15)))\n",
    "\n",
    "rock_mfcc = np.array(rock_mfcc)\n",
    "metal_mfcc = np.array(metal_mfcc)\n",
    "country_mfcc = np.array(country_mfcc)\n",
    "classical_mfcc = np.array(classical_mfcc)\n",
    "disco_mfcc = np.array(disco_mfcc)\n",
    "hiphop_mfcc = np.array(hiphop_mfcc)\n",
    "jazz_mfcc = np.array(jazz_mfcc)\n",
    "reggae_mfcc = np.array(reggae_mfcc)\n",
    "blues_mfcc = np.array(blues_mfcc)\n",
    "pop_mfcc = np.array(pop_mfcc)\n",
    "\n",
    "print(\"Rock MFCC:\")\n",
    "print(rock_mfcc)\n",
    "\n",
    "print(\"Blues MFCC:\")\n",
    "print(blues_mfcc)"
   ],
   "metadata": {
    "collapsed": false,
    "pycharm": {
     "name": "#%%\n"
    }
   }
  }
 ],
 "metadata": {
  "kernelspec": {
   "name": "python3",
   "language": "python",
   "display_name": "Python 3"
  },
  "language_info": {
   "codemirror_mode": {
    "name": "ipython",
    "version": 2
   },
   "file_extension": ".py",
   "mimetype": "text/x-python",
   "name": "python",
   "nbconvert_exporter": "python",
   "pygments_lexer": "ipython2",
   "version": "2.7.6"
  }
 },
 "nbformat": 4,
 "nbformat_minor": 0
}